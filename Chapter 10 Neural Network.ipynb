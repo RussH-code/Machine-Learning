{
 "cells": [
  {
   "cell_type": "markdown",
   "metadata": {},
   "source": [
    "# Neural Network"
   ]
  },
  {
   "cell_type": "code",
   "execution_count": 1,
   "metadata": {},
   "outputs": [],
   "source": [
    "import numpy as np\n",
    "from sklearn.datasets import load_iris\n",
    "from sklearn.linear_model import Perceptron"
   ]
  },
  {
   "cell_type": "code",
   "execution_count": 2,
   "metadata": {},
   "outputs": [],
   "source": [
    "iris = load_iris()"
   ]
  },
  {
   "cell_type": "code",
   "execution_count": 3,
   "metadata": {},
   "outputs": [],
   "source": [
    "X = iris.data[:, (2, 3)] # Petal length, petal width\n",
    "y = (iris.target == 0).astype(np.int) # Iris Setosa?"
   ]
  },
  {
   "cell_type": "code",
   "execution_count": 4,
   "metadata": {},
   "outputs": [
    {
     "data": {
      "text/plain": [
       "Perceptron()"
      ]
     },
     "execution_count": 4,
     "metadata": {},
     "output_type": "execute_result"
    }
   ],
   "source": [
    "per_clf = Perceptron()\n",
    "per_clf.fit(X, y)"
   ]
  },
  {
   "cell_type": "code",
   "execution_count": 5,
   "metadata": {},
   "outputs": [
    {
     "data": {
      "text/plain": [
       "array([0])"
      ]
     },
     "execution_count": 5,
     "metadata": {},
     "output_type": "execute_result"
    }
   ],
   "source": [
    "y_pred = per_clf.predict([[2, 0.5]])\n",
    "y_pred"
   ]
  },
  {
   "cell_type": "markdown",
   "metadata": {},
   "source": [
    "Perceptron does not output a class probability, they only makr predictions based on hard threshold"
   ]
  },
  {
   "cell_type": "code",
   "execution_count": 6,
   "metadata": {},
   "outputs": [],
   "source": [
    "import tensorflow as tf\n",
    "from tensorflow import keras"
   ]
  },
  {
   "cell_type": "code",
   "execution_count": 7,
   "metadata": {},
   "outputs": [
    {
     "data": {
      "text/plain": [
       "'2.4.1'"
      ]
     },
     "execution_count": 7,
     "metadata": {},
     "output_type": "execute_result"
    }
   ],
   "source": [
    "tf.__version__"
   ]
  },
  {
   "cell_type": "code",
   "execution_count": 8,
   "metadata": {},
   "outputs": [
    {
     "data": {
      "text/plain": [
       "'2.4.0'"
      ]
     },
     "execution_count": 8,
     "metadata": {},
     "output_type": "execute_result"
    }
   ],
   "source": [
    "keras.__version__"
   ]
  },
  {
   "cell_type": "markdown",
   "metadata": {},
   "source": [
    "# 1. Image Classifier"
   ]
  },
  {
   "cell_type": "markdown",
   "metadata": {},
   "source": [
    "Let's start by loading the fashion MNIST dataset. Keras has a number of functions to load popular datasets in keras.datasets. The dataset is already split for you between a training set and a test set, but it can be useful to split the training set further to have a validation set:"
   ]
  },
  {
   "cell_type": "code",
   "execution_count": 9,
   "metadata": {},
   "outputs": [],
   "source": [
    "fashion_mnist = keras.datasets.fashion_mnist\n",
    "(X_train_full, y_train_full), (X_test, y_test) = fashion_mnist.load_data()"
   ]
  },
  {
   "cell_type": "markdown",
   "metadata": {},
   "source": [
    "The training set contains 60,000 grayscale images, each 28x28 pixels:"
   ]
  },
  {
   "cell_type": "code",
   "execution_count": 10,
   "metadata": {},
   "outputs": [
    {
     "data": {
      "text/plain": [
       "(60000, 28, 28)"
      ]
     },
     "execution_count": 10,
     "metadata": {},
     "output_type": "execute_result"
    }
   ],
   "source": [
    "X_train_full.shape"
   ]
  },
  {
   "cell_type": "markdown",
   "metadata": {},
   "source": [
    "Let's split the full training set into a validation set and a (smaller) training set. We also scale the pixel intensities down to the 0-1 range and convert them to floats, by dividing by 255."
   ]
  },
  {
   "cell_type": "code",
   "execution_count": 11,
   "metadata": {},
   "outputs": [],
   "source": [
    "X_valid, X_train = X_train_full[:5000]/255., X_train_full[5000:]/255.\n",
    "y_valid, y_train = y_train_full[:5000], y_train_full[5000:]\n",
    "X_test = X_test/255"
   ]
  },
  {
   "cell_type": "code",
   "execution_count": 12,
   "metadata": {},
   "outputs": [],
   "source": [
    "import matplotlib.pyplot as plt"
   ]
  },
  {
   "cell_type": "code",
   "execution_count": 13,
   "metadata": {},
   "outputs": [
    {
     "data": {
      "image/png": "[encoded data removed]",
      "text/plain": [
       "<Figure size 432x288 with 1 Axes>"
      ]
     },
     "metadata": {
      "needs_background": "light"
     },
     "output_type": "display_data"
    }
   ],
   "source": [
    "plt.imshow(X_train[0], cmap='binary')\n",
    "plt.axis('off')\n",
    "plt.show()"
   ]
  },
  {
   "cell_type": "markdown",
   "metadata": {},
   "source": [
    "The labels are the class IDs (represented as uint8), from 0 to 9:"
   ]
  },
  {
   "cell_type": "code",
   "execution_count": 14,
   "metadata": {},
   "outputs": [
    {
     "data": {
      "text/plain": [
       "array([0, 1, 2, 3, 4, 5, 6, 7, 8, 9], dtype=uint8)"
      ]
     },
     "execution_count": 14,
     "metadata": {},
     "output_type": "execute_result"
    }
   ],
   "source": [
    "np.unique(y_train)"
   ]
  },
  {
   "cell_type": "markdown",
   "metadata": {},
   "source": [
    "Here are the corresponding class names:"
   ]
  },
  {
   "cell_type": "code",
   "execution_count": 15,
   "metadata": {},
   "outputs": [],
   "source": [
    "class_names = [\"T-shirt/top\", \"Trouser\", \"Pullover\", \"Dress\", \"Coat\",\n",
    "               \"Sandal\", \"Shirt\", \"Sneaker\", \"Bag\", \"Ankle boot\"]"
   ]
  },
  {
   "cell_type": "code",
   "execution_count": 16,
   "metadata": {},
   "outputs": [
    {
     "data": {
      "text/plain": [
       "'Coat'"
      ]
     },
     "execution_count": 16,
     "metadata": {},
     "output_type": "execute_result"
    }
   ],
   "source": [
    "class_names[y_train[0]]"
   ]
  },
  {
   "cell_type": "code",
   "execution_count": 17,
   "metadata": {},
   "outputs": [
    {
     "data": {
      "image/png": "[encoded data removed]",
      "text/plain": [
       "<Figure size 864x345.6 with 40 Axes>"
      ]
     },
     "metadata": {
      "needs_background": "light"
     },
     "output_type": "display_data"
    }
   ],
   "source": [
    "n_rows = 4\n",
    "n_cols = 10\n",
    "plt.figure(figsize=(n_cols*1.2, n_rows*1.2))\n",
    "for row in range(n_rows):\n",
    "    for col in range(n_cols):\n",
    "        index = n_cols*row+col\n",
    "        plt.subplot(n_rows, n_cols, index+1)\n",
    "        plt.imshow(X_train[index], cmap='binary', interpolation='nearest')\n",
    "        plt.axis('off')\n",
    "        plt.title(class_names[y_train[index]], fontsize=12)\n",
    "plt.subplots_adjust(wspace=0.2, hspace=0.5)\n",
    "plt.show()"
   ]
  },
  {
   "cell_type": "markdown",
   "metadata": {},
   "source": [
    "## Creating the Model using Sequential API"
   ]
  },
  {
   "cell_type": "code",
   "execution_count": 18,
   "metadata": {},
   "outputs": [],
   "source": [
    "model = keras.models.Sequential()\n",
    "model.add(keras.layers.Flatten(input_shape=[28, 28]))\n",
    "model.add(keras.layers.Dense(300, activation=\"relu\"))\n",
    "model.add(keras.layers.Dense(100, activation=\"relu\"))\n",
    "model.add(keras.layers.Dense(10, activation=\"softmax\"))"
   ]
  },
  {
   "cell_type": "markdown",
   "metadata": {},
   "source": [
    "- The first line creates a `Sequential` model. This is the simplest kind of Keras model, for neural networks that are just composed of a single stack of layers, connected sequentially. This is called the sequential API."
   ]
  },
  {
   "cell_type": "markdown",
   "metadata": {},
   "source": [
    "- The second line builds the first layer and add it to the model. It is a `Flatten` layer whose role is to convert each input image into a 1D array: if it receives input data `X`, it computes `X.reshape(-1, 1)`. This layer does not contain any parameters, but we will need to specify input size (the shape of an input instance) with `shape=[28, 28]`."
   ]
  },
  {
   "cell_type": "markdown",
   "metadata": {},
   "source": [
    "- The third line adds a **Dense** layer with 300 neurons, that used **ReLU** activation function. Each **Dense** layer manages its own weight matrix, containing all the connection weights between neurons and inputs. It also manages a vector of bias terms (one per neuron). "
   ]
  },
  {
   "cell_type": "code",
   "execution_count": 19,
   "metadata": {},
   "outputs": [
    {
     "data": {
      "text/plain": [
       "[<tensorflow.python.keras.layers.core.Flatten at 0x206f56cfa58>,\n",
       " <tensorflow.python.keras.layers.core.Dense at 0x206f55b2d68>,\n",
       " <tensorflow.python.keras.layers.core.Dense at 0x206f56b7470>,\n",
       " <tensorflow.python.keras.layers.core.Dense at 0x206fb7129e8>]"
      ]
     },
     "execution_count": 19,
     "metadata": {},
     "output_type": "execute_result"
    }
   ],
   "source": [
    "model.layers"
   ]
  },
  {
   "cell_type": "code",
   "execution_count": 20,
   "metadata": {},
   "outputs": [
    {
     "name": "stdout",
     "output_type": "stream",
     "text": [
      "Model: \"sequential\"\n",
      "_________________________________________________________________\n",
      "Layer (type)                 Output Shape              Param #   \n",
      "=================================================================\n",
      "flatten (Flatten)            (None, 784)               0         \n",
      "_________________________________________________________________\n",
      "dense (Dense)                (None, 300)               235500    \n",
      "_________________________________________________________________\n",
      "dense_1 (Dense)              (None, 100)               30100     \n",
      "_________________________________________________________________\n",
      "dense_2 (Dense)              (None, 10)                1010      \n",
      "=================================================================\n",
      "Total params: 266,610\n",
      "Trainable params: 266,610\n",
      "Non-trainable params: 0\n",
      "_________________________________________________________________\n"
     ]
    }
   ],
   "source": [
    "model.summary()"
   ]
  },
  {
   "cell_type": "markdown",
   "metadata": {},
   "source": [
    "The first hidden layer has 28x28x300 connection weights, plus 300 bias terms, which adds up to 235,500 parameters."
   ]
  },
  {
   "cell_type": "code",
   "execution_count": 21,
   "metadata": {},
   "outputs": [
    {
     "data": {
      "text/plain": [
       "'dense_2'"
      ]
     },
     "execution_count": 21,
     "metadata": {},
     "output_type": "execute_result"
    }
   ],
   "source": [
    "model.layers[3].name"
   ]
  },
  {
   "cell_type": "markdown",
   "metadata": {},
   "source": [
    "All the parameters of a layer can be accessed using its `get_weights()` and `set_weights()` method. For a **Dense** layer, this includes both the connection weights and the bias terms:"
   ]
  },
  {
   "cell_type": "code",
   "execution_count": 22,
   "metadata": {},
   "outputs": [
    {
     "data": {
      "text/plain": [
       "array([[-0.04181873,  0.06728329, -0.06207846, ..., -0.03230361,\n",
       "        -0.05463147,  0.01553111],\n",
       "       [-0.02138128, -0.00118359, -0.02757598, ..., -0.02698426,\n",
       "         0.02177705, -0.00292013],\n",
       "       [-0.00038784, -0.05830839, -0.06384118, ...,  0.02734109,\n",
       "         0.05323733,  0.05534615],\n",
       "       ...,\n",
       "       [ 0.06695357,  0.05893809,  0.02887783, ...,  0.03043403,\n",
       "        -0.0199509 ,  0.05634052],\n",
       "       [ 0.04998983, -0.02520984,  0.04209451, ...,  0.04696402,\n",
       "        -0.04810041, -0.02476488],\n",
       "       [-0.03849082, -0.019275  , -0.01244703, ..., -0.03253449,\n",
       "         0.01044495,  0.03222159]], dtype=float32)"
      ]
     },
     "execution_count": 22,
     "metadata": {},
     "output_type": "execute_result"
    }
   ],
   "source": [
    "weights, biases = model.layers[1].get_weights()\n",
    "weights"
   ]
  },
  {
   "cell_type": "code",
   "execution_count": 23,
   "metadata": {},
   "outputs": [
    {
     "data": {
      "text/plain": [
       "array([0., 0., 0., 0., 0., 0., 0., 0., 0., 0., 0., 0., 0., 0., 0., 0., 0.,\n",
       "       0., 0., 0., 0., 0., 0., 0., 0., 0., 0., 0., 0., 0., 0., 0., 0., 0.,\n",
       "       0., 0., 0., 0., 0., 0., 0., 0., 0., 0., 0., 0., 0., 0., 0., 0., 0.,\n",
       "       0., 0., 0., 0., 0., 0., 0., 0., 0., 0., 0., 0., 0., 0., 0., 0., 0.,\n",
       "       0., 0., 0., 0., 0., 0., 0., 0., 0., 0., 0., 0., 0., 0., 0., 0., 0.,\n",
       "       0., 0., 0., 0., 0., 0., 0., 0., 0., 0., 0., 0., 0., 0., 0., 0., 0.,\n",
       "       0., 0., 0., 0., 0., 0., 0., 0., 0., 0., 0., 0., 0., 0., 0., 0., 0.,\n",
       "       0., 0., 0., 0., 0., 0., 0., 0., 0., 0., 0., 0., 0., 0., 0., 0., 0.,\n",
       "       0., 0., 0., 0., 0., 0., 0., 0., 0., 0., 0., 0., 0., 0., 0., 0., 0.,\n",
       "       0., 0., 0., 0., 0., 0., 0., 0., 0., 0., 0., 0., 0., 0., 0., 0., 0.,\n",
       "       0., 0., 0., 0., 0., 0., 0., 0., 0., 0., 0., 0., 0., 0., 0., 0., 0.,\n",
       "       0., 0., 0., 0., 0., 0., 0., 0., 0., 0., 0., 0., 0., 0., 0., 0., 0.,\n",
       "       0., 0., 0., 0., 0., 0., 0., 0., 0., 0., 0., 0., 0., 0., 0., 0., 0.,\n",
       "       0., 0., 0., 0., 0., 0., 0., 0., 0., 0., 0., 0., 0., 0., 0., 0., 0.,\n",
       "       0., 0., 0., 0., 0., 0., 0., 0., 0., 0., 0., 0., 0., 0., 0., 0., 0.,\n",
       "       0., 0., 0., 0., 0., 0., 0., 0., 0., 0., 0., 0., 0., 0., 0., 0., 0.,\n",
       "       0., 0., 0., 0., 0., 0., 0., 0., 0., 0., 0., 0., 0., 0., 0., 0., 0.,\n",
       "       0., 0., 0., 0., 0., 0., 0., 0., 0., 0., 0.], dtype=float32)"
      ]
     },
     "execution_count": 23,
     "metadata": {},
     "output_type": "execute_result"
    }
   ],
   "source": [
    "biases"
   ]
  },
  {
   "cell_type": "markdown",
   "metadata": {},
   "source": [
    "Notice that the Dense layer initialized the connection weights randomly (which is\n",
    "needed to break symmetry, as we discussed earlier), and the biases were just initialized\n",
    "to zeros, which is fine."
   ]
  },
  {
   "cell_type": "markdown",
   "metadata": {},
   "source": [
    "## Compiling the model"
   ]
  },
  {
   "cell_type": "code",
   "execution_count": 24,
   "metadata": {},
   "outputs": [],
   "source": [
    "model.compile(loss=\"sparse_categorical_crossentropy\",\n",
    "             optimizer=\"sgd\",       ## train with stochastic gradient descent\n",
    "             metrics=[\"accuracy\"])  ## Evaluate with accuracy"
   ]
  },
  {
   "cell_type": "markdown",
   "metadata": {},
   "source": [
    "## Training and Evaluating the model"
   ]
  },
  {
   "cell_type": "markdown",
   "metadata": {},
   "source": [
    "To train the model, we simply use the `fit()` method. We pass it the input features (X_train) and the target class (y_train), as well as the number of epochs to train. \n",
    "\n",
    "If we also pass a validation set, Keras will measure the loss and extra metrics n this set at the end of each epochs. This is useful to see how well the model really performs. If the performance on training set is much better than on validation set, the model is probably overfitting."
   ]
  },
  {
   "cell_type": "code",
   "execution_count": 25,
   "metadata": {},
   "outputs": [
    {
     "name": "stdout",
     "output_type": "stream",
     "text": [
      "Epoch 1/30\n",
      "1719/1719 [==============================] - 3s 1ms/step - loss: 0.9909 - accuracy: 0.6902 - val_loss: 0.5215 - val_accuracy: 0.8236\n",
      "Epoch 2/30\n",
      "1719/1719 [==============================] - 2s 990us/step - loss: 0.4994 - accuracy: 0.8264 - val_loss: 0.4376 - val_accuracy: 0.8514\n",
      "Epoch 3/30\n",
      "1719/1719 [==============================] - 2s 973us/step - loss: 0.4465 - accuracy: 0.8424 - val_loss: 0.4356 - val_accuracy: 0.8476\n",
      "Epoch 4/30\n",
      "1719/1719 [==============================] - 2s 997us/step - loss: 0.4225 - accuracy: 0.8513 - val_loss: 0.4219 - val_accuracy: 0.8580\n",
      "Epoch 5/30\n",
      "1719/1719 [==============================] - 2s 949us/step - loss: 0.3991 - accuracy: 0.8592 - val_loss: 0.4019 - val_accuracy: 0.8560\n",
      "Epoch 6/30\n",
      "1719/1719 [==============================] - 2s 968us/step - loss: 0.3815 - accuracy: 0.8665 - val_loss: 0.3809 - val_accuracy: 0.8640\n",
      "Epoch 7/30\n",
      "1719/1719 [==============================] - 2s 974us/step - loss: 0.3677 - accuracy: 0.8699 - val_loss: 0.3840 - val_accuracy: 0.8656\n",
      "Epoch 8/30\n",
      "1719/1719 [==============================] - 2s 1ms/step - loss: 0.3590 - accuracy: 0.8734 - val_loss: 0.3597 - val_accuracy: 0.8754\n",
      "Epoch 9/30\n",
      "1719/1719 [==============================] - 2s 959us/step - loss: 0.3474 - accuracy: 0.8775 - val_loss: 0.4081 - val_accuracy: 0.8552\n",
      "Epoch 10/30\n",
      "1719/1719 [==============================] - 2s 978us/step - loss: 0.3385 - accuracy: 0.8793 - val_loss: 0.3472 - val_accuracy: 0.8748\n",
      "Epoch 11/30\n",
      "1719/1719 [==============================] - 2s 1ms/step - loss: 0.3259 - accuracy: 0.8841 - val_loss: 0.3453 - val_accuracy: 0.8790\n",
      "Epoch 12/30\n",
      "1719/1719 [==============================] - 2s 1ms/step - loss: 0.3229 - accuracy: 0.8837 - val_loss: 0.3386 - val_accuracy: 0.8812\n",
      "Epoch 13/30\n",
      "1719/1719 [==============================] - 2s 974us/step - loss: 0.3154 - accuracy: 0.8867 - val_loss: 0.3370 - val_accuracy: 0.8782\n",
      "Epoch 14/30\n",
      "1719/1719 [==============================] - 2s 1ms/step - loss: 0.3044 - accuracy: 0.8907 - val_loss: 0.3365 - val_accuracy: 0.8808\n",
      "Epoch 15/30\n",
      "1719/1719 [==============================] - 2s 1ms/step - loss: 0.2983 - accuracy: 0.8933 - val_loss: 0.3479 - val_accuracy: 0.8804\n",
      "Epoch 16/30\n",
      "1719/1719 [==============================] - 2s 1ms/step - loss: 0.2917 - accuracy: 0.8948 - val_loss: 0.3255 - val_accuracy: 0.8872\n",
      "Epoch 17/30\n",
      "1719/1719 [==============================] - 2s 994us/step - loss: 0.2872 - accuracy: 0.8974 - val_loss: 0.3168 - val_accuracy: 0.8880\n",
      "Epoch 18/30\n",
      "1719/1719 [==============================] - 2s 1ms/step - loss: 0.2823 - accuracy: 0.8990 - val_loss: 0.3248 - val_accuracy: 0.8864\n",
      "Epoch 19/30\n",
      "1719/1719 [==============================] - 2s 999us/step - loss: 0.2718 - accuracy: 0.9019 - val_loss: 0.3102 - val_accuracy: 0.8888\n",
      "Epoch 20/30\n",
      "1719/1719 [==============================] - 2s 1ms/step - loss: 0.2673 - accuracy: 0.9034 - val_loss: 0.3235 - val_accuracy: 0.8858\n",
      "Epoch 21/30\n",
      "1719/1719 [==============================] - 2s 1ms/step - loss: 0.2632 - accuracy: 0.9038 - val_loss: 0.3054 - val_accuracy: 0.8914\n",
      "Epoch 22/30\n",
      "1719/1719 [==============================] - 2s 1ms/step - loss: 0.2610 - accuracy: 0.9051 - val_loss: 0.3066 - val_accuracy: 0.8918\n",
      "Epoch 23/30\n",
      "1719/1719 [==============================] - 2s 1ms/step - loss: 0.2552 - accuracy: 0.9079 - val_loss: 0.3244 - val_accuracy: 0.8838\n",
      "Epoch 24/30\n",
      "1719/1719 [==============================] - 2s 1ms/step - loss: 0.2541 - accuracy: 0.9079 - val_loss: 0.2952 - val_accuracy: 0.8940\n",
      "Epoch 25/30\n",
      "1719/1719 [==============================] - 2s 1ms/step - loss: 0.2439 - accuracy: 0.9109 - val_loss: 0.3125 - val_accuracy: 0.8870\n",
      "Epoch 26/30\n",
      "1719/1719 [==============================] - 2s 1ms/step - loss: 0.2441 - accuracy: 0.9129 - val_loss: 0.3113 - val_accuracy: 0.8912\n",
      "Epoch 27/30\n",
      "1719/1719 [==============================] - 2s 1ms/step - loss: 0.2401 - accuracy: 0.9126 - val_loss: 0.3008 - val_accuracy: 0.8934\n",
      "Epoch 28/30\n",
      "1719/1719 [==============================] - 2s 1ms/step - loss: 0.2349 - accuracy: 0.9165 - val_loss: 0.2976 - val_accuracy: 0.8952\n",
      "Epoch 29/30\n",
      "1719/1719 [==============================] - 2s 1ms/step - loss: 0.2298 - accuracy: 0.9184 - val_loss: 0.3019 - val_accuracy: 0.8940\n",
      "Epoch 30/30\n",
      "1719/1719 [==============================] - 2s 1ms/step - loss: 0.2261 - accuracy: 0.9195 - val_loss: 0.3106 - val_accuracy: 0.8914\n"
     ]
    }
   ],
   "source": [
    "history = model.fit(X_train, y_train, epochs=30, validation_data=(X_valid, y_valid))"
   ]
  },
  {
   "cell_type": "code",
   "execution_count": 26,
   "metadata": {},
   "outputs": [
    {
     "data": {
      "text/plain": [
       "{'verbose': 1, 'epochs': 30, 'steps': 1719}"
      ]
     },
     "execution_count": 26,
     "metadata": {},
     "output_type": "execute_result"
    }
   ],
   "source": [
    "history.params"
   ]
  },
  {
   "cell_type": "code",
   "execution_count": 27,
   "metadata": {},
   "outputs": [
    {
     "name": "stdout",
     "output_type": "stream",
     "text": [
      "[0, 1, 2, 3, 4, 5, 6, 7, 8, 9, 10, 11, 12, 13, 14, 15, 16, 17, 18, 19, 20, 21, 22, 23, 24, 25, 26, 27, 28, 29]\n"
     ]
    }
   ],
   "source": [
    "print(history.epoch)"
   ]
  },
  {
   "cell_type": "code",
   "execution_count": 28,
   "metadata": {},
   "outputs": [
    {
     "data": {
      "text/plain": [
       "dict_keys(['loss', 'accuracy', 'val_loss', 'val_accuracy'])"
      ]
     },
     "execution_count": 28,
     "metadata": {},
     "output_type": "execute_result"
    }
   ],
   "source": [
    "history.history.keys()"
   ]
  },
  {
   "cell_type": "code",
   "execution_count": 29,
   "metadata": {},
   "outputs": [],
   "source": [
    "import pandas as pd"
   ]
  },
  {
   "cell_type": "code",
   "execution_count": 30,
   "metadata": {},
   "outputs": [
    {
     "data": {
      "image/png": "[encoded data removed]",
      "text/plain": [
       "<Figure size 576x360 with 1 Axes>"
      ]
     },
     "metadata": {
      "needs_background": "light"
     },
     "output_type": "display_data"
    }
   ],
   "source": [
    "pd.DataFrame(history.history).plot(figsize=(8, 5))\n",
    "plt.grid(True)\n",
    "plt.gca().set_ylim(0, 1)\n",
    "plt.show()"
   ]
  },
  {
   "cell_type": "code",
   "execution_count": 31,
   "metadata": {},
   "outputs": [
    {
     "name": "stdout",
     "output_type": "stream",
     "text": [
      "313/313 [==============================] - 0s 709us/step - loss: 0.3414 - accuracy: 0.8797\n"
     ]
    },
    {
     "data": {
      "text/plain": [
       "[0.3413792848587036, 0.8797000050544739]"
      ]
     },
     "execution_count": 31,
     "metadata": {},
     "output_type": "execute_result"
    }
   ],
   "source": [
    "model.evaluate(X_test, y_test)"
   ]
  },
  {
   "cell_type": "markdown",
   "metadata": {},
   "source": [
    "## Making predictions"
   ]
  },
  {
   "cell_type": "code",
   "execution_count": 32,
   "metadata": {},
   "outputs": [
    {
     "data": {
      "text/plain": [
       "array([[0.  , 0.  , 0.  , 0.  , 0.  , 0.02, 0.  , 0.05, 0.  , 0.94],\n",
       "       [0.  , 0.  , 0.98, 0.  , 0.02, 0.  , 0.  , 0.  , 0.  , 0.  ],\n",
       "       [0.  , 1.  , 0.  , 0.  , 0.  , 0.  , 0.  , 0.  , 0.  , 0.  ]],\n",
       "      dtype=float32)"
      ]
     },
     "execution_count": 32,
     "metadata": {},
     "output_type": "execute_result"
    }
   ],
   "source": [
    "X_new = X_test[:3]\n",
    "y_prob = model.predict(X_new)\n",
    "y_prob.round(2)"
   ]
  },
  {
   "cell_type": "code",
   "execution_count": 33,
   "metadata": {},
   "outputs": [
    {
     "data": {
      "text/plain": [
       "array(['Ankle boot', 'Pullover', 'Trouser'], dtype='<U11')"
      ]
     },
     "execution_count": 33,
     "metadata": {},
     "output_type": "execute_result"
    }
   ],
   "source": [
    "y_pred = np.argmax(y_prob, axis=1)\n",
    "np.array(class_names)[y_pred]"
   ]
  },
  {
   "cell_type": "markdown",
   "metadata": {},
   "source": [
    "# 2. Regression MLP with Sequential API"
   ]
  },
  {
   "cell_type": "code",
   "execution_count": 34,
   "metadata": {},
   "outputs": [],
   "source": [
    "from sklearn.datasets import fetch_california_housing\n",
    "from sklearn.model_selection import train_test_split\n",
    "from sklearn.preprocessing import StandardScaler\n",
    "\n",
    "housing = fetch_california_housing()\n",
    "\n",
    "X_train_full, X_test, y_train_full, y_test = train_test_split(housing.data, housing.target, random_state=42)\n",
    "X_train, X_valid, y_train, y_valid = train_test_split(X_train_full, y_train_full, random_state=42)\n",
    "\n",
    "scaler = StandardScaler()\n",
    "X_train = scaler.fit_transform(X_train)\n",
    "X_valid = scaler.transform(X_valid)\n",
    "X_test = scaler.transform(X_test)"
   ]
  },
  {
   "cell_type": "code",
   "execution_count": 35,
   "metadata": {},
   "outputs": [],
   "source": [
    "np.random.seed(42)\n",
    "tf.random.set_seed(42)"
   ]
  },
  {
   "cell_type": "markdown",
   "metadata": {},
   "source": [
    "Building, training, evaluating and using a regression MLP using the Sequential API to\n",
    "make predictions is quite similar to what we did for classification. The main differences\n",
    "are the fact that the output layer has a single neuron (since we only want to\n",
    "predict a single value) and uses no activation function, and the loss function is the\n",
    "mean squared error. Since the dataset is quite noisy, we just use a single hidden layer\n",
    "with fewer neurons than before, to avoid overfitting:"
   ]
  },
  {
   "cell_type": "code",
   "execution_count": 36,
   "metadata": {},
   "outputs": [
    {
     "name": "stdout",
     "output_type": "stream",
     "text": [
      "Epoch 1/20\n",
      "363/363 [==============================] - 1s 1ms/step - loss: 1.0336 - val_loss: 15.9921\n",
      "Epoch 2/20\n",
      "363/363 [==============================] - 0s 692us/step - loss: 1.0643 - val_loss: 9.6009\n",
      "Epoch 3/20\n",
      "363/363 [==============================] - 0s 672us/step - loss: 0.6049 - val_loss: 0.4534\n",
      "Epoch 4/20\n",
      "363/363 [==============================] - 0s 677us/step - loss: 0.4093 - val_loss: 0.3639\n",
      "Epoch 5/20\n",
      "363/363 [==============================] - 0s 698us/step - loss: 0.3959 - val_loss: 0.3605\n",
      "Epoch 6/20\n",
      "363/363 [==============================] - 0s 919us/step - loss: 0.3821 - val_loss: 0.3825\n",
      "Epoch 7/20\n",
      "363/363 [==============================] - 0s 681us/step - loss: 0.3962 - val_loss: 0.3767\n",
      "Epoch 8/20\n",
      "363/363 [==============================] - 0s 682us/step - loss: 0.3806 - val_loss: 0.3864\n",
      "Epoch 9/20\n",
      "363/363 [==============================] - 0s 701us/step - loss: 0.3660 - val_loss: 0.4068\n",
      "Epoch 10/20\n",
      "363/363 [==============================] - 0s 701us/step - loss: 0.3737 - val_loss: 0.3810\n",
      "Epoch 11/20\n",
      "363/363 [==============================] - 0s 656us/step - loss: 0.3556 - val_loss: 0.3596\n",
      "Epoch 12/20\n",
      "363/363 [==============================] - 0s 695us/step - loss: 0.3606 - val_loss: 0.3756\n",
      "Epoch 13/20\n",
      "363/363 [==============================] - 0s 685us/step - loss: 0.3550 - val_loss: 0.3618\n",
      "Epoch 14/20\n",
      "363/363 [==============================] - 0s 662us/step - loss: 0.3509 - val_loss: 0.3504\n",
      "Epoch 15/20\n",
      "363/363 [==============================] - 0s 691us/step - loss: 0.3543 - val_loss: 0.3635\n",
      "Epoch 16/20\n",
      "363/363 [==============================] - 0s 701us/step - loss: 0.3579 - val_loss: 0.3388\n",
      "Epoch 17/20\n",
      "363/363 [==============================] - 0s 684us/step - loss: 0.3401 - val_loss: 0.3475\n",
      "Epoch 18/20\n",
      "363/363 [==============================] - 0s 680us/step - loss: 0.3473 - val_loss: 0.3460\n",
      "Epoch 19/20\n",
      "363/363 [==============================] - 0s 690us/step - loss: 0.3404 - val_loss: 0.3390\n",
      "Epoch 20/20\n",
      "363/363 [==============================] - 0s 698us/step - loss: 0.3315 - val_loss: 0.3897\n"
     ]
    }
   ],
   "source": [
    "model = keras.models.Sequential([\n",
    "    keras.layers.Dense(30, activation=\"relu\", input_shape=X_train.shape[1:]),\n",
    "    keras.layers.Dense(1)\n",
    "])\n",
    "model.compile(loss=\"mean_squared_error\", optimizer=\"sgd\")\n",
    "history = model.fit(X_train, y_train, epochs=20,\n",
    "                   validation_data = (X_valid, y_valid))"
   ]
  },
  {
   "cell_type": "code",
   "execution_count": 37,
   "metadata": {},
   "outputs": [
    {
     "data": {
      "image/png": "[encoded data removed]",
      "text/plain": [
       "<Figure size 432x288 with 1 Axes>"
      ]
     },
     "metadata": {
      "needs_background": "light"
     },
     "output_type": "display_data"
    }
   ],
   "source": [
    "plt.plot(pd.DataFrame(history.history))\n",
    "plt.grid(True)\n",
    "plt.gca().set_ylim(0, 1)\n",
    "plt.show()"
   ]
  },
  {
   "cell_type": "code",
   "execution_count": 38,
   "metadata": {},
   "outputs": [
    {
     "name": "stdout",
     "output_type": "stream",
     "text": [
      "162/162 [==============================] - 0s 497us/step - loss: 0.3437\n"
     ]
    }
   ],
   "source": [
    "mse_test = model.evaluate(X_test, y_test)\n",
    "X_new = X_test[:3]\n",
    "y_pred = model.predict(X_new)"
   ]
  },
  {
   "cell_type": "code",
   "execution_count": 39,
   "metadata": {},
   "outputs": [
    {
     "data": {
      "text/plain": [
       "array([[0.7122221],\n",
       "       [1.668096 ],\n",
       "       [4.128047 ]], dtype=float32)"
      ]
     },
     "execution_count": 39,
     "metadata": {},
     "output_type": "execute_result"
    }
   ],
   "source": [
    "y_pred"
   ]
  },
  {
   "cell_type": "markdown",
   "metadata": {},
   "source": [
    "# 3. Functional API"
   ]
  },
  {
   "cell_type": "markdown",
   "metadata": {},
   "source": [
    "A Wide & Deep neural network connects all or part of the inputs directly to the output layer."
   ]
  },
  {
   "cell_type": "code",
   "execution_count": 40,
   "metadata": {},
   "outputs": [],
   "source": [
    "input = keras.layers.Input(shape=X_train.shape[1:])\n",
    "hidden1 = keras.layers.Dense(30, activation=\"relu\")(input)\n",
    "hidden2 = keras.layers.Dense(30, activation=\"relu\")(hidden1)\n",
    "concat = keras.layers.Concatenate()([input, hidden2])\n",
    "output = keras.layers.Dense(1)(concat)\n",
    "model = keras.models.Model(inputs=[input], outputs=[output])"
   ]
  },
  {
   "cell_type": "markdown",
   "metadata": {},
   "source": [
    "- First line creates `Input` object. This is needed because we may have multiple inputs"
   ]
  },
  {
   "cell_type": "markdown",
   "metadata": {},
   "source": [
    "- Next, we create a `Dense` layer with 30 neurons with ReLU activation function. As soon as it is created, we can call it like a function by passing it the input (hence functional API). For now we are only telling Keras how to connect the layers together, no actual data is being processed yet. "
   ]
  },
  {
   "cell_type": "markdown",
   "metadata": {},
   "source": [
    "- We then create a second hidden layer, and again we use it as a function. Note however that we pass it the output of the first hidden layer."
   ]
  },
  {
   "cell_type": "markdown",
   "metadata": {},
   "source": [
    "- Next, we create the concatenate() layer, and use it immediately as a function and concanetate the input and output of the second layer."
   ]
  },
  {
   "cell_type": "markdown",
   "metadata": {},
   "source": [
    "- Then we create the output layer, with a single neuron and no activation function, and we call it like a function, passing it the result of the concatenation."
   ]
  },
  {
   "cell_type": "markdown",
   "metadata": {},
   "source": [
    "- Lastly, we create a Keras Model, specifying which inputs and outputs to use."
   ]
  },
  {
   "cell_type": "code",
   "execution_count": 41,
   "metadata": {},
   "outputs": [
    {
     "name": "stdout",
     "output_type": "stream",
     "text": [
      "Model: \"model\"\n",
      "__________________________________________________________________________________________________\n",
      "Layer (type)                    Output Shape         Param #     Connected to                     \n",
      "==================================================================================================\n",
      "input_1 (InputLayer)            [(None, 8)]          0                                            \n",
      "__________________________________________________________________________________________________\n",
      "dense_5 (Dense)                 (None, 30)           270         input_1[0][0]                    \n",
      "__________________________________________________________________________________________________\n",
      "dense_6 (Dense)                 (None, 30)           930         dense_5[0][0]                    \n",
      "__________________________________________________________________________________________________\n",
      "concatenate (Concatenate)       (None, 38)           0           input_1[0][0]                    \n",
      "                                                                 dense_6[0][0]                    \n",
      "__________________________________________________________________________________________________\n",
      "dense_7 (Dense)                 (None, 1)            39          concatenate[0][0]                \n",
      "==================================================================================================\n",
      "Total params: 1,239\n",
      "Trainable params: 1,239\n",
      "Non-trainable params: 0\n",
      "__________________________________________________________________________________________________\n"
     ]
    }
   ],
   "source": [
    "model.summary()"
   ]
  },
  {
   "cell_type": "code",
   "execution_count": 42,
   "metadata": {},
   "outputs": [
    {
     "name": "stdout",
     "output_type": "stream",
     "text": [
      "Epoch 1/20\n",
      "363/363 [==============================] - 1s 1ms/step - loss: 3.2566 - val_loss: 0.6913\n",
      "Epoch 2/20\n",
      "363/363 [==============================] - 0s 734us/step - loss: 0.6795 - val_loss: 0.9454\n",
      "Epoch 3/20\n",
      "363/363 [==============================] - 0s 734us/step - loss: 0.6284 - val_loss: 0.6622\n",
      "Epoch 4/20\n",
      "363/363 [==============================] - 0s 705us/step - loss: 0.5929 - val_loss: 0.5284\n",
      "Epoch 5/20\n",
      "363/363 [==============================] - 0s 735us/step - loss: 0.5452 - val_loss: 0.5004\n",
      "Epoch 6/20\n",
      "363/363 [==============================] - 0s 708us/step - loss: 0.5313 - val_loss: 0.5894\n",
      "Epoch 7/20\n",
      "363/363 [==============================] - 0s 710us/step - loss: 0.5207 - val_loss: 0.5889\n",
      "Epoch 8/20\n",
      "363/363 [==============================] - 0s 725us/step - loss: 0.4938 - val_loss: 0.4690\n",
      "Epoch 9/20\n",
      "363/363 [==============================] - 0s 715us/step - loss: 0.4789 - val_loss: 0.5305\n",
      "Epoch 10/20\n",
      "363/363 [==============================] - 0s 733us/step - loss: 0.4728 - val_loss: 0.5466\n",
      "Epoch 11/20\n",
      "363/363 [==============================] - 0s 713us/step - loss: 0.4614 - val_loss: 0.4996\n",
      "Epoch 12/20\n",
      "363/363 [==============================] - 0s 726us/step - loss: 0.4521 - val_loss: 0.7264\n",
      "Epoch 13/20\n",
      "363/363 [==============================] - 0s 710us/step - loss: 0.4522 - val_loss: 0.4205\n",
      "Epoch 14/20\n",
      "363/363 [==============================] - 0s 717us/step - loss: 0.4421 - val_loss: 0.4467\n",
      "Epoch 15/20\n",
      "363/363 [==============================] - 0s 699us/step - loss: 0.4467 - val_loss: 0.4167\n",
      "Epoch 16/20\n",
      "363/363 [==============================] - 0s 749us/step - loss: 0.4471 - val_loss: 0.4486\n",
      "Epoch 17/20\n",
      "363/363 [==============================] - 0s 719us/step - loss: 0.4312 - val_loss: 0.4021\n",
      "Epoch 18/20\n",
      "363/363 [==============================] - 0s 734us/step - loss: 0.4313 - val_loss: 0.3991\n",
      "Epoch 19/20\n",
      "363/363 [==============================] - 0s 746us/step - loss: 0.4096 - val_loss: 0.4348\n",
      "Epoch 20/20\n",
      "363/363 [==============================] - 0s 801us/step - loss: 0.4032 - val_loss: 0.3965\n",
      "162/162 [==============================] - 0s 514us/step - loss: 0.4164\n"
     ]
    }
   ],
   "source": [
    "model.compile(loss=\"mean_squared_error\", optimizer=keras.optimizers.SGD(lr=1e-3))\n",
    "history = model.fit(X_train, y_train, epochs=20,\n",
    "                   validation_data=(X_valid, y_valid))\n",
    "mse_test = model.evaluate(X_test, y_test)\n",
    "y_pred = model.predict(X_new)"
   ]
  },
  {
   "cell_type": "markdown",
   "metadata": {},
   "source": [
    "What if you want to send different subsets of input features through the wide or deep paths? We will send 5 features (features 0 to 4), and 6 through the deep path (features 2 to 7). Note that 3 features will go through both (features 2, 3 and 4)."
   ]
  },
  {
   "cell_type": "code",
   "execution_count": 43,
   "metadata": {},
   "outputs": [],
   "source": [
    "np.random.seed(42)\n",
    "tf.random.set_seed(42)"
   ]
  },
  {
   "cell_type": "code",
   "execution_count": 44,
   "metadata": {},
   "outputs": [],
   "source": [
    "input_A = keras.layers.Input(shape=[5], name=\"wide_input\")\n",
    "input_B = keras.layers.Input(shape=[6], name=\"deep_input\")\n",
    "hidden1 = keras.layers.Dense(30, activation=\"relu\")(input_B)\n",
    "hidden2 = keras.layers.Dense(30, activation=\"relu\")(hidden1)\n",
    "concat = keras.layers.Concatenate()([input_A, hidden2])\n",
    "output = keras.layers.Dense(1, name=\"output\")(concat)\n",
    "model = keras.models.Model(inputs=[input_A, input_B], outputs=[output])"
   ]
  },
  {
   "cell_type": "code",
   "execution_count": 45,
   "metadata": {},
   "outputs": [],
   "source": [
    "model.compile(loss=\"mse\", optimizer=keras.optimizers.SGD(lr=1e-3))\n",
    "X_train_A, X_train_B = X_train[:, :5], X_train[:, 2:]\n",
    "X_valid_A, X_valid_B = X_valid[:, :5], X_valid[:, 2:]\n",
    "X_test_A, X_test_B = X_test[:, :5], X_test[:, 2:]\n",
    "X_new_A, X_new_B = X_test_A[:3], X_test_B[:3]"
   ]
  },
  {
   "cell_type": "code",
   "execution_count": 46,
   "metadata": {},
   "outputs": [
    {
     "name": "stdout",
     "output_type": "stream",
     "text": [
      "Epoch 1/20\n",
      "363/363 [==============================] - 1s 1ms/step - loss: 3.1941 - val_loss: 0.8072\n",
      "Epoch 2/20\n",
      "363/363 [==============================] - 0s 750us/step - loss: 0.7247 - val_loss: 0.6658\n",
      "Epoch 3/20\n",
      "363/363 [==============================] - 0s 752us/step - loss: 0.6176 - val_loss: 0.5687\n",
      "Epoch 4/20\n",
      "363/363 [==============================] - 0s 750us/step - loss: 0.5799 - val_loss: 0.5296\n",
      "Epoch 5/20\n",
      "363/363 [==============================] - 0s 741us/step - loss: 0.5409 - val_loss: 0.4993\n",
      "Epoch 6/20\n",
      "363/363 [==============================] - 0s 756us/step - loss: 0.5173 - val_loss: 0.4811\n",
      "Epoch 7/20\n",
      "363/363 [==============================] - 0s 758us/step - loss: 0.5186 - val_loss: 0.4696\n",
      "Epoch 8/20\n",
      "363/363 [==============================] - 0s 805us/step - loss: 0.4977 - val_loss: 0.4496\n",
      "Epoch 9/20\n",
      "363/363 [==============================] - 0s 748us/step - loss: 0.4765 - val_loss: 0.4404\n",
      "Epoch 10/20\n",
      "363/363 [==============================] - 0s 746us/step - loss: 0.4676 - val_loss: 0.4315\n",
      "Epoch 11/20\n",
      "363/363 [==============================] - 0s 746us/step - loss: 0.4574 - val_loss: 0.4268\n",
      "Epoch 12/20\n",
      "363/363 [==============================] - 0s 752us/step - loss: 0.4479 - val_loss: 0.4166\n",
      "Epoch 13/20\n",
      "363/363 [==============================] - 0s 745us/step - loss: 0.4487 - val_loss: 0.4125\n",
      "Epoch 14/20\n",
      "363/363 [==============================] - 0s 741us/step - loss: 0.4469 - val_loss: 0.4074\n",
      "Epoch 15/20\n",
      "363/363 [==============================] - 0s 765us/step - loss: 0.4460 - val_loss: 0.4044\n",
      "Epoch 16/20\n",
      "363/363 [==============================] - 0s 749us/step - loss: 0.4495 - val_loss: 0.4007\n",
      "Epoch 17/20\n",
      "363/363 [==============================] - 0s 769us/step - loss: 0.4378 - val_loss: 0.4013\n",
      "Epoch 18/20\n",
      "363/363 [==============================] - 0s 758us/step - loss: 0.4375 - val_loss: 0.3987\n",
      "Epoch 19/20\n",
      "363/363 [==============================] - 0s 764us/step - loss: 0.4151 - val_loss: 0.3934\n",
      "Epoch 20/20\n",
      "363/363 [==============================] - 0s 772us/step - loss: 0.4078 - val_loss: 0.4204\n",
      "162/162 [==============================] - 0s 535us/step - loss: 0.4219\n"
     ]
    }
   ],
   "source": [
    "history = model.fit((X_train_A, X_train_B), y_train, epochs=20,\n",
    "                   validation_data=((X_valid_A, X_valid_B), y_valid))\n",
    "mse_test = model.evaluate((X_test_A, X_test_B), y_test)\n",
    "y_pred = model.predict((X_new_A, X_new_B))"
   ]
  },
  {
   "cell_type": "markdown",
   "metadata": {},
   "source": [
    "## Adding an auxiliary output for regularization"
   ]
  },
  {
   "cell_type": "code",
   "execution_count": 47,
   "metadata": {},
   "outputs": [],
   "source": [
    "input_A = keras.layers.Input(shape=[5], name=\"wide_input\")\n",
    "input_B = keras.layers.Input(shape=[6], name=\"deep_input\")\n",
    "hidden1 = keras.layers.Dense(30, activation=\"relu\")(input_B)\n",
    "hidden2 = keras.layers.Dense(30, activation=\"relu\")(hidden1)\n",
    "concat = keras.layers.Concatenate()([input_A, hidden2])\n",
    "output = keras.layers.Dense(1, name=\"output\")(concat)\n",
    "aux_output = keras.layers.Dense(1, name=\"aux_output\")(hidden2)\n",
    "model = keras.models.Model(inputs=[input_A, input_B], outputs=[output, aux_output])"
   ]
  },
  {
   "cell_type": "code",
   "execution_count": 48,
   "metadata": {},
   "outputs": [],
   "source": [
    "model.compile(loss=[\"mse\", \"mse\"], loss_weights=[0.9, 0.1], optimizer=keras.optimizers.SGD(lr=1e-3))"
   ]
  },
  {
   "cell_type": "code",
   "execution_count": 49,
   "metadata": {},
   "outputs": [
    {
     "name": "stdout",
     "output_type": "stream",
     "text": [
      "Epoch 1/20\n",
      "363/363 [==============================] - 1s 1ms/step - loss: 3.2165 - output_loss: 3.0213 - aux_output_loss: 4.9724 - val_loss: 1.5430 - val_output_loss: 0.9144 - val_aux_output_loss: 7.2005\n",
      "Epoch 2/20\n",
      "363/363 [==============================] - 0s 864us/step - loss: 1.0694 - output_loss: 0.8370 - aux_output_loss: 3.1602 - val_loss: 1.3118 - val_output_loss: 0.6824 - val_aux_output_loss: 6.9755\n",
      "Epoch 3/20\n",
      "363/363 [==============================] - 0s 873us/step - loss: 0.8493 - output_loss: 0.6993 - aux_output_loss: 2.1995 - val_loss: 1.2622 - val_output_loss: 0.6458 - val_aux_output_loss: 6.8096\n",
      "Epoch 4/20\n",
      "363/363 [==============================] - 0s 879us/step - loss: 0.7420 - output_loss: 0.6330 - aux_output_loss: 1.7228 - val_loss: 1.2022 - val_output_loss: 0.6136 - val_aux_output_loss: 6.5002\n",
      "Epoch 5/20\n",
      "363/363 [==============================] - 0s 898us/step - loss: 0.6819 - output_loss: 0.5849 - aux_output_loss: 1.5553 - val_loss: 1.1395 - val_output_loss: 0.5936 - val_aux_output_loss: 6.0520\n",
      "Epoch 6/20\n",
      "363/363 [==============================] - 0s 891us/step - loss: 0.6386 - output_loss: 0.5506 - aux_output_loss: 1.4306 - val_loss: 1.0780 - val_output_loss: 0.5756 - val_aux_output_loss: 5.5994\n",
      "Epoch 7/20\n",
      "363/363 [==============================] - 0s 860us/step - loss: 0.6399 - output_loss: 0.5537 - aux_output_loss: 1.4158 - val_loss: 1.0279 - val_output_loss: 0.5736 - val_aux_output_loss: 5.1171\n",
      "Epoch 8/20\n",
      "363/363 [==============================] - 0s 903us/step - loss: 0.5975 - output_loss: 0.5204 - aux_output_loss: 1.2917 - val_loss: 0.9418 - val_output_loss: 0.5303 - val_aux_output_loss: 4.6458\n",
      "Epoch 9/20\n",
      "363/363 [==============================] - 0s 891us/step - loss: 0.5751 - output_loss: 0.4983 - aux_output_loss: 1.2669 - val_loss: 0.8708 - val_output_loss: 0.4978 - val_aux_output_loss: 4.2276\n",
      "Epoch 10/20\n",
      "363/363 [==============================] - 0s 876us/step - loss: 0.5649 - output_loss: 0.4843 - aux_output_loss: 1.2901 - val_loss: 0.8195 - val_output_loss: 0.4841 - val_aux_output_loss: 3.8377\n",
      "Epoch 11/20\n",
      "363/363 [==============================] - 0s 861us/step - loss: 0.5500 - output_loss: 0.4752 - aux_output_loss: 1.2238 - val_loss: 0.7537 - val_output_loss: 0.4494 - val_aux_output_loss: 3.4921\n",
      "Epoch 12/20\n",
      "363/363 [==============================] - 0s 904us/step - loss: 0.5370 - output_loss: 0.4633 - aux_output_loss: 1.2009 - val_loss: 0.7160 - val_output_loss: 0.4406 - val_aux_output_loss: 3.1950\n",
      "Epoch 13/20\n",
      "363/363 [==============================] - 0s 897us/step - loss: 0.5294 - output_loss: 0.4632 - aux_output_loss: 1.1255 - val_loss: 0.6766 - val_output_loss: 0.4277 - val_aux_output_loss: 2.9166\n",
      "Epoch 14/20\n",
      "363/363 [==============================] - 0s 882us/step - loss: 0.5217 - output_loss: 0.4565 - aux_output_loss: 1.1078 - val_loss: 0.6483 - val_output_loss: 0.4205 - val_aux_output_loss: 2.6986\n",
      "Epoch 15/20\n",
      "363/363 [==============================] - 0s 923us/step - loss: 0.5216 - output_loss: 0.4592 - aux_output_loss: 1.0837 - val_loss: 0.6235 - val_output_loss: 0.4134 - val_aux_output_loss: 2.5145\n",
      "Epoch 16/20\n",
      "363/363 [==============================] - 0s 882us/step - loss: 0.5248 - output_loss: 0.4614 - aux_output_loss: 1.0955 - val_loss: 0.6047 - val_output_loss: 0.4097 - val_aux_output_loss: 2.3605\n",
      "Epoch 17/20\n",
      "363/363 [==============================] - 0s 944us/step - loss: 0.5109 - output_loss: 0.4483 - aux_output_loss: 1.0742 - val_loss: 0.5920 - val_output_loss: 0.4066 - val_aux_output_loss: 2.2606\n",
      "Epoch 18/20\n",
      "363/363 [==============================] - 0s 914us/step - loss: 0.5107 - output_loss: 0.4486 - aux_output_loss: 1.0692 - val_loss: 0.5791 - val_output_loss: 0.4037 - val_aux_output_loss: 2.1570\n",
      "Epoch 19/20\n",
      "363/363 [==============================] - 0s 1ms/step - loss: 0.4822 - output_loss: 0.4247 - aux_output_loss: 1.0002 - val_loss: 0.5688 - val_output_loss: 0.4018 - val_aux_output_loss: 2.0722\n",
      "Epoch 20/20\n",
      "363/363 [==============================] - 0s 921us/step - loss: 0.4768 - output_loss: 0.4193 - aux_output_loss: 0.9941 - val_loss: 0.5611 - val_output_loss: 0.4013 - val_aux_output_loss: 1.9989\n"
     ]
    }
   ],
   "source": [
    "history = model.fit([X_train_A, X_train_B], [y_train, y_train], epochs=20,\n",
    "                   validation_data=([X_valid_A, X_valid_B], [y_valid, y_valid]))"
   ]
  },
  {
   "cell_type": "code",
   "execution_count": 50,
   "metadata": {},
   "outputs": [
    {
     "name": "stdout",
     "output_type": "stream",
     "text": [
      "162/162 [==============================] - 0s 655us/step - loss: 0.4822 - output_loss: 0.4278 - aux_output_loss: 0.9714\n",
      "WARNING:tensorflow:5 out of the last 5 calls to <function Model.make_predict_function.<locals>.predict_function at 0x00000206EBE27620> triggered tf.function retracing. Tracing is expensive and the excessive number of tracings could be due to (1) creating @tf.function repeatedly in a loop, (2) passing tensors with different shapes, (3) passing Python objects instead of tensors. For (1), please define your @tf.function outside of the loop. For (2), @tf.function has experimental_relax_shapes=True option that relaxes argument shapes that can avoid unnecessary retracing. For (3), please refer to https://www.tensorflow.org/guide/function#controlling_retracing and https://www.tensorflow.org/api_docs/python/tf/function for  more details.\n"
     ]
    }
   ],
   "source": [
    "total_loss, main_loss, aux_loss = model.evaluate([X_test_A, X_test_B], [y_test, y_test])\n",
    "y_pred_main, y_pred_aux = model.predict([X_new_A, X_new_B])"
   ]
  },
  {
   "cell_type": "code",
   "execution_count": 51,
   "metadata": {},
   "outputs": [
    {
     "data": {
      "text/plain": [
       "(array([[0.3289803],\n",
       "        [1.8843516],\n",
       "        [3.3908253]], dtype=float32), array([[1.314278 ],\n",
       "        [1.9748025],\n",
       "        [2.6287577]], dtype=float32))"
      ]
     },
     "execution_count": 51,
     "metadata": {},
     "output_type": "execute_result"
    }
   ],
   "source": [
    "y_pred_main, y_pred_aux"
   ]
  },
  {
   "cell_type": "markdown",
   "metadata": {},
   "source": [
    "# 4. Subclassing API"
   ]
  },
  {
   "cell_type": "code",
   "execution_count": 61,
   "metadata": {},
   "outputs": [],
   "source": [
    "class WideAndDeepModel(keras.models.Model):\n",
    "    def __init__(self, units=30, activation=\"relu\", **kwargs):\n",
    "        super().__init__(**kwargs)   ## Handles standard args (e.g., names)\n",
    "        self.hidden1 = keras.layers.Dense(units, activation=activation)\n",
    "        self.hidden2 = keras.layers.Dense(units, activation=activation)\n",
    "        self.main_output = keras.layers.Dense(1)\n",
    "        self.aux_output = keras.layers.Dense(1)\n",
    "        \n",
    "    def call(self, inputs):\n",
    "        input_A, input_B = inputs\n",
    "        hidden1 = self.hidden1(input_B)\n",
    "        hidden2 = self.hidden2(hidden1)\n",
    "        concat = keras.layers.concatenate([input_A, hidden2])\n",
    "        main_output = self.main_output(concat)\n",
    "        aux_output = self.aux_output(hidden2)\n",
    "        return main_output, aux_output\n",
    "    \n",
    "model = WideAndDeepModel(30, activation=\"relu\")"
   ]
  },
  {
   "cell_type": "code",
   "execution_count": 62,
   "metadata": {},
   "outputs": [
    {
     "name": "stdout",
     "output_type": "stream",
     "text": [
      "Epoch 1/10\n",
      "363/363 [==============================] - 1s 2ms/step - loss: 3.1953 - output_1_loss: 3.1220 - output_2_loss: 3.8547 - val_loss: 2.8539 - val_output_1_loss: 2.5208 - val_output_2_loss: 5.8515\n",
      "Epoch 2/10\n",
      "363/363 [==============================] - 0s 931us/step - loss: 1.0355 - output_1_loss: 0.8893 - output_2_loss: 2.3515 - val_loss: 1.5743 - val_output_1_loss: 1.2249 - val_output_2_loss: 4.7190\n",
      "Epoch 3/10\n",
      "363/363 [==============================] - 0s 873us/step - loss: 0.8118 - output_1_loss: 0.7014 - output_2_loss: 1.8051 - val_loss: 1.1348 - val_output_1_loss: 0.8106 - val_output_2_loss: 4.0528\n",
      "Epoch 4/10\n",
      "363/363 [==============================] - 0s 819us/step - loss: 0.7258 - output_1_loss: 0.6371 - output_2_loss: 1.5243 - val_loss: 0.9375 - val_output_1_loss: 0.6529 - val_output_2_loss: 3.4992\n",
      "Epoch 5/10\n",
      "363/363 [==============================] - 0s 813us/step - loss: 0.6637 - output_1_loss: 0.5831 - output_2_loss: 1.3885 - val_loss: 0.7974 - val_output_1_loss: 0.5528 - val_output_2_loss: 2.9988\n",
      "Epoch 6/10\n",
      "363/363 [==============================] - 0s 810us/step - loss: 0.6100 - output_1_loss: 0.5403 - output_2_loss: 1.2376 - val_loss: 0.7264 - val_output_1_loss: 0.5128 - val_output_2_loss: 2.6496\n",
      "Epoch 7/10\n",
      "363/363 [==============================] - 0s 816us/step - loss: 0.6044 - output_1_loss: 0.5393 - output_2_loss: 1.1899 - val_loss: 0.6632 - val_output_1_loss: 0.4782 - val_output_2_loss: 2.3281\n",
      "Epoch 8/10\n",
      "363/363 [==============================] - 0s 816us/step - loss: 0.5668 - output_1_loss: 0.5111 - output_2_loss: 1.0679 - val_loss: 0.6274 - val_output_1_loss: 0.4627 - val_output_2_loss: 2.1100\n",
      "Epoch 9/10\n",
      "363/363 [==============================] - 0s 829us/step - loss: 0.5407 - output_1_loss: 0.4884 - output_2_loss: 1.0118 - val_loss: 0.6025 - val_output_1_loss: 0.4536 - val_output_2_loss: 1.9429\n",
      "Epoch 10/10\n",
      "363/363 [==============================] - 0s 817us/step - loss: 0.5282 - output_1_loss: 0.4766 - output_2_loss: 0.9921 - val_loss: 0.5817 - val_output_1_loss: 0.4456 - val_output_2_loss: 1.8068\n",
      "162/162 [==============================] - 0s 596us/step - loss: 0.5130 - output_1_loss: 0.4627 - output_2_loss: 0.9656\n",
      "WARNING:tensorflow:7 out of the last 7 calls to <function Model.make_predict_function.<locals>.predict_function at 0x00000206EBB87268> triggered tf.function retracing. Tracing is expensive and the excessive number of tracings could be due to (1) creating @tf.function repeatedly in a loop, (2) passing tensors with different shapes, (3) passing Python objects instead of tensors. For (1), please define your @tf.function outside of the loop. For (2), @tf.function has experimental_relax_shapes=True option that relaxes argument shapes that can avoid unnecessary retracing. For (3), please refer to https://www.tensorflow.org/guide/function#controlling_retracing and https://www.tensorflow.org/api_docs/python/tf/function for  more details.\n"
     ]
    }
   ],
   "source": [
    "model.compile(loss=\"mse\", loss_weights=[0.9, 0.1], optimizer=keras.optimizers.SGD(lr=1e-3))\n",
    "history = model.fit((X_train_A, X_train_B), (y_train, y_train), epochs=10,\n",
    "                   validation_data=((X_valid_A, X_valid_B), (y_valid, y_valid)))\n",
    "total_loss, main_loss, aux_loss = model.evaluate((X_test_A, X_test_B), (y_test, y_test))\n",
    "y_pred_main, y_pred_aux = model.predict((X_new_A, X_new_B))"
   ]
  },
  {
   "cell_type": "markdown",
   "metadata": {},
   "source": [
    "# Visualization - TensorBoard"
   ]
  },
  {
   "cell_type": "markdown",
   "metadata": {},
   "source": [
    "On TesorBoard, we can \n",
    "- view learning curves during training\n",
    "- compare learning curves among runs\n",
    "- visualize computation graphs\n",
    "- analyze training statistics\n",
    "- view images generated by models"
   ]
  },
  {
   "cell_type": "markdown",
   "metadata": {},
   "source": [
    "To use it, you must modify your program so that it outputs the data you want to visualize to special binary log files called event files. Each binary data record is called a summary. The TensorBoard server will monitor the log directory, and it will automatically pick up the changes and update the visualizations: this allows you to visualize live data (with a short delay), such as the learning curves during training."
   ]
  },
  {
   "cell_type": "code",
   "execution_count": 77,
   "metadata": {},
   "outputs": [],
   "source": [
    "import os\n",
    "root_logdir = os.path.join(os.curdir, \"my_logs\")"
   ]
  },
  {
   "cell_type": "code",
   "execution_count": 78,
   "metadata": {},
   "outputs": [
    {
     "data": {
      "text/plain": [
       "'.\\\\my_logs\\\\run_2021_04_06-16_06_07'"
      ]
     },
     "execution_count": 78,
     "metadata": {},
     "output_type": "execute_result"
    }
   ],
   "source": [
    "def get_run_logdir():\n",
    "    import time\n",
    "    run_id = time.strftime(\"run_%Y_%m_%d-%H_%M_%S\")\n",
    "    return os.path.join(root_logdir, run_id)\n",
    "\n",
    "run_logdir = get_run_logdir()\n",
    "run_logdir"
   ]
  },
  {
   "cell_type": "code",
   "execution_count": 79,
   "metadata": {},
   "outputs": [],
   "source": [
    "keras.backend.clear_session()\n",
    "np.random.seed(42)\n",
    "tf.random.set_seed(42)"
   ]
  },
  {
   "cell_type": "code",
   "execution_count": 80,
   "metadata": {},
   "outputs": [
    {
     "name": "stdout",
     "output_type": "stream",
     "text": [
      "Model: \"sequential\"\n",
      "_________________________________________________________________\n",
      "Layer (type)                 Output Shape              Param #   \n",
      "=================================================================\n",
      "dense (Dense)                (None, 30)                270       \n",
      "_________________________________________________________________\n",
      "dense_1 (Dense)              (None, 30)                930       \n",
      "_________________________________________________________________\n",
      "dense_2 (Dense)              (None, 1)                 31        \n",
      "=================================================================\n",
      "Total params: 1,231\n",
      "Trainable params: 1,231\n",
      "Non-trainable params: 0\n",
      "_________________________________________________________________\n"
     ]
    }
   ],
   "source": [
    "model = keras.models.Sequential([\n",
    "    keras.layers.Dense(30, activation=\"relu\", input_shape=[8]),\n",
    "    keras.layers.Dense(30, activation=\"relu\"),\n",
    "    keras.layers.Dense(1)\n",
    "])\n",
    "model.summary()"
   ]
  },
  {
   "cell_type": "code",
   "execution_count": 81,
   "metadata": {},
   "outputs": [],
   "source": [
    "model.compile(loss=\"mse\", optimizer=keras.optimizers.SGD(lr=1e-3))"
   ]
  },
  {
   "cell_type": "code",
   "execution_count": 82,
   "metadata": {},
   "outputs": [
    {
     "name": "stdout",
     "output_type": "stream",
     "text": [
      "Epoch 1/30\n",
      "363/363 [==============================] - 1s 3ms/step - loss: 3.3697 - val_loss: 0.7126\n",
      "Epoch 2/30\n",
      "363/363 [==============================] - 0s 715us/step - loss: 0.6964 - val_loss: 0.6880\n",
      "Epoch 3/30\n",
      "363/363 [==============================] - 0s 779us/step - loss: 0.6167 - val_loss: 0.5803\n",
      "Epoch 4/30\n",
      "363/363 [==============================] - 0s 739us/step - loss: 0.5846 - val_loss: 0.5166\n",
      "Epoch 5/30\n",
      "363/363 [==============================] - 0s 705us/step - loss: 0.5321 - val_loss: 0.4895\n",
      "Epoch 6/30\n",
      "363/363 [==============================] - 0s 730us/step - loss: 0.5083 - val_loss: 0.4951\n",
      "Epoch 7/30\n",
      "363/363 [==============================] - 0s 704us/step - loss: 0.5044 - val_loss: 0.4861\n",
      "Epoch 8/30\n",
      "363/363 [==============================] - 0s 723us/step - loss: 0.4813 - val_loss: 0.4554\n",
      "Epoch 9/30\n",
      "363/363 [==============================] - 0s 743us/step - loss: 0.4627 - val_loss: 0.4413\n",
      "Epoch 10/30\n",
      "363/363 [==============================] - 0s 765us/step - loss: 0.4549 - val_loss: 0.4379\n",
      "Epoch 11/30\n",
      "363/363 [==============================] - 0s 809us/step - loss: 0.4416 - val_loss: 0.4396\n",
      "Epoch 12/30\n",
      "363/363 [==============================] - 0s 758us/step - loss: 0.4295 - val_loss: 0.4507\n",
      "Epoch 13/30\n",
      "363/363 [==============================] - 0s 717us/step - loss: 0.4326 - val_loss: 0.3997\n",
      "Epoch 14/30\n",
      "363/363 [==============================] - 0s 745us/step - loss: 0.4207 - val_loss: 0.3956\n",
      "Epoch 15/30\n",
      "363/363 [==============================] - 0s 713us/step - loss: 0.4198 - val_loss: 0.3916\n",
      "Epoch 16/30\n",
      "363/363 [==============================] - 0s 720us/step - loss: 0.4248 - val_loss: 0.3937\n",
      "Epoch 17/30\n",
      "363/363 [==============================] - 0s 697us/step - loss: 0.4105 - val_loss: 0.3809\n",
      "Epoch 18/30\n",
      "363/363 [==============================] - 0s 721us/step - loss: 0.4070 - val_loss: 0.3793\n",
      "Epoch 19/30\n",
      "363/363 [==============================] - 0s 714us/step - loss: 0.3902 - val_loss: 0.3850\n",
      "Epoch 20/30\n",
      "363/363 [==============================] - 0s 712us/step - loss: 0.3864 - val_loss: 0.3809\n",
      "Epoch 21/30\n",
      "363/363 [==============================] - 0s 952us/step - loss: 0.3978 - val_loss: 0.3701\n",
      "Epoch 22/30\n",
      "363/363 [==============================] - 0s 749us/step - loss: 0.3816 - val_loss: 0.3781\n",
      "Epoch 23/30\n",
      "363/363 [==============================] - 0s 723us/step - loss: 0.4042 - val_loss: 0.3650\n",
      "Epoch 24/30\n",
      "363/363 [==============================] - 0s 695us/step - loss: 0.3823 - val_loss: 0.3655\n",
      "Epoch 25/30\n",
      "363/363 [==============================] - 0s 713us/step - loss: 0.3792 - val_loss: 0.3611\n",
      "Epoch 26/30\n",
      "363/363 [==============================] - 0s 718us/step - loss: 0.3800 - val_loss: 0.3626\n",
      "Epoch 27/30\n",
      "363/363 [==============================] - 0s 776us/step - loss: 0.3858 - val_loss: 0.3564\n",
      "Epoch 28/30\n",
      "363/363 [==============================] - 0s 725us/step - loss: 0.3839 - val_loss: 0.3579\n",
      "Epoch 29/30\n",
      "363/363 [==============================] - 0s 713us/step - loss: 0.3736 - val_loss: 0.3561\n",
      "Epoch 30/30\n",
      "363/363 [==============================] - 0s 782us/step - loss: 0.3843 - val_loss: 0.3548\n"
     ]
    }
   ],
   "source": [
    "tensorboard_cb = keras.callbacks.TensorBoard(run_logdir)\n",
    "checkpoint_cb = keras.callbacks.ModelCheckpoint(\"my_keras_model.h5\", save_best_only=True)\n",
    "history = model.fit(X_train, y_train, epochs=30,\n",
    "                   validation_data=(X_valid, y_valid),\n",
    "                   callbacks=[checkpoint_cb, tensorboard_cb])"
   ]
  },
  {
   "cell_type": "markdown",
   "metadata": {},
   "source": [
    "## Hyperparameter tuning"
   ]
  },
  {
   "cell_type": "markdown",
   "metadata": {},
   "source": [
    "### 1. `GridSearchCV`\n",
    "\n",
    "To use GridSearchCV, we need ot wrap out Keras models in objects that mimic regular Scikit-learn regressors."
   ]
  },
  {
   "cell_type": "code",
   "execution_count": 89,
   "metadata": {},
   "outputs": [],
   "source": [
    "def build_model(n_hidden=1, n_neurons=30, learning_rate=3e-3, input_shape=[8]):\n",
    "    model = keras.models.Sequential()\n",
    "    model.add(keras.layers.InputLayer(input_shape=input_shape))\n",
    "    for layer in range(n_hidden):\n",
    "        model.add(keras.layers.Dense(n_neurons, activation=\"relu\"))\n",
    "    model.add(keras.layers.Dense(1))\n",
    "    optimizer = keras.optimizers.SGD(lr=learning_rate)\n",
    "    model.compile(loss=\"mse\", optimizer=optimizer)\n",
    "    return model"
   ]
  },
  {
   "cell_type": "code",
   "execution_count": 90,
   "metadata": {},
   "outputs": [],
   "source": [
    "keras_reg = keras.wrappers.scikit_learn.KerasRegressor(build_model)"
   ]
  },
  {
   "cell_type": "code",
   "execution_count": 91,
   "metadata": {},
   "outputs": [
    {
     "name": "stdout",
     "output_type": "stream",
     "text": [
      "Epoch 1/100\n",
      "363/363 [==============================] - 1s 927us/step - loss: 1.8887 - val_loss: 10.5492\n",
      "Epoch 2/100\n",
      "363/363 [==============================] - 0s 668us/step - loss: 0.9724 - val_loss: 0.5672\n",
      "Epoch 3/100\n",
      "363/363 [==============================] - 0s 677us/step - loss: 0.5460 - val_loss: 0.4875\n",
      "Epoch 4/100\n",
      "363/363 [==============================] - 0s 694us/step - loss: 0.5080 - val_loss: 0.4654\n",
      "Epoch 5/100\n",
      "363/363 [==============================] - 0s 747us/step - loss: 0.4745 - val_loss: 0.4563\n",
      "Epoch 6/100\n",
      "363/363 [==============================] - 0s 676us/step - loss: 0.4489 - val_loss: 0.4691\n",
      "Epoch 7/100\n",
      "363/363 [==============================] - 0s 662us/step - loss: 0.4608 - val_loss: 0.4507\n",
      "Epoch 8/100\n",
      "363/363 [==============================] - 0s 683us/step - loss: 0.4390 - val_loss: 0.4346\n",
      "Epoch 9/100\n",
      "363/363 [==============================] - 0s 668us/step - loss: 0.4270 - val_loss: 0.4450\n",
      "Epoch 10/100\n",
      "363/363 [==============================] - 0s 689us/step - loss: 0.4237 - val_loss: 0.4676\n",
      "Epoch 11/100\n",
      "363/363 [==============================] - 0s 688us/step - loss: 0.4109 - val_loss: 0.4191\n",
      "Epoch 12/100\n",
      "363/363 [==============================] - 0s 686us/step - loss: 0.4110 - val_loss: 0.4730\n",
      "Epoch 13/100\n",
      "363/363 [==============================] - 0s 682us/step - loss: 0.4081 - val_loss: 0.4531\n",
      "Epoch 14/100\n",
      "363/363 [==============================] - 0s 671us/step - loss: 0.4031 - val_loss: 0.4157\n",
      "Epoch 15/100\n",
      "363/363 [==============================] - 0s 678us/step - loss: 0.4068 - val_loss: 0.4239\n",
      "Epoch 16/100\n",
      "363/363 [==============================] - 0s 683us/step - loss: 0.4094 - val_loss: 0.4113\n",
      "Epoch 17/100\n",
      "363/363 [==============================] - 0s 693us/step - loss: 0.3917 - val_loss: 0.4587\n",
      "Epoch 18/100\n",
      "363/363 [==============================] - 0s 680us/step - loss: 0.3940 - val_loss: 0.4396\n",
      "Epoch 19/100\n",
      "363/363 [==============================] - 0s 690us/step - loss: 0.3854 - val_loss: 0.4269\n",
      "Epoch 20/100\n",
      "363/363 [==============================] - 0s 716us/step - loss: 0.3738 - val_loss: 0.4792\n",
      "Epoch 21/100\n",
      "363/363 [==============================] - 0s 825us/step - loss: 0.3892 - val_loss: 0.4489\n",
      "Epoch 22/100\n",
      "363/363 [==============================] - 0s 729us/step - loss: 0.3718 - val_loss: 0.4685\n",
      "Epoch 23/100\n",
      "363/363 [==============================] - 0s 722us/step - loss: 0.4007 - val_loss: 0.3778\n",
      "Epoch 24/100\n",
      "363/363 [==============================] - 0s 704us/step - loss: 0.3789 - val_loss: 0.4161\n",
      "Epoch 25/100\n",
      "363/363 [==============================] - 0s 668us/step - loss: 0.3769 - val_loss: 0.4650\n",
      "Epoch 26/100\n",
      "363/363 [==============================] - 0s 771us/step - loss: 0.3793 - val_loss: 0.4595\n",
      "Epoch 27/100\n",
      "363/363 [==============================] - 0s 696us/step - loss: 0.3833 - val_loss: 0.3705\n",
      "Epoch 28/100\n",
      "363/363 [==============================] - 0s 779us/step - loss: 0.3839 - val_loss: 0.4312\n",
      "Epoch 29/100\n",
      "363/363 [==============================] - 0s 704us/step - loss: 0.3750 - val_loss: 0.3977\n",
      "Epoch 30/100\n",
      "363/363 [==============================] - 0s 733us/step - loss: 0.3812 - val_loss: 0.4618\n",
      "Epoch 31/100\n",
      "363/363 [==============================] - 0s 678us/step - loss: 0.3732 - val_loss: 0.4339\n",
      "Epoch 32/100\n",
      "363/363 [==============================] - 0s 765us/step - loss: 0.3711 - val_loss: 0.4634\n",
      "Epoch 33/100\n",
      "363/363 [==============================] - 0s 702us/step - loss: 0.3725 - val_loss: 0.3736\n",
      "Epoch 34/100\n",
      "363/363 [==============================] - 0s 668us/step - loss: 0.3651 - val_loss: 0.3775\n",
      "Epoch 35/100\n",
      "363/363 [==============================] - 0s 710us/step - loss: 0.3606 - val_loss: 0.4735\n",
      "Epoch 36/100\n",
      "363/363 [==============================] - 0s 656us/step - loss: 0.3591 - val_loss: 0.3513\n",
      "Epoch 37/100\n",
      "363/363 [==============================] - 0s 694us/step - loss: 0.3887 - val_loss: 0.4120\n",
      "Epoch 38/100\n",
      "363/363 [==============================] - 0s 664us/step - loss: 0.3597 - val_loss: 0.3616\n",
      "Epoch 39/100\n",
      "363/363 [==============================] - 0s 747us/step - loss: 0.3851 - val_loss: 0.3634\n",
      "Epoch 40/100\n",
      "363/363 [==============================] - 0s 969us/step - loss: 0.3621 - val_loss: 0.4097\n",
      "Epoch 41/100\n",
      "363/363 [==============================] - 0s 737us/step - loss: 0.3795 - val_loss: 0.4119\n",
      "Epoch 42/100\n",
      "363/363 [==============================] - 0s 699us/step - loss: 0.3591 - val_loss: 0.4322\n",
      "Epoch 43/100\n",
      "363/363 [==============================] - 0s 728us/step - loss: 0.3649 - val_loss: 0.4297\n",
      "Epoch 44/100\n",
      "363/363 [==============================] - 0s 671us/step - loss: 0.3510 - val_loss: 0.4451\n",
      "Epoch 45/100\n",
      "363/363 [==============================] - 0s 664us/step - loss: 0.3687 - val_loss: 0.3515\n",
      "Epoch 46/100\n",
      "363/363 [==============================] - 0s 656us/step - loss: 0.3607 - val_loss: 0.3710\n"
     ]
    },
    {
     "data": {
      "text/plain": [
       "<tensorflow.python.keras.callbacks.History at 0x206f5250358>"
      ]
     },
     "execution_count": 91,
     "metadata": {},
     "output_type": "execute_result"
    }
   ],
   "source": [
    "keras_reg.fit(X_train, y_train, epochs=100,\n",
    "              validation_data=(X_valid, y_valid),\n",
    "              callbacks=[keras.callbacks.EarlyStopping(patience=10)])"
   ]
  },
  {
   "cell_type": "code",
   "execution_count": 92,
   "metadata": {},
   "outputs": [
    {
     "name": "stdout",
     "output_type": "stream",
     "text": [
      "162/162 [==============================] - 0s 646us/step - loss: 0.3567\n"
     ]
    }
   ],
   "source": [
    "mse_test = keras_reg.score(X_test, y_test)"
   ]
  },
  {
   "cell_type": "code",
   "execution_count": 93,
   "metadata": {},
   "outputs": [
    {
     "name": "stdout",
     "output_type": "stream",
     "text": [
      "WARNING:tensorflow:8 out of the last 8 calls to <function Model.make_predict_function.<locals>.predict_function at 0x00000206ED641D08> triggered tf.function retracing. Tracing is expensive and the excessive number of tracings could be due to (1) creating @tf.function repeatedly in a loop, (2) passing tensors with different shapes, (3) passing Python objects instead of tensors. For (1), please define your @tf.function outside of the loop. For (2), @tf.function has experimental_relax_shapes=True option that relaxes argument shapes that can avoid unnecessary retracing. For (3), please refer to https://www.tensorflow.org/guide/function#controlling_retracing and https://www.tensorflow.org/api_docs/python/tf/function for  more details.\n"
     ]
    }
   ],
   "source": [
    "y_pred = keras_reg.predict(X_new)"
   ]
  },
  {
   "cell_type": "code",
   "execution_count": 94,
   "metadata": {},
   "outputs": [],
   "source": [
    "np.random.seed(42)\n",
    "tf.random.set_seed(42)"
   ]
  },
  {
   "cell_type": "code",
   "execution_count": 100,
   "metadata": {},
   "outputs": [],
   "source": [
    "from scipy.stats import reciprocal\n",
    "from sklearn.model_selection import RandomizedSearchCV"
   ]
  },
  {
   "cell_type": "code",
   "execution_count": 104,
   "metadata": {},
   "outputs": [
    {
     "name": "stdout",
     "output_type": "stream",
     "text": [
      "Fitting 3 folds for each of 10 candidates, totalling 30 fits\n",
      "121/121 [==============================] - 0s 510us/step - loss: 0.3736\n",
      "121/121 [==============================] - 0s 518us/step - loss: 0.3715\n",
      "121/121 [==============================] - 0s 526us/step - loss: 0.3347\n",
      "121/121 [==============================] - 0s 500us/step - loss: 0.3084\n",
      "121/121 [==============================] - 0s 507us/step - loss: 0.3159\n",
      "121/121 [==============================] - 0s 536us/step - loss: 0.3064\n",
      "121/121 [==============================] - 0s 517us/step - loss: 0.3733\n",
      "121/121 [==============================] - 0s 543us/step - loss: 0.3958\n",
      "121/121 [==============================] - 0s 550us/step - loss: 0.3710\n",
      "121/121 [==============================] - 0s 471us/step - loss: 0.5341\n",
      "121/121 [==============================] - 0s 478us/step - loss: 0.7424\n",
      "121/121 [==============================] - 0s 478us/step - loss: 0.5553\n",
      "121/121 [==============================] - 0s 472us/step - loss: nan\n",
      "121/121 [==============================] - 0s 478us/step - loss: 0.3210\n",
      "121/121 [==============================] - 0s 499us/step - loss: 0.3333\n",
      "121/121 [==============================] - 0s 480us/step - loss: 0.3622\n",
      "121/121 [==============================] - 0s 496us/step - loss: 0.3739\n",
      "121/121 [==============================] - 0s 550us/step - loss: 0.3101\n",
      "121/121 [==============================] - 0s 505us/step - loss: 0.3655\n",
      "121/121 [==============================] - 0s 487us/step - loss: 0.4401\n",
      "121/121 [==============================] - 0s 482us/step - loss: 0.3433\n",
      "121/121 [==============================] - 0s 481us/step - loss: 0.3594\n",
      "121/121 [==============================] - 0s 517us/step - loss: 0.3531\n",
      "121/121 [==============================] - 0s 493us/step - loss: 0.3240\n",
      "121/121 [==============================] - 0s 513us/step - loss: 0.4157\n",
      "121/121 [==============================] - 0s 488us/step - loss: 0.4070\n",
      "121/121 [==============================] - 0s 493us/step - loss: 0.3730\n",
      "121/121 [==============================] - 0s 504us/step - loss: 0.5556\n",
      "121/121 [==============================] - 0s 448us/step - loss: 1.0330\n",
      "121/121 [==============================] - 0s 442us/step - loss: 0.6241\n"
     ]
    },
    {
     "name": "stderr",
     "output_type": "stream",
     "text": [
      "C:\\Users\\xf20985\\Anaconda3\\envs\\tensorflow_env\\lib\\site-packages\\sklearn\\model_selection\\_search.py:921: UserWarning: One or more of the test scores are non-finite: [-0.35991357 -0.31022918 -0.38005053 -0.61059785         nan -0.34875212\n",
      " -0.38294071 -0.34546333 -0.39856624 -0.73755085]\n",
      "  category=UserWarning\n"
     ]
    },
    {
     "data": {
      "text/plain": [
       "RandomizedSearchCV(cv=3,\n",
       "                   estimator=<tensorflow.python.keras.wrappers.scikit_learn.KerasRegressor object at 0x00000206F5551438>,\n",
       "                   param_distributions={'learning_rate': [0.00042764271132082293,\n",
       "                                                          0.0011392634396035245,\n",
       "                                                          0.0006303239793031064,\n",
       "                                                          0.021702839536996248,\n",
       "                                                          0.01239829637839909,\n",
       "                                                          0.0055453475162965836,\n",
       "                                                          0.016597490742895512,\n",
       "                                                          0.012146898667754018,\n",
       "                                                          0.000708371977332...\n",
       "                                                          0.003152215207254418,\n",
       "                                                          0.002050894219506816,\n",
       "                                                          0.000834328109377966,\n",
       "                                                          0.0005210171145477947,\n",
       "                                                          0.0014202068320212568,\n",
       "                                                          0.023064320404424847,\n",
       "                                                          0.0013290065420303945,\n",
       "                                                          0.0032711653569603323,\n",
       "                                                          0.007641157870017348,\n",
       "                                                          0.0016009599199138828, ...],\n",
       "                                        'n_hidden': [0, 1, 2, 3],\n",
       "                                        'n_neurons': [1, 2, 3, 4, 5, 6, 7, 8, 9,\n",
       "                                                      10, 11, 12, 13, 14, 15,\n",
       "                                                      16, 17, 18, 19, 20, 21,\n",
       "                                                      22, 23, 24, 25, 26, 27,\n",
       "                                                      28, 29, 30, ...]},\n",
       "                   verbose=1)"
      ]
     },
     "execution_count": 104,
     "metadata": {},
     "output_type": "execute_result"
    }
   ],
   "source": [
    "param_distribs = {\n",
    "    \"n_hidden\" : [0, 1, 2, 3],\n",
    "    \"n_neurons\" : np.arange(1, 100).tolist(),\n",
    "    \"learning_rate\" : reciprocal(3e-4, 3e-2).rvs(1000).tolist(),\n",
    "}\n",
    "rnd_search_cv = RandomizedSearchCV(keras_reg, param_distribs, n_iter=10, cv=3, verbose=1)\n",
    "rnd_search_cv.fit(X_train, y_train, epochs=100,\n",
    "                 validation_data=(X_valid, y_valid), verbose = 0,\n",
    "                 callbacks=[keras.callbacks.EarlyStopping(patience=10)])"
   ]
  },
  {
   "cell_type": "code",
   "execution_count": 105,
   "metadata": {},
   "outputs": [
    {
     "data": {
      "text/plain": [
       "{'n_neurons': 19, 'n_hidden': 3, 'learning_rate': 0.02200788061166836}"
      ]
     },
     "execution_count": 105,
     "metadata": {},
     "output_type": "execute_result"
    }
   ],
   "source": [
    "rnd_search_cv.best_params_"
   ]
  },
  {
   "cell_type": "markdown",
   "metadata": {},
   "source": [
    "# Exercise"
   ]
  },
  {
   "cell_type": "markdown",
   "metadata": {},
   "source": [
    "Train a deep MLP on the MNIST dataset and see if you can get over 98% precision. Try adding all the bells and whistles (i.e., save checkpoints, use early stopping, plot learning curves using TensorBoard, and so on)."
   ]
  },
  {
   "cell_type": "code",
   "execution_count": 106,
   "metadata": {},
   "outputs": [],
   "source": [
    "(X_train_full, y_train_full), (X_test, y_test) = keras.datasets.mnist.load_data()"
   ]
  },
  {
   "cell_type": "code",
   "execution_count": 107,
   "metadata": {},
   "outputs": [
    {
     "data": {
      "text/plain": [
       "(60000, 28, 28)"
      ]
     },
     "execution_count": 107,
     "metadata": {},
     "output_type": "execute_result"
    }
   ],
   "source": [
    "X_train_full.shape"
   ]
  },
  {
   "cell_type": "code",
   "execution_count": 108,
   "metadata": {},
   "outputs": [],
   "source": [
    "X_valid, X_train = X_train_full[:5000]/255, X_train_full[5000:]/255\n",
    "y_valid, y_train = y_train_full[:5000], y_train_full[5000:]\n",
    "X_test = X_test/255"
   ]
  },
  {
   "cell_type": "code",
   "execution_count": 113,
   "metadata": {},
   "outputs": [
    {
     "data": {
      "image/png": "[encoded data removed]",
      "text/plain": [
       "<Figure size 432x288 with 1 Axes>"
      ]
     },
     "metadata": {
      "needs_background": "light"
     },
     "output_type": "display_data"
    }
   ],
   "source": [
    "plt.imshow(X_train[0], cmap=\"binary\")\n",
    "plt.axis(\"off\")\n",
    "plt.show()"
   ]
  },
  {
   "cell_type": "code",
   "execution_count": 114,
   "metadata": {},
   "outputs": [
    {
     "data": {
      "text/plain": [
       "array([7, 3, 4, ..., 5, 6, 8], dtype=uint8)"
      ]
     },
     "execution_count": 114,
     "metadata": {},
     "output_type": "execute_result"
    }
   ],
   "source": [
    "y_train"
   ]
  },
  {
   "cell_type": "code",
   "execution_count": 150,
   "metadata": {},
   "outputs": [],
   "source": [
    "K = keras.backend\n",
    "\n",
    "class ExponentialLearningRate(keras.callbacks.Callback):\n",
    "    def __init__(self, factor):\n",
    "        self.factor = factor\n",
    "        self.rates = []\n",
    "        self.losses = []\n",
    "    def on_batch_end(self, batch, logs):\n",
    "        self.rates.append(K.get_value(self.model.optimizer.lr))\n",
    "        self.losses.append(logs[\"loss\"])\n",
    "        K.set_value(self.model.optimizer.lr, self.model.optimizer.lr * self.factor)"
   ]
  },
  {
   "cell_type": "code",
   "execution_count": 151,
   "metadata": {},
   "outputs": [],
   "source": [
    "keras.backend.clear_session()"
   ]
  },
  {
   "cell_type": "code",
   "execution_count": 152,
   "metadata": {},
   "outputs": [],
   "source": [
    "np.random.seed(42)\n",
    "tf.random.set_seed(42)"
   ]
  },
  {
   "cell_type": "code",
   "execution_count": 153,
   "metadata": {},
   "outputs": [],
   "source": [
    "model = keras.models.Sequential([\n",
    "    keras.layers.Flatten(input_shape=[28, 28]),\n",
    "    keras.layers.Dense(300, activation=\"relu\"),\n",
    "    keras.layers.Dense(100, activation=\"relu\"),\n",
    "    keras.layers.Dense(10, activation=\"softmax\"),\n",
    "])"
   ]
  },
  {
   "cell_type": "code",
   "execution_count": 154,
   "metadata": {},
   "outputs": [],
   "source": [
    "model.compile(loss=keras.losses.sparse_categorical_crossentropy, optimizer=keras.optimizers.SGD(lr=1e-3), metrics=[\"accuracy\"])\n",
    "expon_lr = ExponentialLearningRate(factor=1.005)"
   ]
  },
  {
   "cell_type": "code",
   "execution_count": 155,
   "metadata": {},
   "outputs": [
    {
     "name": "stdout",
     "output_type": "stream",
     "text": [
      "1719/1719 [==============================] - 7s 4ms/step - loss: nan - accuracy: 0.4883 - val_loss: nan - val_accuracy: 0.0958\n"
     ]
    }
   ],
   "source": [
    "history = model.fit(X_train, y_train, epochs=1,\n",
    "                   validation_data=(X_valid, y_valid),\n",
    "                   callbacks=[expon_lr])"
   ]
  },
  {
   "cell_type": "code",
   "execution_count": 168,
   "metadata": {},
   "outputs": [
    {
     "data": {
      "text/plain": [
       "Text(0, 0.5, 'Loss')"
      ]
     },
     "execution_count": 168,
     "metadata": {},
     "output_type": "execute_result"
    },
    {
     "data": {
      "image/png": "[encoded data removed]",
      "text/plain": [
       "<Figure size 432x288 with 1 Axes>"
      ]
     },
     "metadata": {
      "needs_background": "light"
     },
     "output_type": "display_data"
    }
   ],
   "source": [
    "plt.plot(expon_lr.rates, expon_lr.losses)\n",
    "plt.gca().set_xscale('log')\n",
    "plt.hlines(y = min(expon_lr.losses), xmin = min(expon_lr.rates),xmax = max(expon_lr.rates))\n",
    "plt.axis([min(expon_lr.rates), max(expon_lr.rates), 0, expon_lr.losses[0]])\n",
    "plt.grid()\n",
    "plt.xlabel(\"Learning rate\")\n",
    "plt.ylabel(\"Loss\")"
   ]
  },
  {
   "cell_type": "markdown",
   "metadata": {},
   "source": [
    "The loss starts shooting back up violently when the learning rate goes over 6e-1, so let's try using half of that, at 3e-1:"
   ]
  },
  {
   "cell_type": "code",
   "execution_count": 170,
   "metadata": {},
   "outputs": [],
   "source": [
    "keras.backend.clear_session()\n",
    "np.random.seed(42)\n",
    "tf.random.set_seed(42)"
   ]
  },
  {
   "cell_type": "code",
   "execution_count": 171,
   "metadata": {},
   "outputs": [],
   "source": [
    "model = keras.models.Sequential([\n",
    "    keras.layers.Flatten(input_shape=[28, 28]),\n",
    "    keras.layers.Dense(300, activation=\"relu\"),\n",
    "    keras.layers.Dense(100, activation=\"relu\"),\n",
    "    keras.layers.Dense(10, activation=\"softmax\")\n",
    "])"
   ]
  },
  {
   "cell_type": "code",
   "execution_count": 172,
   "metadata": {},
   "outputs": [],
   "source": [
    "model.compile(loss=keras.losses.sparse_categorical_crossentropy, optimizer=keras.optimizers.SGD(lr=3e-1), metrics=[\"accuracy\"])"
   ]
  },
  {
   "cell_type": "code",
   "execution_count": 173,
   "metadata": {},
   "outputs": [
    {
     "data": {
      "text/plain": [
       "'.\\\\my_mnist_logs\\\\run_001'"
      ]
     },
     "execution_count": 173,
     "metadata": {},
     "output_type": "execute_result"
    }
   ],
   "source": [
    "run_index = 1\n",
    "run_logdir = os.path.join(os.curdir, \"my_mnist_logs\", \"run_{:03d}\".format(run_index))\n",
    "run_logdir"
   ]
  },
  {
   "cell_type": "code",
   "execution_count": 174,
   "metadata": {},
   "outputs": [],
   "source": [
    "early_stopping_cb = keras.callbacks.EarlyStopping(patience=20)\n",
    "checkpoint_cb = keras.callbacks.ModelCheckpoint(\"my_mnist_model.h5\", save_best_only=True)\n",
    "tensorboard_cb = keras.callbacks.TensorBoard(run_logdir)"
   ]
  },
  {
   "cell_type": "code",
   "execution_count": 175,
   "metadata": {},
   "outputs": [
    {
     "name": "stdout",
     "output_type": "stream",
     "text": [
      "Epoch 1/100\n",
      "1719/1719 [==============================] - 39s 23ms/step - loss: 0.4202 - accuracy: 0.8677 - val_loss: 0.0990 - val_accuracy: 0.9728\n",
      "Epoch 2/100\n",
      "1719/1719 [==============================] - 9s 5ms/step - loss: 0.0935 - accuracy: 0.9712 - val_loss: 0.1015 - val_accuracy: 0.9706\n",
      "Epoch 3/100\n",
      "1719/1719 [==============================] - 7s 4ms/step - loss: 0.0683 - accuracy: 0.9780 - val_loss: 0.0759 - val_accuracy: 0.9770\n",
      "Epoch 4/100\n",
      "1719/1719 [==============================] - 11s 6ms/step - loss: 0.0445 - accuracy: 0.9861 - val_loss: 0.0719 - val_accuracy: 0.9780\n",
      "Epoch 5/100\n",
      "1719/1719 [==============================] - 5s 3ms/step - loss: 0.0362 - accuracy: 0.9880 - val_loss: 0.0686 - val_accuracy: 0.9806\n",
      "Epoch 6/100\n",
      "1719/1719 [==============================] - 8s 5ms/step - loss: 0.0263 - accuracy: 0.9918 - val_loss: 0.0719 - val_accuracy: 0.9830\n",
      "Epoch 7/100\n",
      "1719/1719 [==============================] - 6s 4ms/step - loss: 0.0241 - accuracy: 0.9920 - val_loss: 0.0856 - val_accuracy: 0.9784\n",
      "Epoch 8/100\n",
      "1719/1719 [==============================] - 10s 6ms/step - loss: 0.0182 - accuracy: 0.9941 - val_loss: 0.0907 - val_accuracy: 0.9780\n",
      "Epoch 9/100\n",
      "1719/1719 [==============================] - 7s 4ms/step - loss: 0.0154 - accuracy: 0.9952 - val_loss: 0.0755 - val_accuracy: 0.9830\n",
      "Epoch 10/100\n",
      "1719/1719 [==============================] - 10s 6ms/step - loss: 0.0077 - accuracy: 0.9977 - val_loss: 0.0890 - val_accuracy: 0.9810\n",
      "Epoch 11/100\n",
      "1719/1719 [==============================] - 9s 5ms/step - loss: 0.0145 - accuracy: 0.9953 - val_loss: 0.0949 - val_accuracy: 0.9812\n",
      "Epoch 12/100\n",
      "1719/1719 [==============================] - 10s 6ms/step - loss: 0.0070 - accuracy: 0.9978 - val_loss: 0.0773 - val_accuracy: 0.9820\n",
      "Epoch 13/100\n",
      "1719/1719 [==============================] - 10s 6ms/step - loss: 0.0078 - accuracy: 0.9977 - val_loss: 0.0999 - val_accuracy: 0.9788\n",
      "Epoch 14/100\n",
      "1719/1719 [==============================] - 7s 4ms/step - loss: 0.0061 - accuracy: 0.9981 - val_loss: 0.0987 - val_accuracy: 0.9808\n",
      "Epoch 15/100\n",
      "1719/1719 [==============================] - 11s 6ms/step - loss: 0.0032 - accuracy: 0.9991 - val_loss: 0.1425 - val_accuracy: 0.9782\n",
      "Epoch 16/100\n",
      "1719/1719 [==============================] - 9s 5ms/step - loss: 0.0094 - accuracy: 0.9972 - val_loss: 0.0988 - val_accuracy: 0.9834\n",
      "Epoch 17/100\n",
      "1719/1719 [==============================] - 11s 6ms/step - loss: 0.0101 - accuracy: 0.9967 - val_loss: 0.1139 - val_accuracy: 0.9808\n",
      "Epoch 18/100\n",
      "1719/1719 [==============================] - 8s 5ms/step - loss: 0.0103 - accuracy: 0.9963 - val_loss: 0.0981 - val_accuracy: 0.9832\n",
      "Epoch 19/100\n",
      "1719/1719 [==============================] - 3s 2ms/step - loss: 0.0026 - accuracy: 0.9992 - val_loss: 0.1076 - val_accuracy: 0.9820\n",
      "Epoch 20/100\n",
      "1719/1719 [==============================] - 3s 2ms/step - loss: 0.0025 - accuracy: 0.9992 - val_loss: 0.0968 - val_accuracy: 0.9848\n",
      "Epoch 21/100\n",
      "1719/1719 [==============================] - 4s 2ms/step - loss: 0.0011 - accuracy: 0.9997 - val_loss: 0.1028 - val_accuracy: 0.9820\n",
      "Epoch 22/100\n",
      "1719/1719 [==============================] - 4s 2ms/step - loss: 0.0016 - accuracy: 0.9997 - val_loss: 0.1017 - val_accuracy: 0.9830\n",
      "Epoch 23/100\n",
      "1719/1719 [==============================] - 7s 4ms/step - loss: 1.8570e-04 - accuracy: 1.0000 - val_loss: 0.1031 - val_accuracy: 0.9840\n",
      "Epoch 24/100\n",
      "1719/1719 [==============================] - 5s 3ms/step - loss: 5.8794e-05 - accuracy: 1.0000 - val_loss: 0.1035 - val_accuracy: 0.9846\n",
      "Epoch 25/100\n",
      "1719/1719 [==============================] - 4s 2ms/step - loss: 4.9853e-05 - accuracy: 1.0000 - val_loss: 0.1039 - val_accuracy: 0.9842\n"
     ]
    }
   ],
   "source": [
    "history = model.fit(X_train, y_train, epochs=100, \n",
    "                   validation_data=(X_valid, y_valid),\n",
    "                   callbacks=[checkpoint_cb, early_stopping_cb, tensorboard_cb])"
   ]
  },
  {
   "cell_type": "code",
   "execution_count": 177,
   "metadata": {},
   "outputs": [
    {
     "name": "stdout",
     "output_type": "stream",
     "text": [
      "313/313 [==============================] - 1s 1ms/step - loss: 0.0731 - accuracy: 0.9800\n"
     ]
    },
    {
     "data": {
      "text/plain": [
       "[0.0731310024857521, 0.9800000190734863]"
      ]
     },
     "execution_count": 177,
     "metadata": {},
     "output_type": "execute_result"
    }
   ],
   "source": [
    "model = keras.models.load_model(\"my_mnist_model.h5\")\n",
    "model.evaluate(X_test, y_test)"
   ]
  },
  {
   "cell_type": "code",
   "execution_count": null,
   "metadata": {},
   "outputs": [],
   "source": [
    "%tensorboard --logdir logs"
   ]
  },
  {
   "cell_type": "code",
   "execution_count": null,
   "metadata": {},
   "outputs": [],
   "source": []
  }
 ],
 "metadata": {
  "kernelspec": {
   "display_name": "Python 3",
   "language": "python",
   "name": "python3"
  },
  "language_info": {
   "codemirror_mode": {
    "name": "ipython",
    "version": 3
   },
   "file_extension": ".py",
   "mimetype": "text/x-python",
   "name": "python",
   "nbconvert_exporter": "python",
   "pygments_lexer": "ipython3",
   "version": "3.8.5"
  }
 },
 "nbformat": 4,
 "nbformat_minor": 4
}
