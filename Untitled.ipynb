{
 "cells": [
  {
   "cell_type": "markdown",
   "id": "ac4b4c6e",
   "metadata": {},
   "source": [
    "# TensorFlow Tutorial 3"
   ]
  },
  {
   "cell_type": "code",
   "execution_count": 9,
   "id": "f5baff9a",
   "metadata": {},
   "outputs": [
    {
     "name": "stdout",
     "output_type": "stream",
     "text": [
      "9\n",
      "8\n",
      "7\n",
      "6\n",
      "5\n",
      "4\n",
      "3\n",
      "2\n",
      "1\n",
      "0\n"
     ]
    }
   ],
   "source": [
    "import numpy as np\n",
    "\n",
    "a = list(np.arange(10))\n",
    "for i in reversed(a):\n",
    "    print(i)"
   ]
  },
  {
   "cell_type": "code",
   "execution_count": 4,
   "id": "4f0c7908-77e0-4193-90d0-9d701d2c3602",
   "metadata": {},
   "outputs": [
    {
     "data": {
      "text/plain": [
       "deque([1, 2, 3, 4])"
      ]
     },
     "execution_count": 4,
     "metadata": {},
     "output_type": "execute_result"
    }
   ],
   "source": [
    "from collections import deque\n",
    "\n",
    "a = deque([1, 2, 3, 4], maxlen=4)\n",
    "a"
   ]
  },
  {
   "cell_type": "code",
   "execution_count": 4,
   "id": "7f51613f",
   "metadata": {},
   "outputs": [
    {
     "data": {
      "text/plain": [
       "array([[1],\n",
       "       [2],\n",
       "       [3]])"
      ]
     },
     "execution_count": 4,
     "metadata": {},
     "output_type": "execute_result"
    }
   ],
   "source": [
    "np.expand_dims(a, axis=1)"
   ]
  },
  {
   "cell_type": "code",
   "execution_count": 28,
   "id": "183fbb6d",
   "metadata": {},
   "outputs": [
    {
     "data": {
      "text/plain": [
       "array([  0,   2,   4,   6,   8,  10,  12,  14,  16,  18,  20,  22,  24,\n",
       "        26,  28,  30,  32,  34,  36,  38,  40,  42,  44,  46,  48,  50,\n",
       "        52,  54,  56,  58,  60,  62,  64,  66,  68,  70,  72,  74,  76,\n",
       "        78,  80,  82,  84,  86,  88,  90,  92,  94,  96,  98, 100, 102,\n",
       "       104, 106, 108, 110, 112, 114, 116, 118, 120, 122, 124, 126, 128,\n",
       "       130, 132, 134, 136, 138, 140, 142, 144, 146, 148, 150, 152, 154,\n",
       "       156, 158, 160, 162, 164, 166, 168, 170, 172, 174, 176, 178, 180,\n",
       "       182, 184, 186, 188, 190, 192, 194, 196, 198])"
      ]
     },
     "execution_count": 28,
     "metadata": {},
     "output_type": "execute_result"
    }
   ],
   "source": [
    "a"
   ]
  },
  {
   "cell_type": "code",
   "execution_count": 45,
   "id": "d67909f5",
   "metadata": {},
   "outputs": [
    {
     "data": {
      "text/plain": [
       "<tf.Tensor: shape=(2, 10), dtype=int64, numpy=\n",
       "array([[1, 3, 3, 3, 3, 3, 3, 0, 1, 1],\n",
       "       [1, 0, 1, 2, 0, 2, 3, 1, 0, 1]], dtype=int64)>"
      ]
     },
     "execution_count": 45,
     "metadata": {},
     "output_type": "execute_result"
    }
   ],
   "source": [
    "tf.random.categorical([[0.1, 0.5, 0.3, 0.1], [0.9, 0.1, 0, 0]], 10)"
   ]
  },
  {
   "cell_type": "code",
   "execution_count": 30,
   "id": "c0c1a93a",
   "metadata": {},
   "outputs": [],
   "source": [
    "import tensorflow as tf\n",
    "from tensorflow import keras\n",
    "from tensorflow.keras import layers\n",
    "from tensorflow.keras.datasets import mnist"
   ]
  },
  {
   "cell_type": "code",
   "execution_count": 22,
   "id": "1d33064a",
   "metadata": {},
   "outputs": [],
   "source": [
    "(X_train, y_train), (X_test, y_test) = mnist.load_data()"
   ]
  },
  {
   "cell_type": "markdown",
   "id": "28c733fa",
   "metadata": {},
   "source": [
    "Flatten the data to feed into neural network"
   ]
  },
  {
   "cell_type": "code",
   "execution_count": 23,
   "id": "f7ccf104",
   "metadata": {},
   "outputs": [
    {
     "data": {
      "text/plain": [
       "(60000, 28, 28)"
      ]
     },
     "execution_count": 23,
     "metadata": {},
     "output_type": "execute_result"
    }
   ],
   "source": [
    "X_train.shape"
   ]
  },
  {
   "cell_type": "code",
   "execution_count": 24,
   "id": "fdcb8521",
   "metadata": {},
   "outputs": [],
   "source": [
    "X_train = X_train.reshape(-1, 28*28).astype(\"float32\") / 255\n",
    "X_test = X_test.reshape(-1, 28*28).astype(\"float32\") / 255"
   ]
  },
  {
   "cell_type": "markdown",
   "id": "7afe712d",
   "metadata": {},
   "source": [
    "## 1. Sequential API (very convenient, not very flexible) - one input map to one output"
   ]
  },
  {
   "cell_type": "code",
   "execution_count": 25,
   "id": "7097b837",
   "metadata": {},
   "outputs": [
    {
     "name": "stdout",
     "output_type": "stream",
     "text": [
      "Model: \"sequential_5\"\n",
      "_________________________________________________________________\n",
      "Layer (type)                 Output Shape              Param #   \n",
      "=================================================================\n",
      "dense_15 (Dense)             (None, 512)               401920    \n",
      "_________________________________________________________________\n",
      "dense_16 (Dense)             (None, 256)               131328    \n",
      "_________________________________________________________________\n",
      "dense_17 (Dense)             (None, 10)                2570      \n",
      "=================================================================\n",
      "Total params: 535,818\n",
      "Trainable params: 535,818\n",
      "Non-trainable params: 0\n",
      "_________________________________________________________________\n"
     ]
    }
   ],
   "source": [
    "model = keras.Sequential(\n",
    "[\n",
    "    layers.Input(shape=(28*28)),\n",
    "    layers.Dense(512, activation=\"relu\"),\n",
    "    layers.Dense(256, activation=\"relu\"),\n",
    "    layers.Dense(10),\n",
    "])\n",
    "\n",
    "## Can also add layer by layer\n",
    "## model = keras.Sequential()\n",
    "## model.add(layers.Input(shape=(28*28)))\n",
    "## model.add(layers.Dense(512, activation=\"relu\"))\n",
    "## model.add(layers.Dense(256, activation=\"relu\"))\n",
    "## model.add(layers.Dense(10))\n",
    "\n",
    "model.summary()"
   ]
  },
  {
   "cell_type": "markdown",
   "id": "c408425d",
   "metadata": {},
   "source": [
    "model = keras.Model(inputs=model.inputs,\n",
    "                   outputs=[model.layers[-2].output])  ## Extract outputs for middle layers\n",
    "\n",
    "feature = model.predict(X_train)\n",
    "feature.shape"
   ]
  },
  {
   "cell_type": "markdown",
   "id": "3348fd62",
   "metadata": {},
   "source": [
    "- Get all the outputs from all layers"
   ]
  },
  {
   "cell_type": "markdown",
   "id": "5acc3957",
   "metadata": {},
   "source": [
    "model = keras.Model(inputs=model.inputs,\n",
    "                   outputs=[layer.output for layer in model.layers])\n",
    "features = model.predict(X_train)\n",
    "\n",
    "for feature in features:\n",
    "    print(feature.shape)"
   ]
  },
  {
   "cell_type": "code",
   "execution_count": 26,
   "id": "478005c9",
   "metadata": {},
   "outputs": [
    {
     "name": "stdout",
     "output_type": "stream",
     "text": [
      "Epoch 1/5\n",
      "1875/1875 - 4s - loss: 0.1820 - accuracy: 0.9458\n",
      "Epoch 2/5\n",
      "1875/1875 - 3s - loss: 0.0808 - accuracy: 0.9740\n",
      "Epoch 3/5\n",
      "1875/1875 - 4s - loss: 0.0539 - accuracy: 0.9833\n",
      "Epoch 4/5\n",
      "1875/1875 - 4s - loss: 0.0431 - accuracy: 0.9861\n",
      "Epoch 5/5\n",
      "1875/1875 - 4s - loss: 0.0326 - accuracy: 0.9890\n",
      "313/313 - 0s - loss: 0.0832 - accuracy: 0.9771\n"
     ]
    },
    {
     "data": {
      "text/plain": [
       "[0.08320387452840805, 0.9771000146865845]"
      ]
     },
     "execution_count": 26,
     "metadata": {},
     "output_type": "execute_result"
    }
   ],
   "source": [
    "## Specify network configuration\n",
    "model.compile(loss=keras.losses.SparseCategoricalCrossentropy(from_logits=True),\n",
    "             optimizer=keras.optimizers.Adam(lr=0.001),\n",
    "             metrics=[\"accuracy\"],\n",
    "             )\n",
    "\n",
    "model.fit(X_train, y_train, batch_size=32, epochs=5, verbose=2)\n",
    "model.evaluate(X_test, y_test, batch_size=32, verbose=2)"
   ]
  },
  {
   "cell_type": "markdown",
   "id": "90edea72",
   "metadata": {},
   "source": [
    "## 2. Functional API (A bit more flexible) - multiple inputs, multiple outputs"
   ]
  },
  {
   "cell_type": "code",
   "execution_count": 27,
   "id": "3baeb274",
   "metadata": {},
   "outputs": [],
   "source": [
    "inputs = keras.Input(shape=(28*28))\n",
    "x = layers.Dense(512, activation=\"relu\")(inputs)\n",
    "y = layers.Dense(256, activation=\"relu\")(x)\n",
    "outputs = layers.Dense(10, activation=\"softmax\")(y)\n",
    "model = keras.Model(inputs=inputs, outputs=outputs)"
   ]
  },
  {
   "cell_type": "code",
   "execution_count": 28,
   "id": "23cab314",
   "metadata": {},
   "outputs": [],
   "source": [
    "## Specify network configuration\n",
    "model.compile(loss=keras.losses.SparseCategoricalCrossentropy(),\n",
    "             optimizer=keras.optimizers.Adam(lr=0.001),\n",
    "             metrics=[\"accuracy\"],\n",
    "             )"
   ]
  },
  {
   "cell_type": "code",
   "execution_count": 29,
   "id": "56832a21",
   "metadata": {},
   "outputs": [
    {
     "name": "stdout",
     "output_type": "stream",
     "text": [
      "Epoch 1/5\n",
      "1875/1875 - 4s - loss: 0.1847 - accuracy: 0.9440\n",
      "Epoch 2/5\n",
      "1875/1875 - 4s - loss: 0.0785 - accuracy: 0.9759\n",
      "Epoch 3/5\n",
      "1875/1875 - 4s - loss: 0.0536 - accuracy: 0.9826\n",
      "Epoch 4/5\n",
      "1875/1875 - 4s - loss: 0.0420 - accuracy: 0.9860\n",
      "Epoch 5/5\n",
      "1875/1875 - 4s - loss: 0.0337 - accuracy: 0.9887\n",
      "313/313 - 0s - loss: 0.0834 - accuracy: 0.9765\n"
     ]
    },
    {
     "data": {
      "text/plain": [
       "[0.08342394232749939, 0.9764999747276306]"
      ]
     },
     "execution_count": 29,
     "metadata": {},
     "output_type": "execute_result"
    }
   ],
   "source": [
    "model.fit(X_train, y_train, batch_size=32, epochs=5, verbose=2)\n",
    "model.evaluate(X_test, y_test, batch_size=32, verbose=2)"
   ]
  },
  {
   "cell_type": "markdown",
   "id": "fe00e8c6",
   "metadata": {},
   "source": [
    "## 3. Subclass API - most flexible"
   ]
  },
  {
   "cell_type": "code",
   "execution_count": null,
   "id": "d2b8ba14",
   "metadata": {},
   "outputs": [],
   "source": []
  },
  {
   "cell_type": "code",
   "execution_count": null,
   "id": "029a7e00",
   "metadata": {},
   "outputs": [],
   "source": []
  },
  {
   "cell_type": "code",
   "execution_count": null,
   "id": "f769f41c",
   "metadata": {},
   "outputs": [],
   "source": []
  },
  {
   "cell_type": "code",
   "execution_count": null,
   "id": "1a4e2b71",
   "metadata": {},
   "outputs": [],
   "source": []
  },
  {
   "cell_type": "code",
   "execution_count": null,
   "id": "d7d727da",
   "metadata": {},
   "outputs": [],
   "source": []
  },
  {
   "cell_type": "markdown",
   "id": "2feeaa5c",
   "metadata": {},
   "source": [
    "# TensorFlow Tutorial 4 - Convolutional Neural Network"
   ]
  },
  {
   "cell_type": "code",
   "execution_count": 31,
   "id": "28e97318",
   "metadata": {},
   "outputs": [],
   "source": [
    "from tensorflow.keras.datasets import cifar10"
   ]
  },
  {
   "cell_type": "code",
   "execution_count": 32,
   "id": "f17a5e30",
   "metadata": {},
   "outputs": [
    {
     "name": "stdout",
     "output_type": "stream",
     "text": [
      "Downloading data from https://www.cs.toronto.edu/~kriz/cifar-10-python.tar.gz\n",
      "170500096/170498071 [==============================] - 13s 0us/step\n"
     ]
    }
   ],
   "source": [
    "(X_train, y_train), (X_test, y_test) = cifar10.load_data()"
   ]
  },
  {
   "cell_type": "code",
   "execution_count": 34,
   "id": "b89ded08",
   "metadata": {},
   "outputs": [],
   "source": [
    "X_train = X_train.astype(\"float32\")/255\n",
    "y_train = y_train.astype(\"float32\")/255"
   ]
  },
  {
   "cell_type": "code",
   "execution_count": 35,
   "id": "f11683ca",
   "metadata": {},
   "outputs": [
    {
     "data": {
      "text/plain": [
       "(50000, 32, 32, 3)"
      ]
     },
     "execution_count": 35,
     "metadata": {},
     "output_type": "execute_result"
    }
   ],
   "source": [
    "X_train.shape"
   ]
  },
  {
   "cell_type": "code",
   "execution_count": null,
   "id": "62d5912c",
   "metadata": {},
   "outputs": [],
   "source": [
    "model = keras.Sequential(\n",
    "[\n",
    "    keras.Input(shape=(32, 32, 3)),\n",
    "    layers.Conv2D()\n",
    "])"
   ]
  }
 ],
 "metadata": {
  "kernelspec": {
   "display_name": "Python 3",
   "language": "python",
   "name": "python3"
  },
  "language_info": {
   "codemirror_mode": {
    "name": "ipython",
    "version": 3
   },
   "file_extension": ".py",
   "mimetype": "text/x-python",
   "name": "python",
   "nbconvert_exporter": "python",
   "pygments_lexer": "ipython3",
   "version": "3.7.10"
  }
 },
 "nbformat": 4,
 "nbformat_minor": 5
}
