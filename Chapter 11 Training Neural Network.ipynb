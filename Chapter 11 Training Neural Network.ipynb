{
 "cells": [
  {
   "cell_type": "markdown",
   "id": "769a033a",
   "metadata": {},
   "source": [
    "# Training the neural network"
   ]
  },
  {
   "cell_type": "code",
   "execution_count": 1,
   "id": "adcda4cf",
   "metadata": {},
   "outputs": [],
   "source": [
    "import tensorflow as tf\n",
    "from tensorflow import keras"
   ]
  },
  {
   "cell_type": "code",
   "execution_count": 2,
   "id": "4783aadf",
   "metadata": {},
   "outputs": [],
   "source": [
    "(X_train_full, y_train_full), (X_test, y_test) = keras.datasets.fashion_mnist.load_data()\n",
    "X_train_full = X_train_full / 255.0\n",
    "X_test = X_test / 255.0\n",
    "X_valid, X_train = X_train_full[:5000], X_train_full[5000:]\n",
    "y_valid, y_train = y_train_full[:5000], y_train_full[5000:]"
   ]
  },
  {
   "cell_type": "markdown",
   "id": "04e0a6a6",
   "metadata": {},
   "source": [
    "## 1. Batch Normalization"
   ]
  },
  {
   "cell_type": "code",
   "execution_count": 3,
   "id": "85bd8f21",
   "metadata": {},
   "outputs": [
    {
     "name": "stdout",
     "output_type": "stream",
     "text": [
      "Model: \"sequential\"\n",
      "_________________________________________________________________\n",
      "Layer (type)                 Output Shape              Param #   \n",
      "=================================================================\n",
      "flatten (Flatten)            (None, 784)               0         \n",
      "_________________________________________________________________\n",
      "batch_normalization (BatchNo (None, 784)               3136      \n",
      "_________________________________________________________________\n",
      "dense (Dense)                (None, 300)               235500    \n",
      "_________________________________________________________________\n",
      "batch_normalization_1 (Batch (None, 300)               1200      \n",
      "_________________________________________________________________\n",
      "dense_1 (Dense)              (None, 100)               30100     \n",
      "_________________________________________________________________\n",
      "batch_normalization_2 (Batch (None, 100)               400       \n",
      "_________________________________________________________________\n",
      "dense_2 (Dense)              (None, 10)                1010      \n",
      "=================================================================\n",
      "Total params: 271,346\n",
      "Trainable params: 268,978\n",
      "Non-trainable params: 2,368\n",
      "_________________________________________________________________\n"
     ]
    }
   ],
   "source": [
    "model = keras.models.Sequential([\n",
    "    keras.layers.Flatten(input_shape=[28, 28]),\n",
    "    keras.layers.BatchNormalization(),\n",
    "    keras.layers.Dense(300, activation=\"relu\"),\n",
    "    keras.layers.BatchNormalization(),\n",
    "    keras.layers.Dense(100, activation=\"relu\"),\n",
    "    keras.layers.BatchNormalization(),\n",
    "    keras.layers.Dense(10, activation=\"softmax\")\n",
    "])\n",
    "\n",
    "model.summary()"
   ]
  },
  {
   "cell_type": "code",
   "execution_count": 4,
   "id": "9894eab9",
   "metadata": {},
   "outputs": [
    {
     "data": {
      "text/plain": [
       "[('batch_normalization/gamma:0', True),\n",
       " ('batch_normalization/beta:0', True),\n",
       " ('batch_normalization/moving_mean:0', False),\n",
       " ('batch_normalization/moving_variance:0', False)]"
      ]
     },
     "execution_count": 4,
     "metadata": {},
     "output_type": "execute_result"
    }
   ],
   "source": [
    "[(var.name, var.trainable) for var in model.layers[1].variables]"
   ]
  },
  {
   "cell_type": "markdown",
   "id": "56b511b2",
   "metadata": {},
   "source": [
    "## Transfer Learning"
   ]
  },
  {
   "cell_type": "code",
   "execution_count": 5,
   "id": "3371d8bf",
   "metadata": {},
   "outputs": [],
   "source": [
    "import numpy as np"
   ]
  },
  {
   "cell_type": "code",
   "execution_count": 6,
   "id": "b6ab83f3",
   "metadata": {},
   "outputs": [],
   "source": [
    "def split_dataset(X, y):\n",
    "    y_5_or_6 = (y == 5) | (y == 6) # sandals or shirts\n",
    "    y_A = y[~y_5_or_6]\n",
    "    y_A[y_A > 6] -= 2 # class indices 7, 8, 9 should be moved to 5, 6, 7\n",
    "    y_B = (y[y_5_or_6] == 6).astype(np.float32) # binary classification task: is it a shirt (class 6)?\n",
    "    return ((X[~y_5_or_6], y_A),\n",
    "            (X[y_5_or_6], y_B))\n",
    "\n",
    "(X_train_A, y_train_A), (X_train_B, y_train_B) = split_dataset(X_train, y_train)\n",
    "(X_valid_A, y_valid_A), (X_valid_B, y_valid_B) = split_dataset(X_valid, y_valid)\n",
    "(X_test_A, y_test_A), (X_test_B, y_test_B) = split_dataset(X_test, y_test)\n",
    "X_train_B = X_train_B[:200]\n",
    "y_train_B = y_train_B[:200]"
   ]
  },
  {
   "cell_type": "code",
   "execution_count": 7,
   "id": "ccb3089c",
   "metadata": {},
   "outputs": [],
   "source": [
    "tf.random.set_seed(42)"
   ]
  },
  {
   "cell_type": "code",
   "execution_count": 8,
   "id": "69f283b0",
   "metadata": {},
   "outputs": [
    {
     "name": "stdout",
     "output_type": "stream",
     "text": [
      "Epoch 1/20\n",
      "1375/1375 [==============================] - 2s 1ms/step - loss: 1.9539 - accuracy: 0.2246 - val_loss: 1.4420 - val_accuracy: 0.6579\n",
      "Epoch 2/20\n",
      "1375/1375 [==============================] - 1s 1ms/step - loss: 1.1829 - accuracy: 0.7351 - val_loss: 0.5949 - val_accuracy: 0.8386\n",
      "Epoch 3/20\n",
      "1375/1375 [==============================] - 1s 1ms/step - loss: 0.5492 - accuracy: 0.8408 - val_loss: 0.4457 - val_accuracy: 0.8563\n",
      "Epoch 4/20\n",
      "1375/1375 [==============================] - 1s 1ms/step - loss: 0.4400 - accuracy: 0.8563 - val_loss: 0.3913 - val_accuracy: 0.8697\n",
      "Epoch 5/20\n",
      "1375/1375 [==============================] - 1s 1ms/step - loss: 0.3872 - accuracy: 0.8693 - val_loss: 0.3583 - val_accuracy: 0.8779\n",
      "Epoch 6/20\n",
      "1375/1375 [==============================] - 1s 1ms/step - loss: 0.3577 - accuracy: 0.8779 - val_loss: 0.3533 - val_accuracy: 0.8744\n",
      "Epoch 7/20\n",
      "1375/1375 [==============================] - 1s 1ms/step - loss: 0.3419 - accuracy: 0.8831 - val_loss: 0.3386 - val_accuracy: 0.8854\n",
      "Epoch 8/20\n",
      "1375/1375 [==============================] - 2s 1ms/step - loss: 0.3366 - accuracy: 0.8838 - val_loss: 0.3206 - val_accuracy: 0.8894\n",
      "Epoch 9/20\n",
      "1375/1375 [==============================] - 2s 1ms/step - loss: 0.3252 - accuracy: 0.8886 - val_loss: 0.3101 - val_accuracy: 0.8966\n",
      "Epoch 10/20\n",
      "1375/1375 [==============================] - 2s 1ms/step - loss: 0.3178 - accuracy: 0.8916 - val_loss: 0.3084 - val_accuracy: 0.8971\n",
      "Epoch 11/20\n",
      "1375/1375 [==============================] - 1s 1ms/step - loss: 0.3046 - accuracy: 0.8946 - val_loss: 0.3009 - val_accuracy: 0.8991\n",
      "Epoch 12/20\n",
      "1375/1375 [==============================] - 1s 1ms/step - loss: 0.3003 - accuracy: 0.8970 - val_loss: 0.3035 - val_accuracy: 0.8959\n",
      "Epoch 13/20\n",
      "1375/1375 [==============================] - 1s 1ms/step - loss: 0.2925 - accuracy: 0.8996 - val_loss: 0.2867 - val_accuracy: 0.9038\n",
      "Epoch 14/20\n",
      "1375/1375 [==============================] - 2s 1ms/step - loss: 0.2842 - accuracy: 0.9038 - val_loss: 0.2798 - val_accuracy: 0.9071\n",
      "Epoch 15/20\n",
      "1375/1375 [==============================] - 1s 1ms/step - loss: 0.2789 - accuracy: 0.9054 - val_loss: 0.2910 - val_accuracy: 0.9028\n",
      "Epoch 16/20\n",
      "1375/1375 [==============================] - 2s 1ms/step - loss: 0.2799 - accuracy: 0.9055 - val_loss: 0.2773 - val_accuracy: 0.9078\n",
      "Epoch 17/20\n",
      "1375/1375 [==============================] - 2s 1ms/step - loss: 0.2719 - accuracy: 0.9095 - val_loss: 0.2899 - val_accuracy: 0.9073\n",
      "Epoch 18/20\n",
      "1375/1375 [==============================] - 2s 1ms/step - loss: 0.2689 - accuracy: 0.9084 - val_loss: 0.2800 - val_accuracy: 0.9063\n",
      "Epoch 19/20\n",
      "1375/1375 [==============================] - 2s 1ms/step - loss: 0.2683 - accuracy: 0.9102 - val_loss: 0.2737 - val_accuracy: 0.9091\n",
      "Epoch 20/20\n",
      "1375/1375 [==============================] - 2s 1ms/step - loss: 0.2620 - accuracy: 0.9114 - val_loss: 0.2660 - val_accuracy: 0.9123\n"
     ]
    }
   ],
   "source": [
    "model_A = keras.models.Sequential()\n",
    "model_A.add(keras.layers.Flatten(input_shape=[28, 28]))\n",
    "for hidden in (300, 100, 50, 50, 50):\n",
    "    model_A.add(keras.layers.Dense(hidden, activation=\"relu\"))\n",
    "model_A.add(keras.layers.Dense(8, activation=\"softmax\"))\n",
    "\n",
    "model_A.compile(loss=keras.losses.sparse_categorical_crossentropy,\n",
    "               optimizer=keras.optimizers.SGD(lr=1e-3),\n",
    "               metrics=[\"accuracy\"])\n",
    "\n",
    "history = model_A.fit(X_train_A, y_train_A, epochs=20,\n",
    "                     validation_data=(X_valid_A, y_valid_A))"
   ]
  },
  {
   "cell_type": "code",
   "execution_count": 14,
   "id": "8182be11",
   "metadata": {},
   "outputs": [],
   "source": [
    "model_B_on_A = keras.models.Sequential(model_A.layers[:-1])\n",
    "model_B_on_A.add(keras.layers.Dense(1, activation=\"sigmoid\"))"
   ]
  },
  {
   "cell_type": "markdown",
   "id": "ce6e5401",
   "metadata": {},
   "source": [
    "Note that `model_A` and `model_B_on_A` now share some layers. When you train `model_B_on_A`, it will also affect `model_A`. If you want to avoid that, you need to clone `model_A` before you reuse its layers. To do this, you must clone `model_A`’s architecture, then copy its weights"
   ]
  },
  {
   "cell_type": "code",
   "execution_count": 15,
   "id": "d64433fc",
   "metadata": {},
   "outputs": [],
   "source": [
    "model_A_clone = keras.models.clone_model(model_A)\n",
    "model_A_clone.set_weights(model_A.get_weights())"
   ]
  },
  {
   "cell_type": "code",
   "execution_count": 16,
   "id": "2f2df26e",
   "metadata": {},
   "outputs": [
    {
     "name": "stdout",
     "output_type": "stream",
     "text": [
      "Model: \"sequential_3\"\n",
      "_________________________________________________________________\n",
      "Layer (type)                 Output Shape              Param #   \n",
      "=================================================================\n",
      "flatten_1 (Flatten)          (None, 784)               0         \n",
      "_________________________________________________________________\n",
      "dense_3 (Dense)              (None, 300)               235500    \n",
      "_________________________________________________________________\n",
      "dense_4 (Dense)              (None, 100)               30100     \n",
      "_________________________________________________________________\n",
      "dense_5 (Dense)              (None, 50)                5050      \n",
      "_________________________________________________________________\n",
      "dense_6 (Dense)              (None, 50)                2550      \n",
      "_________________________________________________________________\n",
      "dense_7 (Dense)              (None, 50)                2550      \n",
      "_________________________________________________________________\n",
      "dense_10 (Dense)             (None, 1)                 51        \n",
      "=================================================================\n",
      "Total params: 275,801\n",
      "Trainable params: 275,801\n",
      "Non-trainable params: 0\n",
      "_________________________________________________________________\n",
      "Model: \"sequential_1\"\n",
      "_________________________________________________________________\n",
      "Layer (type)                 Output Shape              Param #   \n",
      "=================================================================\n",
      "flatten_1 (Flatten)          (None, 784)               0         \n",
      "_________________________________________________________________\n",
      "dense_3 (Dense)              (None, 300)               235500    \n",
      "_________________________________________________________________\n",
      "dense_4 (Dense)              (None, 100)               30100     \n",
      "_________________________________________________________________\n",
      "dense_5 (Dense)              (None, 50)                5050      \n",
      "_________________________________________________________________\n",
      "dense_6 (Dense)              (None, 50)                2550      \n",
      "_________________________________________________________________\n",
      "dense_7 (Dense)              (None, 50)                2550      \n",
      "_________________________________________________________________\n",
      "dense_8 (Dense)              (None, 8)                 408       \n",
      "=================================================================\n",
      "Total params: 276,158\n",
      "Trainable params: 276,158\n",
      "Non-trainable params: 0\n",
      "_________________________________________________________________\n"
     ]
    },
    {
     "data": {
      "text/plain": [
       "(None, None)"
      ]
     },
     "execution_count": 16,
     "metadata": {},
     "output_type": "execute_result"
    }
   ],
   "source": [
    "model_B_on_A.summary(), model_A.summary()"
   ]
  },
  {
   "cell_type": "markdown",
   "id": "cb527034",
   "metadata": {},
   "source": [
    "Now we could just train model_B_on_A for task B, but since the new output layer was\n",
    "initialized randomly, it will make large errors, at least during the first few epochs, so\n",
    "there will be large error gradients that may wreck the reused weights. To avoid this,\n",
    "one approach is to freeze the reused layers during the first few epochs, giving the new\n",
    "layer some time to learn reasonable weights. To do this, simply set every layer’s train\n",
    "able attribute to False and compile the model:"
   ]
  },
  {
   "cell_type": "code",
   "execution_count": 17,
   "id": "66beaae4",
   "metadata": {},
   "outputs": [],
   "source": [
    "for layer in model_B_on_A.layers[:-1]:   ## Freezing the layers\n",
    "    layer.trainable = False"
   ]
  },
  {
   "cell_type": "markdown",
   "id": "efe4344a",
   "metadata": {},
   "source": [
    "Next, we can train the model for a few epochs, then unfreeze the reused layers (which\n",
    "requires compiling the model again) and continue training to fine-tune the reused\n",
    "layers for task B. After unfreezing the reused layers, it is usually a good idea to reduce\n",
    "the learning rate, once again to avoid damaging the reused weights:"
   ]
  },
  {
   "cell_type": "code",
   "execution_count": 18,
   "id": "2c412b36",
   "metadata": {},
   "outputs": [
    {
     "name": "stdout",
     "output_type": "stream",
     "text": [
      "Epoch 1/4\n",
      "7/7 [==============================] - 0s 25ms/step - loss: 0.6693 - accuracy: 0.4786 - val_loss: 0.6283 - val_accuracy: 0.4990\n",
      "Epoch 2/4\n",
      "7/7 [==============================] - 0s 9ms/step - loss: 0.5934 - accuracy: 0.5019 - val_loss: 0.5715 - val_accuracy: 0.5000\n",
      "Epoch 3/4\n",
      "7/7 [==============================] - 0s 9ms/step - loss: 0.5306 - accuracy: 0.5224 - val_loss: 0.5267 - val_accuracy: 0.5101\n",
      "Epoch 4/4\n",
      "7/7 [==============================] - 0s 9ms/step - loss: 0.4938 - accuracy: 0.5150 - val_loss: 0.4887 - val_accuracy: 0.5598\n",
      "Epoch 1/16\n",
      "7/7 [==============================] - 0s 25ms/step - loss: 0.4562 - accuracy: 0.6076 - val_loss: 0.4082 - val_accuracy: 0.8002\n",
      "Epoch 2/16\n",
      "7/7 [==============================] - 0s 10ms/step - loss: 0.3683 - accuracy: 0.8258 - val_loss: 0.3511 - val_accuracy: 0.9158\n",
      "Epoch 3/16\n",
      "7/7 [==============================] - 0s 9ms/step - loss: 0.3133 - accuracy: 0.9418 - val_loss: 0.3144 - val_accuracy: 0.9533\n",
      "Epoch 4/16\n",
      "7/7 [==============================] - 0s 9ms/step - loss: 0.2860 - accuracy: 0.9831 - val_loss: 0.2874 - val_accuracy: 0.9635\n",
      "Epoch 5/16\n",
      "7/7 [==============================] - 0s 9ms/step - loss: 0.2495 - accuracy: 0.9889 - val_loss: 0.2651 - val_accuracy: 0.9736\n",
      "Epoch 6/16\n",
      "7/7 [==============================] - 0s 10ms/step - loss: 0.2536 - accuracy: 0.9823 - val_loss: 0.2473 - val_accuracy: 0.9817\n",
      "Epoch 7/16\n",
      "7/7 [==============================] - 0s 10ms/step - loss: 0.2239 - accuracy: 0.9842 - val_loss: 0.2326 - val_accuracy: 0.9848\n",
      "Epoch 8/16\n",
      "7/7 [==============================] - 0s 10ms/step - loss: 0.2205 - accuracy: 0.9914 - val_loss: 0.2193 - val_accuracy: 0.9868\n",
      "Epoch 9/16\n",
      "7/7 [==============================] - 0s 9ms/step - loss: 0.1991 - accuracy: 0.9973 - val_loss: 0.2073 - val_accuracy: 0.9858\n",
      "Epoch 10/16\n",
      "7/7 [==============================] - 0s 10ms/step - loss: 0.1935 - accuracy: 0.9931 - val_loss: 0.1978 - val_accuracy: 0.9858\n",
      "Epoch 11/16\n",
      "7/7 [==============================] - 0s 10ms/step - loss: 0.1757 - accuracy: 1.0000 - val_loss: 0.1887 - val_accuracy: 0.9858\n",
      "Epoch 12/16\n",
      "7/7 [==============================] - 0s 11ms/step - loss: 0.1804 - accuracy: 1.0000 - val_loss: 0.1806 - val_accuracy: 0.9868\n",
      "Epoch 13/16\n",
      "7/7 [==============================] - 0s 11ms/step - loss: 0.1585 - accuracy: 1.0000 - val_loss: 0.1730 - val_accuracy: 0.9878\n",
      "Epoch 14/16\n",
      "7/7 [==============================] - 0s 11ms/step - loss: 0.1449 - accuracy: 1.0000 - val_loss: 0.1662 - val_accuracy: 0.9888\n",
      "Epoch 15/16\n",
      "7/7 [==============================] - 0s 11ms/step - loss: 0.1507 - accuracy: 1.0000 - val_loss: 0.1602 - val_accuracy: 0.9868\n",
      "Epoch 16/16\n",
      "7/7 [==============================] - 0s 9ms/step - loss: 0.1395 - accuracy: 1.0000 - val_loss: 0.1548 - val_accuracy: 0.9868\n"
     ]
    }
   ],
   "source": [
    "model_B_on_A.compile(loss=keras.losses.binary_crossentropy,\n",
    "                    optimizer=keras.optimizers.SGD(lr=1e-3),\n",
    "                    metrics=[\"accuracy\"])\n",
    "\n",
    "history = model_B_on_A.fit(X_train_B, y_train_B, epochs=4, \n",
    "                          validation_data=(X_valid_B, y_valid_B))\n",
    "\n",
    "for layer in model_B_on_A.layers[:-1]:   ## Un-Freeze the layers\n",
    "    layer.trainable = True\n",
    "    \n",
    "model_B_on_A.compile(loss=keras.losses.binary_crossentropy,     ## Need to re-compile after un-freezing\n",
    "                    optimizer=keras.optimizers.SGD(lr=1e-3),    ## Lower leraning rate after un-freezing \n",
    "                    metrics=[\"accuracy\"])\n",
    "\n",
    "history = model_B_on_A.fit(X_train_B, y_train_B, epochs=16, \n",
    "                          validation_data=(X_valid_B, y_valid_B))"
   ]
  },
  {
   "cell_type": "code",
   "execution_count": 19,
   "id": "688e3036",
   "metadata": {},
   "outputs": [
    {
     "name": "stdout",
     "output_type": "stream",
     "text": [
      "63/63 [==============================] - 0s 1ms/step - loss: 0.1481 - accuracy: 0.9930\n"
     ]
    },
    {
     "data": {
      "text/plain": [
       "[0.14813223481178284, 0.9929999709129333]"
      ]
     },
     "execution_count": 19,
     "metadata": {},
     "output_type": "execute_result"
    }
   ],
   "source": [
    "model_B_on_A.evaluate(X_test_B, y_test_B)"
   ]
  },
  {
   "cell_type": "markdown",
   "id": "14aa9fc7",
   "metadata": {},
   "source": [
    "# Learning Rate Scheduling"
   ]
  },
  {
   "cell_type": "markdown",
   "id": "5a44847f",
   "metadata": {},
   "source": [
    "## - Power Scheduling"
   ]
  },
  {
   "cell_type": "markdown",
   "id": "946534be",
   "metadata": {},
   "source": [
    "lr = lr0 / (1 + steps / s)**c"
   ]
  },
  {
   "cell_type": "code",
   "execution_count": 20,
   "id": "d115cf31",
   "metadata": {},
   "outputs": [],
   "source": [
    "model = keras.models.Sequential([\n",
    "    keras.layers.Flatten(input_shape=[28, 28]),\n",
    "    keras.layers.Dense(300, activation=\"selu\", kernel_initializer=\"lecun_normal\"),\n",
    "    keras.layers.Dense(100, activation=\"selu\", kernel_initializer=\"lecun_normal\"),\n",
    "    keras.layers.Dense(10, activation=\"softmax\")\n",
    "])\n",
    "\n",
    "model.compile(loss=keras.losses.sparse_categorical_crossentropy,\n",
    "             optimizer=keras.optimizers.SGD(lr=0.01, decay=1e-4),\n",
    "             metrics=[\"accuracy\"])"
   ]
  },
  {
   "cell_type": "code",
   "execution_count": 21,
   "id": "d1311603",
   "metadata": {},
   "outputs": [
    {
     "name": "stdout",
     "output_type": "stream",
     "text": [
      "Epoch 1/25\n",
      "1719/1719 [==============================] - 3s 2ms/step - loss: 0.7771 - accuracy: 0.7370 - val_loss: 0.4698 - val_accuracy: 0.8374\n",
      "Epoch 2/25\n",
      "1719/1719 [==============================] - 3s 2ms/step - loss: 0.4661 - accuracy: 0.8340 - val_loss: 0.4194 - val_accuracy: 0.8556\n",
      "Epoch 3/25\n",
      "1719/1719 [==============================] - 3s 2ms/step - loss: 0.4289 - accuracy: 0.8468 - val_loss: 0.4633 - val_accuracy: 0.8250\n",
      "Epoch 4/25\n",
      "1719/1719 [==============================] - 3s 2ms/step - loss: 0.4126 - accuracy: 0.8536 - val_loss: 0.4000 - val_accuracy: 0.8596\n",
      "Epoch 5/25\n",
      "1719/1719 [==============================] - 3s 2ms/step - loss: 0.4074 - accuracy: 0.8554 - val_loss: 0.3894 - val_accuracy: 0.8642\n",
      "Epoch 6/25\n",
      "1719/1719 [==============================] - 3s 2ms/step - loss: 0.3841 - accuracy: 0.8638 - val_loss: 0.3847 - val_accuracy: 0.8664\n",
      "Epoch 7/25\n",
      "1719/1719 [==============================] - 3s 2ms/step - loss: 0.3795 - accuracy: 0.8658 - val_loss: 0.3804 - val_accuracy: 0.8668\n",
      "Epoch 8/25\n",
      "1719/1719 [==============================] - 3s 2ms/step - loss: 0.3662 - accuracy: 0.8705 - val_loss: 0.3873 - val_accuracy: 0.8630\n",
      "Epoch 9/25\n",
      "1719/1719 [==============================] - 3s 2ms/step - loss: 0.3714 - accuracy: 0.8700 - val_loss: 0.3722 - val_accuracy: 0.8640\n",
      "Epoch 10/25\n",
      "1719/1719 [==============================] - 3s 2ms/step - loss: 0.3571 - accuracy: 0.8722 - val_loss: 0.3686 - val_accuracy: 0.8690\n",
      "Epoch 11/25\n",
      "1719/1719 [==============================] - 3s 2ms/step - loss: 0.3543 - accuracy: 0.8745 - val_loss: 0.3665 - val_accuracy: 0.8730\n",
      "Epoch 12/25\n",
      "1719/1719 [==============================] - 3s 2ms/step - loss: 0.3477 - accuracy: 0.8763 - val_loss: 0.3625 - val_accuracy: 0.8726\n",
      "Epoch 13/25\n",
      "1719/1719 [==============================] - 3s 2ms/step - loss: 0.3441 - accuracy: 0.8779 - val_loss: 0.3609 - val_accuracy: 0.8736\n",
      "Epoch 14/25\n",
      "1719/1719 [==============================] - 3s 2ms/step - loss: 0.3432 - accuracy: 0.8787 - val_loss: 0.3699 - val_accuracy: 0.8690\n",
      "Epoch 15/25\n",
      "1719/1719 [==============================] - 3s 2ms/step - loss: 0.3399 - accuracy: 0.8772 - val_loss: 0.3581 - val_accuracy: 0.8722\n",
      "Epoch 16/25\n",
      "1719/1719 [==============================] - 5s 3ms/step - loss: 0.3358 - accuracy: 0.8800 - val_loss: 0.3548 - val_accuracy: 0.8728\n",
      "Epoch 17/25\n",
      "1719/1719 [==============================] - 3s 2ms/step - loss: 0.3309 - accuracy: 0.8825 - val_loss: 0.3671 - val_accuracy: 0.8702\n",
      "Epoch 18/25\n",
      "1719/1719 [==============================] - 3s 2ms/step - loss: 0.3325 - accuracy: 0.8815 - val_loss: 0.3532 - val_accuracy: 0.8744\n",
      "Epoch 19/25\n",
      "1719/1719 [==============================] - 3s 2ms/step - loss: 0.3331 - accuracy: 0.8819 - val_loss: 0.3532 - val_accuracy: 0.8738\n",
      "Epoch 20/25\n",
      "1719/1719 [==============================] - 4s 2ms/step - loss: 0.3312 - accuracy: 0.8832 - val_loss: 0.3526 - val_accuracy: 0.8748\n",
      "Epoch 21/25\n",
      "1719/1719 [==============================] - 3s 2ms/step - loss: 0.3336 - accuracy: 0.8814 - val_loss: 0.3467 - val_accuracy: 0.8764\n",
      "Epoch 22/25\n",
      "1719/1719 [==============================] - 3s 2ms/step - loss: 0.3290 - accuracy: 0.8822 - val_loss: 0.3453 - val_accuracy: 0.8756\n",
      "Epoch 23/25\n",
      "1719/1719 [==============================] - 3s 2ms/step - loss: 0.3247 - accuracy: 0.8829 - val_loss: 0.3464 - val_accuracy: 0.8774\n",
      "Epoch 24/25\n",
      "1719/1719 [==============================] - 3s 2ms/step - loss: 0.3199 - accuracy: 0.8858 - val_loss: 0.3437 - val_accuracy: 0.8756\n",
      "Epoch 25/25\n",
      "1719/1719 [==============================] - 3s 2ms/step - loss: 0.3259 - accuracy: 0.8844 - val_loss: 0.3475 - val_accuracy: 0.8750\n"
     ]
    }
   ],
   "source": [
    "history = model.fit(X_train, y_train, epochs=25,\n",
    "                   validation_data=(X_valid, y_valid))"
   ]
  },
  {
   "cell_type": "code",
   "execution_count": 24,
   "id": "f5c89911",
   "metadata": {},
   "outputs": [
    {
     "data": {
      "image/png": "[encoded data removed]",
      "text/plain": [
       "<Figure size 432x288 with 1 Axes>"
      ]
     },
     "metadata": {
      "needs_background": "light"
     },
     "output_type": "display_data"
    }
   ],
   "source": [
    "import math\n",
    "import matplotlib.pyplot as plt\n",
    "\n",
    "lr = 0.01\n",
    "decay = 1e-4\n",
    "batch_size = 32\n",
    "n_steps_per_epoch = math.ceil(len(X_train)/batch_size)\n",
    "epochs = np.arange(25)\n",
    "lrs = lr/(1 + decay*epochs*n_steps_per_epoch)\n",
    "\n",
    "plt.plot(epochs, lrs,  \"o-\")\n",
    "plt.axis([0, 25 - 1, 0, 0.01])\n",
    "plt.xlabel(\"Epoch\")\n",
    "plt.ylabel(\"Learning Rate\")\n",
    "plt.title(\"Power Scheduling\", fontsize=14)\n",
    "plt.grid(True)\n",
    "plt.show()"
   ]
  },
  {
   "cell_type": "markdown",
   "id": "1cd397d4",
   "metadata": {},
   "source": [
    "## Exponential Scheduling"
   ]
  },
  {
   "cell_type": "markdown",
   "id": "30f637fd",
   "metadata": {},
   "source": [
    "lr = lr0 * 0.1**(epoch / s)"
   ]
  },
  {
   "cell_type": "code",
   "execution_count": 34,
   "id": "4e58dacc",
   "metadata": {},
   "outputs": [],
   "source": [
    "def exponential_decay(lr0, s):\n",
    "    def exponential_decay_fn(epoch):\n",
    "        return lr0 * 0.1 **(epoch / s)\n",
    "    return exponential_decay_fn\n",
    "\n",
    "e_decay_fn = exponential_decay(lr0=0.01, s=20)"
   ]
  },
  {
   "cell_type": "code",
   "execution_count": 35,
   "id": "b6528392",
   "metadata": {},
   "outputs": [],
   "source": [
    "model = keras.models.Sequential([\n",
    "    keras.layers.Flatten(input_shape=[28, 28]),\n",
    "    keras.layers.Dense(300, activation=\"selu\", kernel_initializer=\"lecun_normal\"),\n",
    "    keras.layers.Dense(100, activation=\"selu\", kernel_initializer=\"lecun_normal\"),\n",
    "    keras.layers.Dense(10, activation=\"softmax\")\n",
    "])\n",
    "\n",
    "model.compile(loss=keras.losses.sparse_categorical_crossentropy,\n",
    "             optimizer=\"nadam\",\n",
    "             metrics=[\"accuracy\"])"
   ]
  },
  {
   "cell_type": "code",
   "execution_count": 37,
   "id": "4f7f503d",
   "metadata": {},
   "outputs": [
    {
     "name": "stdout",
     "output_type": "stream",
     "text": [
      "Epoch 1/25\n",
      "1719/1719 [==============================] - 7s 4ms/step - loss: 1.0758 - accuracy: 0.7149 - val_loss: 0.6982 - val_accuracy: 0.7758\n",
      "Epoch 2/25\n",
      "1719/1719 [==============================] - 7s 4ms/step - loss: 0.5207 - accuracy: 0.8215 - val_loss: 0.4605 - val_accuracy: 0.8346\n",
      "Epoch 3/25\n",
      "1719/1719 [==============================] - 7s 4ms/step - loss: 0.4653 - accuracy: 0.8452 - val_loss: 0.6081 - val_accuracy: 0.8070\n",
      "Epoch 4/25\n",
      "1719/1719 [==============================] - 12s 7ms/step - loss: 0.4109 - accuracy: 0.8579 - val_loss: 0.3961 - val_accuracy: 0.8672\n",
      "Epoch 5/25\n",
      "1719/1719 [==============================] - 6s 4ms/step - loss: 0.3841 - accuracy: 0.8678 - val_loss: 0.3966 - val_accuracy: 0.8742\n",
      "Epoch 6/25\n",
      "1719/1719 [==============================] - 6s 4ms/step - loss: 0.3457 - accuracy: 0.8800 - val_loss: 0.3656 - val_accuracy: 0.8826\n",
      "Epoch 7/25\n",
      "1719/1719 [==============================] - 7s 4ms/step - loss: 0.3254 - accuracy: 0.8864 - val_loss: 0.3665 - val_accuracy: 0.8860\n",
      "Epoch 8/25\n",
      "1719/1719 [==============================] - 12s 7ms/step - loss: 0.3072 - accuracy: 0.8931 - val_loss: 0.4259 - val_accuracy: 0.8592\n",
      "Epoch 9/25\n",
      "1719/1719 [==============================] - 7s 4ms/step - loss: 0.3005 - accuracy: 0.8945 - val_loss: 0.3698 - val_accuracy: 0.8836\n",
      "Epoch 10/25\n",
      "1719/1719 [==============================] - 11s 7ms/step - loss: 0.2761 - accuracy: 0.9023 - val_loss: 0.3772 - val_accuracy: 0.8864\n",
      "Epoch 11/25\n",
      "1719/1719 [==============================] - 13s 7ms/step - loss: 0.2636 - accuracy: 0.9070 - val_loss: 0.3570 - val_accuracy: 0.8878\n",
      "Epoch 12/25\n",
      "1719/1719 [==============================] - 6s 4ms/step - loss: 0.2496 - accuracy: 0.9093 - val_loss: 0.3746 - val_accuracy: 0.8832\n",
      "Epoch 13/25\n",
      "1719/1719 [==============================] - 6s 4ms/step - loss: 0.2342 - accuracy: 0.9150 - val_loss: 0.3647 - val_accuracy: 0.8928\n",
      "Epoch 14/25\n",
      "1719/1719 [==============================] - 9s 5ms/step - loss: 0.2251 - accuracy: 0.9184 - val_loss: 0.3394 - val_accuracy: 0.8940\n",
      "Epoch 15/25\n",
      "1719/1719 [==============================] - 10s 6ms/step - loss: 0.2238 - accuracy: 0.9193 - val_loss: 0.3545 - val_accuracy: 0.8974\n",
      "Epoch 16/25\n",
      "1719/1719 [==============================] - 6s 4ms/step - loss: 0.2068 - accuracy: 0.9236 - val_loss: 0.3826 - val_accuracy: 0.8964\n",
      "Epoch 17/25\n",
      "1719/1719 [==============================] - 7s 4ms/step - loss: 0.1977 - accuracy: 0.9266 - val_loss: 0.3771 - val_accuracy: 0.8900\n",
      "Epoch 18/25\n",
      "1719/1719 [==============================] - 7s 4ms/step - loss: 0.1934 - accuracy: 0.9302 - val_loss: 0.3689 - val_accuracy: 0.8996\n",
      "Epoch 19/25\n",
      "1719/1719 [==============================] - 7s 4ms/step - loss: 0.1831 - accuracy: 0.9333 - val_loss: 0.3720 - val_accuracy: 0.9006\n",
      "Epoch 20/25\n",
      "1719/1719 [==============================] - 8s 5ms/step - loss: 0.1824 - accuracy: 0.9343 - val_loss: 0.3939 - val_accuracy: 0.8918\n",
      "Epoch 21/25\n",
      "1719/1719 [==============================] - 9s 5ms/step - loss: 0.1765 - accuracy: 0.9368 - val_loss: 0.3888 - val_accuracy: 0.9000\n",
      "Epoch 22/25\n",
      "1719/1719 [==============================] - 6s 4ms/step - loss: 0.1695 - accuracy: 0.9385 - val_loss: 0.4174 - val_accuracy: 0.8954\n",
      "Epoch 23/25\n",
      "1719/1719 [==============================] - 7s 4ms/step - loss: 0.1607 - accuracy: 0.9421 - val_loss: 0.3877 - val_accuracy: 0.8992\n",
      "Epoch 24/25\n",
      "1719/1719 [==============================] - 7s 4ms/step - loss: 0.1538 - accuracy: 0.9445 - val_loss: 0.3956 - val_accuracy: 0.9000\n",
      "Epoch 25/25\n",
      "1719/1719 [==============================] - 7s 4ms/step - loss: 0.1523 - accuracy: 0.9457 - val_loss: 0.4099 - val_accuracy: 0.9000\n"
     ]
    }
   ],
   "source": [
    "lr_scheduler = keras.callbacks.LearningRateScheduler(e_decay_fn)\n",
    "n_epochs = 25\n",
    "\n",
    "history = model.fit(X_train, y_train, epochs=n_epochs,\n",
    "                    validation_data=(X_valid, y_valid),\n",
    "                    callbacks=[lr_scheduler])"
   ]
  },
  {
   "cell_type": "code",
   "execution_count": 47,
   "id": "8bbdbbde",
   "metadata": {},
   "outputs": [
    {
     "data": {
      "image/png": "[encoded data removed]",
      "text/plain": [
       "<Figure size 432x288 with 1 Axes>"
      ]
     },
     "metadata": {
      "needs_background": "light"
     },
     "output_type": "display_data"
    }
   ],
   "source": [
    "plt.plot(history.epoch, history.history[\"lr\"], \"o-\")\n",
    "plt.axis([0, n_epochs - 1, 0, 0.011])\n",
    "plt.xlabel(\"Epoch\")\n",
    "plt.ylabel(\"Learning Rate\")\n",
    "plt.title(\"Exponential Scheduling\", fontsize=14)\n",
    "plt.grid(True)\n",
    "plt.show()"
   ]
  },
  {
   "cell_type": "code",
   "execution_count": 49,
   "id": "d6f38b3c",
   "metadata": {},
   "outputs": [
    {
     "name": "stdout",
     "output_type": "stream",
     "text": [
      "Epoch 1/25\n",
      "1719/1719 [==============================] - 10s 5ms/step - loss: 1.0294 - accuracy: 0.7136 - val_loss: 1.0748 - val_accuracy: 0.6930\n",
      "Epoch 2/25\n",
      "1719/1719 [==============================] - 10s 6ms/step - loss: 0.5308 - accuracy: 0.8193 - val_loss: 0.4736 - val_accuracy: 0.8370\n",
      "Epoch 3/25\n",
      "1719/1719 [==============================] - 10s 6ms/step - loss: 0.4554 - accuracy: 0.8433 - val_loss: 0.8365 - val_accuracy: 0.7486\n",
      "Epoch 4/25\n",
      "1719/1719 [==============================] - 10s 6ms/step - loss: 0.4084 - accuracy: 0.8575 - val_loss: 0.3806 - val_accuracy: 0.8762\n",
      "Epoch 5/25\n",
      "1719/1719 [==============================] - 6s 4ms/step - loss: 0.3878 - accuracy: 0.8630 - val_loss: 0.3425 - val_accuracy: 0.8858\n",
      "Epoch 6/25\n",
      "1719/1719 [==============================] - 7s 4ms/step - loss: 0.3428 - accuracy: 0.8788 - val_loss: 0.3841 - val_accuracy: 0.8790\n",
      "Epoch 7/25\n",
      "1719/1719 [==============================] - 10s 6ms/step - loss: 0.3256 - accuracy: 0.8864 - val_loss: 0.3597 - val_accuracy: 0.8796\n",
      "Epoch 8/25\n",
      "1719/1719 [==============================] - 12s 7ms/step - loss: 0.3043 - accuracy: 0.8903 - val_loss: 0.3677 - val_accuracy: 0.8704\n",
      "Epoch 9/25\n",
      "1719/1719 [==============================] - 10s 6ms/step - loss: 0.2938 - accuracy: 0.8924 - val_loss: 0.3610 - val_accuracy: 0.8824\n",
      "Epoch 10/25\n",
      "1719/1719 [==============================] - 10s 6ms/step - loss: 0.2722 - accuracy: 0.9002 - val_loss: 0.3530 - val_accuracy: 0.8892\n",
      "Epoch 11/25\n",
      "1719/1719 [==============================] - 11s 7ms/step - loss: 0.2554 - accuracy: 0.9066 - val_loss: 0.3627 - val_accuracy: 0.8864\n",
      "Epoch 12/25\n",
      "1719/1719 [==============================] - 12s 7ms/step - loss: 0.2427 - accuracy: 0.9110 - val_loss: 0.3596 - val_accuracy: 0.8816\n",
      "Epoch 13/25\n",
      "1719/1719 [==============================] - 12s 7ms/step - loss: 0.2303 - accuracy: 0.9153 - val_loss: 0.3531 - val_accuracy: 0.8976\n",
      "Epoch 14/25\n",
      "1719/1719 [==============================] - 10s 6ms/step - loss: 0.2204 - accuracy: 0.9178 - val_loss: 0.3478 - val_accuracy: 0.8898\n",
      "Epoch 15/25\n",
      "1719/1719 [==============================] - 10s 6ms/step - loss: 0.2132 - accuracy: 0.9191 - val_loss: 0.3362 - val_accuracy: 0.8946\n",
      "Epoch 16/25\n",
      "1719/1719 [==============================] - 8s 5ms/step - loss: 0.2003 - accuracy: 0.9231 - val_loss: 0.3574 - val_accuracy: 0.8940\n",
      "Epoch 17/25\n",
      "1719/1719 [==============================] - 11s 7ms/step - loss: 0.1885 - accuracy: 0.9280 - val_loss: 0.3734 - val_accuracy: 0.8882\n",
      "Epoch 18/25\n",
      "1719/1719 [==============================] - 11s 6ms/step - loss: 0.1834 - accuracy: 0.9311 - val_loss: 0.3646 - val_accuracy: 0.8950\n",
      "Epoch 19/25\n",
      "1719/1719 [==============================] - 8s 4ms/step - loss: 0.1753 - accuracy: 0.9344 - val_loss: 0.3630 - val_accuracy: 0.8994\n",
      "Epoch 20/25\n",
      "1719/1719 [==============================] - 11s 6ms/step - loss: 0.1730 - accuracy: 0.9339 - val_loss: 0.3554 - val_accuracy: 0.8954\n",
      "Epoch 21/25\n",
      "1719/1719 [==============================] - 9s 5ms/step - loss: 0.1664 - accuracy: 0.9383 - val_loss: 0.3834 - val_accuracy: 0.9008\n",
      "Epoch 22/25\n",
      "1719/1719 [==============================] - 10s 6ms/step - loss: 0.1627 - accuracy: 0.9373 - val_loss: 0.3879 - val_accuracy: 0.8968\n",
      "Epoch 23/25\n",
      "1719/1719 [==============================] - 13s 7ms/step - loss: 0.1551 - accuracy: 0.9416 - val_loss: 0.3875 - val_accuracy: 0.8978\n",
      "Epoch 24/25\n",
      "1719/1719 [==============================] - 8s 4ms/step - loss: 0.1448 - accuracy: 0.9465 - val_loss: 0.3932 - val_accuracy: 0.8968\n",
      "Epoch 25/25\n",
      "1719/1719 [==============================] - 5s 3ms/step - loss: 0.1442 - accuracy: 0.9447 - val_loss: 0.4107 - val_accuracy: 0.8974\n"
     ]
    }
   ],
   "source": [
    "def exponential_decay_fn(epoch, lr):\n",
    "    return lr * 0.1**(1/20)\n",
    "\n",
    "K = keras.backend\n",
    "class ExponentialDecay(keras.callbacks.Callback):\n",
    "    def __init__(self, s=40000):\n",
    "        super().__init__()\n",
    "        self.s = s\n",
    "        \n",
    "    def on_batch_begin(self, batch, logs=None):\n",
    "        lr = K.get_value(self.model.optimizer.lr)\n",
    "        K.set_value(self.model.optimizer.lr, lr*0.1**(1/s))\n",
    "    \n",
    "    def on_epoch_end(self, epoch, logs=None):\n",
    "        logs = logs or {}\n",
    "        logs['lr'] = K.get_value(self.model.optimizer.lr)\n",
    "        \n",
    "model = keras.models.Sequential([\n",
    "    keras.layers.Flatten(input_shape=[28, 28]),\n",
    "    keras.layers.Dense(300, activation=\"selu\", kernel_initializer=\"lecun_normal\"),\n",
    "    keras.layers.Dense(100, activation=\"selu\", kernel_initializer=\"lecun_normal\"),\n",
    "    keras.layers.Dense(10, activation=\"softmax\")\n",
    "])\n",
    "lr0 = 0.01\n",
    "optimizer = keras.optimizers.Nadam(lr=lr0)\n",
    "model.compile(loss=\"sparse_categorical_crossentropy\", optimizer=optimizer, metrics=[\"accuracy\"])\n",
    "n_epochs = 25\n",
    "\n",
    "s = 20 * len(X_train) // 32 # number of steps in 20 epochs (batch size = 32)\n",
    "exp_decay = ExponentialDecay(s)\n",
    "history = model.fit(X_train, y_train, epochs=n_epochs,\n",
    "                    validation_data=(X_valid, y_valid),\n",
    "                    callbacks=[exp_decay])"
   ]
  },
  {
   "cell_type": "code",
   "execution_count": 50,
   "id": "f3db1068",
   "metadata": {},
   "outputs": [],
   "source": [
    "n_steps = n_epochs * len(X_train) // 32\n",
    "steps = np.arange(n_steps)\n",
    "lrs = lr0 * 0.1**(steps / s)"
   ]
  },
  {
   "cell_type": "code",
   "execution_count": 51,
   "id": "217dfe18",
   "metadata": {},
   "outputs": [
    {
     "data": {
      "image/png": "[encoded data removed]",
      "text/plain": [
       "<Figure size 432x288 with 1 Axes>"
      ]
     },
     "metadata": {
      "needs_background": "light"
     },
     "output_type": "display_data"
    }
   ],
   "source": [
    "plt.plot(steps, lrs, \"-\", linewidth=2)\n",
    "plt.axis([0, n_steps - 1, 0, lr0 * 1.1])\n",
    "plt.xlabel(\"Batch\")\n",
    "plt.ylabel(\"Learning Rate\")\n",
    "plt.title(\"Exponential Scheduling (per batch)\", fontsize=14)\n",
    "plt.grid(True)\n",
    "plt.show()"
   ]
  },
  {
   "cell_type": "markdown",
   "id": "a5899d0a",
   "metadata": {},
   "source": [
    "## Performance Scheduling"
   ]
  },
  {
   "cell_type": "code",
   "execution_count": 52,
   "id": "4b163f98",
   "metadata": {},
   "outputs": [],
   "source": [
    "tf.random.set_seed(42)\n",
    "np.random.seed(42)"
   ]
  },
  {
   "cell_type": "code",
   "execution_count": 54,
   "id": "dde45669",
   "metadata": {},
   "outputs": [
    {
     "name": "stdout",
     "output_type": "stream",
     "text": [
      "Epoch 1/25\n",
      "1719/1719 [==============================] - 2s 1ms/step - loss: 0.6725 - accuracy: 0.7604 - val_loss: 0.5275 - val_accuracy: 0.8316\n",
      "Epoch 2/25\n",
      "1719/1719 [==============================] - 2s 985us/step - loss: 0.4500 - accuracy: 0.8378 - val_loss: 0.4687 - val_accuracy: 0.8356\n",
      "Epoch 3/25\n",
      "1719/1719 [==============================] - 2s 977us/step - loss: 0.4327 - accuracy: 0.8454 - val_loss: 0.3776 - val_accuracy: 0.8622\n",
      "Epoch 4/25\n",
      "1719/1719 [==============================] - 2s 996us/step - loss: 0.4013 - accuracy: 0.8559 - val_loss: 0.3850 - val_accuracy: 0.8652\n",
      "Epoch 5/25\n",
      "1719/1719 [==============================] - 2s 1ms/step - loss: 0.3883 - accuracy: 0.8598 - val_loss: 0.3578 - val_accuracy: 0.8678\n",
      "Epoch 6/25\n",
      "1719/1719 [==============================] - 2s 991us/step - loss: 0.3647 - accuracy: 0.8687 - val_loss: 0.3930 - val_accuracy: 0.8734\n",
      "Epoch 7/25\n",
      "1719/1719 [==============================] - 2s 988us/step - loss: 0.3638 - accuracy: 0.8707 - val_loss: 0.3802 - val_accuracy: 0.8694\n",
      "Epoch 8/25\n",
      "1719/1719 [==============================] - 2s 980us/step - loss: 0.3440 - accuracy: 0.8749 - val_loss: 0.4054 - val_accuracy: 0.8658\n",
      "Epoch 9/25\n",
      "1719/1719 [==============================] - 2s 1ms/step - loss: 0.3440 - accuracy: 0.8770 - val_loss: 0.3784 - val_accuracy: 0.8792\n",
      "Epoch 10/25\n",
      "1719/1719 [==============================] - 2s 974us/step - loss: 0.3326 - accuracy: 0.8824 - val_loss: 0.4022 - val_accuracy: 0.8694\n",
      "Epoch 11/25\n",
      "1719/1719 [==============================] - 2s 1ms/step - loss: 0.2567 - accuracy: 0.9058 - val_loss: 0.3264 - val_accuracy: 0.8840\n",
      "Epoch 12/25\n",
      "1719/1719 [==============================] - 2s 993us/step - loss: 0.2386 - accuracy: 0.9102 - val_loss: 0.3566 - val_accuracy: 0.8762\n",
      "Epoch 13/25\n",
      "1719/1719 [==============================] - 2s 985us/step - loss: 0.2331 - accuracy: 0.9126 - val_loss: 0.3275 - val_accuracy: 0.8912\n",
      "Epoch 14/25\n",
      "1719/1719 [==============================] - 2s 1ms/step - loss: 0.2245 - accuracy: 0.9142 - val_loss: 0.3409 - val_accuracy: 0.8788\n",
      "Epoch 15/25\n",
      "1719/1719 [==============================] - 2s 1ms/step - loss: 0.2277 - accuracy: 0.9140 - val_loss: 0.3423 - val_accuracy: 0.8850\n",
      "Epoch 16/25\n",
      "1719/1719 [==============================] - 2s 999us/step - loss: 0.2187 - accuracy: 0.9161 - val_loss: 0.3379 - val_accuracy: 0.8866\n",
      "Epoch 17/25\n",
      "1719/1719 [==============================] - 2s 1ms/step - loss: 0.1826 - accuracy: 0.9290 - val_loss: 0.3091 - val_accuracy: 0.8938\n",
      "Epoch 18/25\n",
      "1719/1719 [==============================] - 2s 1ms/step - loss: 0.1782 - accuracy: 0.9315 - val_loss: 0.3053 - val_accuracy: 0.8954\n",
      "Epoch 19/25\n",
      "1719/1719 [==============================] - 2s 1ms/step - loss: 0.1738 - accuracy: 0.9337 - val_loss: 0.3123 - val_accuracy: 0.8998\n",
      "Epoch 20/25\n",
      "1719/1719 [==============================] - 2s 1ms/step - loss: 0.1737 - accuracy: 0.9350 - val_loss: 0.3176 - val_accuracy: 0.8984\n",
      "Epoch 21/25\n",
      "1719/1719 [==============================] - 2s 1ms/step - loss: 0.1698 - accuracy: 0.9355 - val_loss: 0.3265 - val_accuracy: 0.8972\n",
      "Epoch 22/25\n",
      "1719/1719 [==============================] - 2s 1ms/step - loss: 0.1706 - accuracy: 0.9354 - val_loss: 0.3271 - val_accuracy: 0.8954\n",
      "Epoch 23/25\n",
      "1719/1719 [==============================] - 2s 1ms/step - loss: 0.1670 - accuracy: 0.9352 - val_loss: 0.3225 - val_accuracy: 0.8946\n",
      "Epoch 24/25\n",
      "1719/1719 [==============================] - 2s 1ms/step - loss: 0.1455 - accuracy: 0.9453 - val_loss: 0.3186 - val_accuracy: 0.8960\n",
      "Epoch 25/25\n",
      "1719/1719 [==============================] - 2s 1ms/step - loss: 0.1446 - accuracy: 0.9460 - val_loss: 0.3313 - val_accuracy: 0.8960\n"
     ]
    }
   ],
   "source": [
    "lr_scheduler = keras.callbacks.ReduceLROnPlateau(factor=0.5, patience=5)\n",
    "\n",
    "model = keras.models.Sequential([\n",
    "    keras.layers.Flatten(input_shape=[28, 28]),\n",
    "    keras.layers.Dense(300, activation=\"selu\", kernel_initializer=\"lecun_normal\"),\n",
    "    keras.layers.Dense(100, activation=\"selu\", kernel_initializer=\"lecun_normal\"),\n",
    "    keras.layers.Dense(10, activation=\"softmax\")\n",
    "])\n",
    "\n",
    "optimizer = keras.optimizers.SGD(lr=0.02, momentum=0.9)\n",
    "model.compile(loss=\"sparse_categorical_crossentropy\", optimizer=optimizer, metrics=[\"accuracy\"])\n",
    "n_epochs = 25\n",
    "history = model.fit(X_train, y_train, epochs=n_epochs,\n",
    "                    validation_data=(X_valid, y_valid),\n",
    "                    callbacks=[lr_scheduler])"
   ]
  },
  {
   "cell_type": "code",
   "execution_count": 55,
   "id": "0b123cfd",
   "metadata": {},
   "outputs": [
    {
     "data": {
      "image/png": "[encoded data removed]",
      "text/plain": [
       "<Figure size 432x288 with 2 Axes>"
      ]
     },
     "metadata": {
      "needs_background": "light"
     },
     "output_type": "display_data"
    }
   ],
   "source": [
    "plt.plot(history.epoch, history.history[\"lr\"], \"bo-\")\n",
    "plt.xlabel(\"Epoch\")\n",
    "plt.ylabel(\"Learning Rate\", color='b')\n",
    "plt.tick_params('y', colors='b')\n",
    "plt.gca().set_xlim(0, n_epochs - 1)\n",
    "plt.grid(True)\n",
    "\n",
    "ax2 = plt.gca().twinx()\n",
    "ax2.plot(history.epoch, history.history[\"val_loss\"], \"r^-\")\n",
    "ax2.set_ylabel('Validation Loss', color='r')\n",
    "ax2.tick_params('y', colors='r')\n",
    "\n",
    "plt.title(\"Reduce LR on Plateau\", fontsize=14)\n",
    "plt.show()"
   ]
  },
  {
   "cell_type": "markdown",
   "id": "1e0a0afa",
   "metadata": {},
   "source": [
    "## Monte_Carlo Dropout"
   ]
  },
  {
   "cell_type": "code",
   "execution_count": 56,
   "id": "950e3c49",
   "metadata": {},
   "outputs": [],
   "source": [
    "tf.random.set_seed(42)\n",
    "np.random.seed(42)"
   ]
  },
  {
   "cell_type": "code",
   "execution_count": 57,
   "id": "a22e7c12",
   "metadata": {},
   "outputs": [],
   "source": [
    "y_probas = np.stack([model(X_test, training=True) for sample in range(100)])\n",
    "y_proba = y_probas.mean(axis=0)\n",
    "y_std = y_probas.std(axis=0)"
   ]
  },
  {
   "cell_type": "code",
   "execution_count": 64,
   "id": "ee878894",
   "metadata": {},
   "outputs": [
    {
     "data": {
      "text/plain": [
       "array([[0., 0., 0., 0., 0., 0., 0., 0., 0., 1.]], dtype=float32)"
      ]
     },
     "execution_count": 64,
     "metadata": {},
     "output_type": "execute_result"
    }
   ],
   "source": [
    "np.round(model.predict(X_test[:1]), 2)"
   ]
  },
  {
   "cell_type": "code",
   "execution_count": 66,
   "id": "e74b49b5",
   "metadata": {},
   "outputs": [
    {
     "data": {
      "text/plain": [
       "array([[0., 0., 0., 0., 0., 0., 0., 0., 0., 1.]], dtype=float32)"
      ]
     },
     "execution_count": 66,
     "metadata": {},
     "output_type": "execute_result"
    }
   ],
   "source": [
    "np.round(y_proba[:1], 2)"
   ]
  },
  {
   "cell_type": "markdown",
   "id": "2e7334d9",
   "metadata": {},
   "source": [
    "## Exercise"
   ]
  },
  {
   "cell_type": "markdown",
   "id": "7bccca6e",
   "metadata": {},
   "source": [
    "Build a DNN with 20 hidden layers of 100 neurons each (that's too many, but it's the point of this exercise). Use He initialization and the ELU activation function."
   ]
  },
  {
   "cell_type": "code",
   "execution_count": 68,
   "id": "b791fa32",
   "metadata": {},
   "outputs": [],
   "source": [
    "keras.backend.clear_session()\n",
    "\n",
    "model = keras.models.Sequential()\n",
    "model.add(keras.layers.Flatten(input_shape=[32, 32, 3]))\n",
    "for i in range(20):\n",
    "    model.add(keras.layers.Dense(100, activation=\"elu\",\n",
    "                                kernel_initializer=\"he_normal\"))"
   ]
  },
  {
   "cell_type": "markdown",
   "id": "1f9e6329",
   "metadata": {},
   "source": [
    "Using Nadam optimization and early stopping, train the network on the CIFAR10 dataset. You can load it with keras.datasets.cifar10.load_data(). The dataset is composed of 60,000 32 × 32–pixel color images (50,000 for training, 10,000 for testing) with 10 classes, so you'll need a softmax output layer with 10 neurons. Remember to search for the right learning rate each time you change the model's architecture or hyperparameters."
   ]
  },
  {
   "cell_type": "code",
   "execution_count": 70,
   "id": "5d50f847",
   "metadata": {},
   "outputs": [],
   "source": [
    "model.add(keras.layers.Dense(10, activation=\"softmax\"))"
   ]
  },
  {
   "cell_type": "code",
   "execution_count": 69,
   "id": "bfe4735e",
   "metadata": {},
   "outputs": [],
   "source": [
    "(X_train_full, y_train_full), (X_test, y_test) = keras.datasets.cifar10.load_data()\n",
    "\n",
    "X_train = X_train_full[5000:]\n",
    "y_train = y_train_full[5000:]\n",
    "X_valid = X_train_full[:5000]\n",
    "y_valid = y_train_full[:5000]"
   ]
  },
  {
   "cell_type": "code",
   "execution_count": 71,
   "id": "2685383c",
   "metadata": {},
   "outputs": [],
   "source": [
    "optimizer = keras.optimizers.Nadam(lr=5e-5)\n",
    "model.compile(loss=keras.losses.sparse_categorical_crossentropy,\n",
    "             optimizer=optimizer,\n",
    "             metrics=[\"accuracy\"])"
   ]
  },
  {
   "cell_type": "code",
   "execution_count": 74,
   "id": "17277c71",
   "metadata": {},
   "outputs": [
    {
     "name": "stdout",
     "output_type": "stream",
     "text": [
      "Epoch 1/100\n",
      "1407/1407 [==============================] - 12s 7ms/step - loss: 9.3779 - accuracy: 0.1355 - val_loss: 2.1596 - val_accuracy: 0.2210\n",
      "Epoch 2/100\n",
      "1407/1407 [==============================] - 10s 7ms/step - loss: 2.1011 - accuracy: 0.2371 - val_loss: 2.1019 - val_accuracy: 0.2350\n",
      "Epoch 3/100\n",
      "1407/1407 [==============================] - 10s 7ms/step - loss: 1.9651 - accuracy: 0.2826 - val_loss: 2.2488 - val_accuracy: 0.2066\n",
      "Epoch 4/100\n",
      "1407/1407 [==============================] - 10s 7ms/step - loss: 1.8794 - accuracy: 0.3130 - val_loss: 1.9445 - val_accuracy: 0.3098\n",
      "Epoch 5/100\n",
      "1407/1407 [==============================] - 10s 7ms/step - loss: 1.8086 - accuracy: 0.3440 - val_loss: 1.7809 - val_accuracy: 0.3472\n",
      "Epoch 6/100\n",
      "1407/1407 [==============================] - 10s 7ms/step - loss: 1.7549 - accuracy: 0.3637 - val_loss: 1.7516 - val_accuracy: 0.3692\n",
      "Epoch 7/100\n",
      "1407/1407 [==============================] - 10s 7ms/step - loss: 1.7103 - accuracy: 0.3816 - val_loss: 1.7227 - val_accuracy: 0.3666\n",
      "Epoch 8/100\n",
      "1407/1407 [==============================] - 11s 8ms/step - loss: 1.6701 - accuracy: 0.3968 - val_loss: 1.6858 - val_accuracy: 0.3936\n",
      "Epoch 9/100\n",
      "1407/1407 [==============================] - 10s 7ms/step - loss: 1.6437 - accuracy: 0.4063 - val_loss: 1.6756 - val_accuracy: 0.3966\n",
      "Epoch 10/100\n",
      "1407/1407 [==============================] - 10s 7ms/step - loss: 1.6145 - accuracy: 0.4133 - val_loss: 1.6989 - val_accuracy: 0.3894\n",
      "Epoch 11/100\n",
      "1407/1407 [==============================] - 11s 8ms/step - loss: 1.5902 - accuracy: 0.4308 - val_loss: 1.6562 - val_accuracy: 0.4036\n",
      "Epoch 12/100\n",
      "1407/1407 [==============================] - 11s 7ms/step - loss: 1.5684 - accuracy: 0.4344 - val_loss: 1.6373 - val_accuracy: 0.4126\n",
      "Epoch 13/100\n",
      "1407/1407 [==============================] - 11s 8ms/step - loss: 1.5422 - accuracy: 0.4419 - val_loss: 1.6365 - val_accuracy: 0.4246\n",
      "Epoch 14/100\n",
      "1407/1407 [==============================] - 15s 11ms/step - loss: 1.5282 - accuracy: 0.4470 - val_loss: 1.5865 - val_accuracy: 0.4294\n",
      "Epoch 15/100\n",
      "1407/1407 [==============================] - 11s 8ms/step - loss: 1.5188 - accuracy: 0.4530 - val_loss: 1.6049 - val_accuracy: 0.4238\n",
      "Epoch 16/100\n",
      "1407/1407 [==============================] - 11s 8ms/step - loss: 1.4996 - accuracy: 0.4617 - val_loss: 1.5889 - val_accuracy: 0.4298\n",
      "Epoch 17/100\n",
      "1407/1407 [==============================] - 11s 8ms/step - loss: 1.4884 - accuracy: 0.4656 - val_loss: 1.5586 - val_accuracy: 0.4430\n",
      "Epoch 18/100\n",
      "1407/1407 [==============================] - 11s 8ms/step - loss: 1.4680 - accuracy: 0.4728 - val_loss: 1.5872 - val_accuracy: 0.4306\n",
      "Epoch 19/100\n",
      "1407/1407 [==============================] - 11s 8ms/step - loss: 1.4573 - accuracy: 0.4776 - val_loss: 1.5618 - val_accuracy: 0.4484\n",
      "Epoch 20/100\n",
      "1407/1407 [==============================] - 10s 7ms/step - loss: 1.4412 - accuracy: 0.4816 - val_loss: 1.5737 - val_accuracy: 0.4442\n",
      "Epoch 21/100\n",
      "1407/1407 [==============================] - 11s 8ms/step - loss: 1.4373 - accuracy: 0.4845 - val_loss: 1.5542 - val_accuracy: 0.4438\n",
      "Epoch 22/100\n",
      "1407/1407 [==============================] - 11s 8ms/step - loss: 1.4289 - accuracy: 0.4866 - val_loss: 1.5538 - val_accuracy: 0.4444\n",
      "Epoch 23/100\n",
      "1407/1407 [==============================] - 11s 8ms/step - loss: 1.4019 - accuracy: 0.4978 - val_loss: 1.5677 - val_accuracy: 0.4388\n",
      "Epoch 24/100\n",
      "1407/1407 [==============================] - 11s 8ms/step - loss: 1.3969 - accuracy: 0.4944 - val_loss: 1.5382 - val_accuracy: 0.4548\n",
      "Epoch 25/100\n",
      "1407/1407 [==============================] - 11s 8ms/step - loss: 1.3885 - accuracy: 0.5018 - val_loss: 1.5511 - val_accuracy: 0.4600\n",
      "Epoch 26/100\n",
      "1407/1407 [==============================] - 11s 8ms/step - loss: 1.3639 - accuracy: 0.5078 - val_loss: 1.5618 - val_accuracy: 0.4482\n",
      "Epoch 27/100\n",
      "1407/1407 [==============================] - 11s 8ms/step - loss: 1.3613 - accuracy: 0.5093 - val_loss: 1.5759 - val_accuracy: 0.4444\n",
      "Epoch 28/100\n",
      "1407/1407 [==============================] - 11s 8ms/step - loss: 1.3492 - accuracy: 0.5125 - val_loss: 1.5484 - val_accuracy: 0.4570\n",
      "Epoch 29/100\n",
      "1407/1407 [==============================] - 11s 8ms/step - loss: 1.3525 - accuracy: 0.5123 - val_loss: 1.5230 - val_accuracy: 0.4602\n",
      "Epoch 30/100\n",
      "1407/1407 [==============================] - 11s 8ms/step - loss: 1.3433 - accuracy: 0.5170 - val_loss: 1.5715 - val_accuracy: 0.4486\n",
      "Epoch 31/100\n",
      "1407/1407 [==============================] - 11s 8ms/step - loss: 1.3435 - accuracy: 0.5135 - val_loss: 1.5582 - val_accuracy: 0.4536\n",
      "Epoch 32/100\n",
      "1407/1407 [==============================] - 11s 8ms/step - loss: 1.3063 - accuracy: 0.5316 - val_loss: 1.5650 - val_accuracy: 0.4572\n",
      "Epoch 33/100\n",
      "1407/1407 [==============================] - 11s 8ms/step - loss: 1.3228 - accuracy: 0.5250 - val_loss: 1.5480 - val_accuracy: 0.4604\n",
      "Epoch 34/100\n",
      "1407/1407 [==============================] - 11s 8ms/step - loss: 1.2951 - accuracy: 0.5353 - val_loss: 1.5345 - val_accuracy: 0.4670\n",
      "Epoch 35/100\n",
      "1407/1407 [==============================] - 11s 8ms/step - loss: 1.2901 - accuracy: 0.5372 - val_loss: 1.5341 - val_accuracy: 0.4686\n",
      "Epoch 36/100\n",
      "1407/1407 [==============================] - 11s 8ms/step - loss: 1.2787 - accuracy: 0.5393 - val_loss: 1.5125 - val_accuracy: 0.4736\n",
      "Epoch 37/100\n",
      "1407/1407 [==============================] - 11s 8ms/step - loss: 1.2722 - accuracy: 0.5378 - val_loss: 1.5176 - val_accuracy: 0.4722\n",
      "Epoch 38/100\n",
      "1407/1407 [==============================] - 11s 8ms/step - loss: 1.2595 - accuracy: 0.5496 - val_loss: 1.5242 - val_accuracy: 0.4762\n",
      "Epoch 39/100\n",
      "1407/1407 [==============================] - 11s 8ms/step - loss: 1.2551 - accuracy: 0.5448 - val_loss: 1.5168 - val_accuracy: 0.4692\n",
      "Epoch 40/100\n",
      "1407/1407 [==============================] - 11s 8ms/step - loss: 1.2456 - accuracy: 0.5555 - val_loss: 1.5417 - val_accuracy: 0.4678\n",
      "Epoch 41/100\n",
      "1407/1407 [==============================] - 13s 9ms/step - loss: 1.2420 - accuracy: 0.5561 - val_loss: 1.5357 - val_accuracy: 0.4676\n",
      "Epoch 42/100\n",
      "1407/1407 [==============================] - 12s 9ms/step - loss: 1.2316 - accuracy: 0.5588 - val_loss: 1.5889 - val_accuracy: 0.4588\n",
      "Epoch 43/100\n",
      "1407/1407 [==============================] - 11s 8ms/step - loss: 1.2396 - accuracy: 0.5532 - val_loss: 1.5762 - val_accuracy: 0.4596\n",
      "Epoch 44/100\n",
      "1407/1407 [==============================] - 12s 8ms/step - loss: 1.2183 - accuracy: 0.5631 - val_loss: 1.5825 - val_accuracy: 0.4640\n",
      "Epoch 45/100\n",
      "1407/1407 [==============================] - 12s 8ms/step - loss: 1.2110 - accuracy: 0.5664 - val_loss: 1.5243 - val_accuracy: 0.4766\n",
      "Epoch 46/100\n",
      "1407/1407 [==============================] - 12s 8ms/step - loss: 1.1934 - accuracy: 0.5746 - val_loss: 1.5264 - val_accuracy: 0.4788\n",
      "Epoch 47/100\n",
      "1407/1407 [==============================] - 13s 10ms/step - loss: 1.1921 - accuracy: 0.5721 - val_loss: 1.5383 - val_accuracy: 0.4708\n",
      "Epoch 48/100\n",
      "1407/1407 [==============================] - 11s 8ms/step - loss: 1.1920 - accuracy: 0.5725 - val_loss: 1.5283 - val_accuracy: 0.4730\n",
      "Epoch 49/100\n",
      "1407/1407 [==============================] - 11s 8ms/step - loss: 1.1850 - accuracy: 0.5728 - val_loss: 1.5495 - val_accuracy: 0.4680\n",
      "Epoch 50/100\n",
      "1407/1407 [==============================] - 11s 8ms/step - loss: 1.1670 - accuracy: 0.5796 - val_loss: 1.5965 - val_accuracy: 0.4552\n",
      "Epoch 51/100\n",
      "1407/1407 [==============================] - 11s 8ms/step - loss: 1.1648 - accuracy: 0.5791 - val_loss: 1.5923 - val_accuracy: 0.4650\n",
      "Epoch 52/100\n",
      "1407/1407 [==============================] - 11s 8ms/step - loss: 1.1673 - accuracy: 0.5811 - val_loss: 1.5763 - val_accuracy: 0.4750\n",
      "Epoch 53/100\n",
      "1407/1407 [==============================] - 11s 8ms/step - loss: 1.1507 - accuracy: 0.5825 - val_loss: 1.5558 - val_accuracy: 0.4744\n",
      "Epoch 54/100\n",
      "1407/1407 [==============================] - 11s 8ms/step - loss: 1.1402 - accuracy: 0.5895 - val_loss: 1.5851 - val_accuracy: 0.4728\n",
      "Epoch 55/100\n",
      "1407/1407 [==============================] - 11s 8ms/step - loss: 1.1424 - accuracy: 0.5886 - val_loss: 1.5601 - val_accuracy: 0.4770\n",
      "Epoch 56/100\n",
      "1407/1407 [==============================] - 12s 8ms/step - loss: 1.1393 - accuracy: 0.5909 - val_loss: 1.5863 - val_accuracy: 0.4726\n",
      "Epoch 00056: early stopping\n"
     ]
    },
    {
     "data": {
      "text/plain": [
       "<tensorflow.python.keras.callbacks.History at 0x1eddb9fbf98>"
      ]
     },
     "execution_count": 74,
     "metadata": {},
     "output_type": "execute_result"
    }
   ],
   "source": [
    "es = keras.callbacks.EarlyStopping(patience=20, verbose=1)\n",
    "mc = keras.callbacks.ModelCheckpoint('best_model.h5', save_best_only=True)\n",
    "model.fit(X_train, y_train, epochs=100,\n",
    "         validation_data=(X_valid, y_valid),\n",
    "                         callbacks=[es, mc])"
   ]
  },
  {
   "cell_type": "code",
   "execution_count": 76,
   "id": "c88bab4a",
   "metadata": {},
   "outputs": [
    {
     "name": "stdout",
     "output_type": "stream",
     "text": [
      "157/157 [==============================] - 0s 2ms/step - loss: 1.5125 - accuracy: 0.4736\n"
     ]
    },
    {
     "data": {
      "text/plain": [
       "[1.512534260749817, 0.47360000014305115]"
      ]
     },
     "execution_count": 76,
     "metadata": {},
     "output_type": "execute_result"
    }
   ],
   "source": [
    "model = keras.models.load_model('best_model.h5')\n",
    "model.evaluate(X_valid, y_valid)"
   ]
  },
  {
   "cell_type": "markdown",
   "id": "2968ef29",
   "metadata": {},
   "source": [
    "Now try adding Batch Normalization and compare the learning curves: Is it converging faster than before? Does it produce a better model? How does it affect training speed?"
   ]
  },
  {
   "cell_type": "code",
   "execution_count": 80,
   "id": "cf43fe37",
   "metadata": {},
   "outputs": [],
   "source": [
    "keras.backend.clear_session()\n",
    "tf.random.set_seed(42)\n",
    "np.random.seed(42)"
   ]
  },
  {
   "cell_type": "code",
   "execution_count": 81,
   "id": "d02de8d6",
   "metadata": {},
   "outputs": [],
   "source": [
    "model = keras.models.Sequential()\n",
    "model.add(keras.layers.Flatten(input_shape=[32, 32, 3]))\n",
    "model.add(keras.layers.BatchNormalization())\n",
    "\n",
    "for i in range(20):\n",
    "    model.add(keras.layers.Dense(100, kernel_initializer=\"he_normal\"))\n",
    "    model.add(keras.layers.BatchNormalization())\n",
    "    model.add(keras.layers.Activation(\"elu\"))\n",
    "    \n",
    "model.add(keras.layers.Dense(10, activation=\"softmax\"))"
   ]
  },
  {
   "cell_type": "code",
   "execution_count": 82,
   "id": "1cd75ff0",
   "metadata": {},
   "outputs": [
    {
     "name": "stdout",
     "output_type": "stream",
     "text": [
      "Epoch 1/100\n",
      "1407/1407 [==============================] - 24s 12ms/step - loss: 1.9812 - accuracy: 0.2901 - val_loss: 1.7219 - val_accuracy: 0.3776\n",
      "Epoch 2/100\n",
      "1407/1407 [==============================] - 17s 12ms/step - loss: 1.6824 - accuracy: 0.4012 - val_loss: 1.6090 - val_accuracy: 0.4270\n",
      "Epoch 3/100\n",
      "1407/1407 [==============================] - 17s 12ms/step - loss: 1.6155 - accuracy: 0.4321 - val_loss: 1.5741 - val_accuracy: 0.4348\n",
      "Epoch 4/100\n",
      "1407/1407 [==============================] - 17s 12ms/step - loss: 1.5614 - accuracy: 0.4502 - val_loss: 1.5293 - val_accuracy: 0.4602\n",
      "Epoch 5/100\n",
      "1407/1407 [==============================] - 17s 12ms/step - loss: 1.5113 - accuracy: 0.4639 - val_loss: 1.4451 - val_accuracy: 0.4896\n",
      "Epoch 6/100\n",
      "1407/1407 [==============================] - 16s 12ms/step - loss: 1.4653 - accuracy: 0.4788 - val_loss: 1.4172 - val_accuracy: 0.5002\n",
      "Epoch 7/100\n",
      "1407/1407 [==============================] - 18s 12ms/step - loss: 1.4360 - accuracy: 0.4891 - val_loss: 1.4594 - val_accuracy: 0.4846\n",
      "Epoch 8/100\n",
      "1407/1407 [==============================] - 17s 12ms/step - loss: 1.4126 - accuracy: 0.5017 - val_loss: 1.3848 - val_accuracy: 0.5046\n",
      "Epoch 9/100\n",
      "1407/1407 [==============================] - 18s 13ms/step - loss: 1.3835 - accuracy: 0.5106 - val_loss: 1.3718 - val_accuracy: 0.5172\n",
      "Epoch 10/100\n",
      "1407/1407 [==============================] - 17s 12ms/step - loss: 1.3603 - accuracy: 0.5191 - val_loss: 1.3711 - val_accuracy: 0.5116\n",
      "Epoch 11/100\n",
      "1407/1407 [==============================] - 18s 12ms/step - loss: 1.3262 - accuracy: 0.5341 - val_loss: 1.3708 - val_accuracy: 0.5158\n",
      "Epoch 12/100\n",
      "1407/1407 [==============================] - 17s 12ms/step - loss: 1.3102 - accuracy: 0.5390 - val_loss: 1.3772 - val_accuracy: 0.5060\n",
      "Epoch 13/100\n",
      "1407/1407 [==============================] - 17s 12ms/step - loss: 1.2938 - accuracy: 0.5430 - val_loss: 1.3622 - val_accuracy: 0.5268\n",
      "Epoch 14/100\n",
      "1407/1407 [==============================] - 18s 13ms/step - loss: 1.2693 - accuracy: 0.5510 - val_loss: 1.3706 - val_accuracy: 0.5160\n",
      "Epoch 15/100\n",
      "1407/1407 [==============================] - 17s 12ms/step - loss: 1.2643 - accuracy: 0.5531 - val_loss: 1.3675 - val_accuracy: 0.5180\n",
      "Epoch 16/100\n",
      "1407/1407 [==============================] - 16s 12ms/step - loss: 1.2488 - accuracy: 0.5604 - val_loss: 1.3543 - val_accuracy: 0.5262\n",
      "Epoch 17/100\n",
      "1407/1407 [==============================] - 16s 12ms/step - loss: 1.2269 - accuracy: 0.5677 - val_loss: 1.3241 - val_accuracy: 0.5382\n",
      "Epoch 18/100\n",
      "1407/1407 [==============================] - 17s 12ms/step - loss: 1.2085 - accuracy: 0.5718 - val_loss: 1.3317 - val_accuracy: 0.5332\n",
      "Epoch 19/100\n",
      "1407/1407 [==============================] - 19s 13ms/step - loss: 1.2008 - accuracy: 0.5768 - val_loss: 1.3196 - val_accuracy: 0.5368\n",
      "Epoch 20/100\n",
      "1407/1407 [==============================] - 18s 13ms/step - loss: 1.1857 - accuracy: 0.5836 - val_loss: 1.3655 - val_accuracy: 0.5202\n",
      "Epoch 21/100\n",
      "1407/1407 [==============================] - 18s 12ms/step - loss: 1.1692 - accuracy: 0.5888 - val_loss: 1.3541 - val_accuracy: 0.5276\n",
      "Epoch 22/100\n",
      "1407/1407 [==============================] - 18s 13ms/step - loss: 1.1579 - accuracy: 0.5902 - val_loss: 1.3461 - val_accuracy: 0.5296\n",
      "Epoch 23/100\n",
      "1407/1407 [==============================] - 17s 12ms/step - loss: 1.1461 - accuracy: 0.5938 - val_loss: 1.3308 - val_accuracy: 0.5428\n",
      "Epoch 24/100\n",
      "1407/1407 [==============================] - 18s 13ms/step - loss: 1.1313 - accuracy: 0.6036 - val_loss: 1.3154 - val_accuracy: 0.5470\n",
      "Epoch 25/100\n",
      "1407/1407 [==============================] - 18s 13ms/step - loss: 1.1168 - accuracy: 0.6070 - val_loss: 1.3328 - val_accuracy: 0.5344\n",
      "Epoch 26/100\n",
      "1407/1407 [==============================] - 17s 12ms/step - loss: 1.0984 - accuracy: 0.6099 - val_loss: 1.3477 - val_accuracy: 0.5282\n",
      "Epoch 27/100\n",
      "1407/1407 [==============================] - 17s 12ms/step - loss: 1.0877 - accuracy: 0.6166 - val_loss: 1.3292 - val_accuracy: 0.5400\n",
      "Epoch 28/100\n",
      "1407/1407 [==============================] - 17s 12ms/step - loss: 1.0787 - accuracy: 0.6176 - val_loss: 1.3530 - val_accuracy: 0.5286\n",
      "Epoch 29/100\n",
      "1407/1407 [==============================] - 17s 12ms/step - loss: 1.0798 - accuracy: 0.6184 - val_loss: 1.3502 - val_accuracy: 0.5322\n",
      "Epoch 30/100\n",
      "1407/1407 [==============================] - 17s 12ms/step - loss: 1.0708 - accuracy: 0.6189 - val_loss: 1.3355 - val_accuracy: 0.5422\n",
      "Epoch 31/100\n",
      "1407/1407 [==============================] - 17s 12ms/step - loss: 1.0576 - accuracy: 0.6261 - val_loss: 1.3391 - val_accuracy: 0.5432\n",
      "Epoch 32/100\n",
      "1407/1407 [==============================] - 17s 12ms/step - loss: 1.0361 - accuracy: 0.6332 - val_loss: 1.3425 - val_accuracy: 0.5346\n",
      "Epoch 00032: early stopping\n"
     ]
    },
    {
     "data": {
      "text/plain": [
       "<tensorflow.python.keras.callbacks.History at 0x1eda95900b8>"
      ]
     },
     "execution_count": 82,
     "metadata": {},
     "output_type": "execute_result"
    }
   ],
   "source": [
    "optimizer = keras.optimizers.Nadam(lr=5e-4)\n",
    "model.compile(loss=keras.losses.sparse_categorical_crossentropy,\n",
    "             optimizer=optimizer,\n",
    "             metrics=[\"accuracy\"])\n",
    "\n",
    "es = keras.callbacks.EarlyStopping(patience=8, verbose=1)\n",
    "mc = keras.callbacks.ModelCheckpoint('best_model_bn.h5', save_best_only=True)\n",
    "model.fit(X_train, y_train, epochs=100,\n",
    "         validation_data=(X_valid, y_valid),\n",
    "                         callbacks=[es, mc])"
   ]
  },
  {
   "cell_type": "code",
   "execution_count": 84,
   "id": "b290e628",
   "metadata": {},
   "outputs": [
    {
     "name": "stdout",
     "output_type": "stream",
     "text": [
      "157/157 [==============================] - 1s 4ms/step - loss: 1.3154 - accuracy: 0.5470\n"
     ]
    },
    {
     "data": {
      "text/plain": [
       "[1.3153959512710571, 0.546999990940094]"
      ]
     },
     "execution_count": 84,
     "metadata": {},
     "output_type": "execute_result"
    }
   ],
   "source": [
    "model = keras.models.load_model('best_model_bn.h5')\n",
    "model.evaluate(X_valid, y_valid)"
   ]
  },
  {
   "cell_type": "markdown",
   "id": "ec86705c",
   "metadata": {},
   "source": [
    "Try replacing Batch Normalization with SELU, and make the necessary adjustements to ensure the network self-normalizes (i.e., standardize the input features, use LeCun normal initialization, make sure the DNN contains only a sequence of dense layers, etc.)."
   ]
  },
  {
   "cell_type": "code",
   "execution_count": 85,
   "id": "57700453",
   "metadata": {},
   "outputs": [],
   "source": [
    "model = keras.models.Sequential()\n",
    "model.add(keras.layers.Flatten(input_shape=[32, 32, 3]))\n",
    "model.add(keras.layers.BatchNormalization())\n",
    "\n",
    "for i in range(20):\n",
    "    model.add(keras.layers.Dense(100, activation=\"selu\", kernel_initializer=\"lecun_normal\"))\n",
    "    \n",
    "model.add(keras.layers.Dense(10, activation=\"softmax\"))"
   ]
  },
  {
   "cell_type": "code",
   "execution_count": 86,
   "id": "2d444087",
   "metadata": {},
   "outputs": [
    {
     "name": "stdout",
     "output_type": "stream",
     "text": [
      "Epoch 1/100\n",
      "1407/1407 [==============================] - 23s 14ms/step - loss: 2.0845 - accuracy: 0.2563 - val_loss: 1.7954 - val_accuracy: 0.3498\n",
      "Epoch 2/100\n",
      "1407/1407 [==============================] - 21s 15ms/step - loss: 1.7699 - accuracy: 0.3671 - val_loss: 1.7334 - val_accuracy: 0.3734\n",
      "Epoch 3/100\n",
      "1407/1407 [==============================] - 20s 14ms/step - loss: 1.6737 - accuracy: 0.4081 - val_loss: 1.7089 - val_accuracy: 0.3850\n",
      "Epoch 4/100\n",
      "1407/1407 [==============================] - 20s 14ms/step - loss: 1.6033 - accuracy: 0.4336 - val_loss: 1.6333 - val_accuracy: 0.4244\n",
      "Epoch 5/100\n",
      "1407/1407 [==============================] - 21s 15ms/step - loss: 1.5523 - accuracy: 0.4495 - val_loss: 1.5886 - val_accuracy: 0.4384\n",
      "Epoch 6/100\n",
      "1407/1407 [==============================] - 21s 15ms/step - loss: 1.5050 - accuracy: 0.4727 - val_loss: 1.5064 - val_accuracy: 0.4732\n",
      "Epoch 7/100\n",
      "1407/1407 [==============================] - 21s 15ms/step - loss: 1.4593 - accuracy: 0.4900 - val_loss: 1.5296 - val_accuracy: 0.4612\n",
      "Epoch 8/100\n",
      "1407/1407 [==============================] - 21s 15ms/step - loss: 1.4265 - accuracy: 0.5013 - val_loss: 1.4690 - val_accuracy: 0.4936\n",
      "Epoch 9/100\n",
      "1407/1407 [==============================] - 21s 15ms/step - loss: 1.4016 - accuracy: 0.5093 - val_loss: 1.4808 - val_accuracy: 0.4792\n",
      "Epoch 10/100\n",
      "1407/1407 [==============================] - 20s 14ms/step - loss: 1.3721 - accuracy: 0.5205 - val_loss: 1.4950 - val_accuracy: 0.4766\n",
      "Epoch 11/100\n",
      "1407/1407 [==============================] - 20s 14ms/step - loss: 1.3564 - accuracy: 0.5295 - val_loss: 1.4984 - val_accuracy: 0.4902\n",
      "Epoch 12/100\n",
      "1407/1407 [==============================] - 20s 14ms/step - loss: 1.3395 - accuracy: 0.5306 - val_loss: 1.4586 - val_accuracy: 0.4970\n",
      "Epoch 13/100\n",
      "1407/1407 [==============================] - 20s 14ms/step - loss: 1.3084 - accuracy: 0.5410 - val_loss: 1.4414 - val_accuracy: 0.5042\n",
      "Epoch 14/100\n",
      "1407/1407 [==============================] - 20s 14ms/step - loss: 1.2903 - accuracy: 0.5511 - val_loss: 1.4428 - val_accuracy: 0.5126\n",
      "Epoch 15/100\n",
      "1407/1407 [==============================] - 20s 14ms/step - loss: 1.2748 - accuracy: 0.5563 - val_loss: 1.4610 - val_accuracy: 0.5068\n",
      "Epoch 16/100\n",
      "1407/1407 [==============================] - 20s 15ms/step - loss: 1.2553 - accuracy: 0.5635 - val_loss: 1.4403 - val_accuracy: 0.5118\n",
      "Epoch 17/100\n",
      "1407/1407 [==============================] - 20s 14ms/step - loss: 1.2361 - accuracy: 0.5684 - val_loss: 1.4616 - val_accuracy: 0.5100\n",
      "Epoch 18/100\n",
      "1407/1407 [==============================] - 20s 14ms/step - loss: 1.2182 - accuracy: 0.5783 - val_loss: 1.4437 - val_accuracy: 0.5120\n",
      "Epoch 19/100\n",
      "1407/1407 [==============================] - 20s 14ms/step - loss: 1.2178 - accuracy: 0.5777 - val_loss: 1.4563 - val_accuracy: 0.5066\n",
      "Epoch 20/100\n",
      "1407/1407 [==============================] - 20s 14ms/step - loss: 1.2686 - accuracy: 0.5641 - val_loss: 1.4736 - val_accuracy: 0.4924\n",
      "Epoch 21/100\n",
      "1407/1407 [==============================] - 20s 14ms/step - loss: 1.2537 - accuracy: 0.5584 - val_loss: 1.4641 - val_accuracy: 0.5028\n",
      "Epoch 22/100\n",
      "1407/1407 [==============================] - 20s 14ms/step - loss: 1.2019 - accuracy: 0.5774 - val_loss: 1.4695 - val_accuracy: 0.5184\n",
      "Epoch 23/100\n",
      "1407/1407 [==============================] - 21s 15ms/step - loss: 1.1635 - accuracy: 0.5922 - val_loss: 1.4776 - val_accuracy: 0.4980\n",
      "Epoch 24/100\n",
      "1407/1407 [==============================] - 20s 14ms/step - loss: 1.1622 - accuracy: 0.5944 - val_loss: 1.4255 - val_accuracy: 0.5216\n",
      "Epoch 25/100\n",
      "1407/1407 [==============================] - 20s 14ms/step - loss: 1.1533 - accuracy: 0.6015 - val_loss: 1.4399 - val_accuracy: 0.5210\n",
      "Epoch 26/100\n",
      "1407/1407 [==============================] - 20s 14ms/step - loss: 1.1342 - accuracy: 0.6059 - val_loss: 1.4923 - val_accuracy: 0.5030\n",
      "Epoch 27/100\n",
      "1407/1407 [==============================] - 20s 14ms/step - loss: 1.1383 - accuracy: 0.6068 - val_loss: 1.4559 - val_accuracy: 0.5122\n",
      "Epoch 28/100\n",
      "1407/1407 [==============================] - 20s 14ms/step - loss: 1.1291 - accuracy: 0.6080 - val_loss: 1.4650 - val_accuracy: 0.5000\n",
      "Epoch 29/100\n",
      "1407/1407 [==============================] - 21s 15ms/step - loss: 1.1268 - accuracy: 0.6111 - val_loss: 1.4718 - val_accuracy: 0.5180\n",
      "Epoch 30/100\n",
      "1407/1407 [==============================] - 25s 18ms/step - loss: 1.1141 - accuracy: 0.6145 - val_loss: 1.4856 - val_accuracy: 0.4870\n",
      "Epoch 31/100\n",
      "1407/1407 [==============================] - 25s 18ms/step - loss: 1.1215 - accuracy: 0.6087 - val_loss: 1.4525 - val_accuracy: 0.5152\n",
      "Epoch 32/100\n",
      "1407/1407 [==============================] - 19s 14ms/step - loss: 1.0809 - accuracy: 0.6279 - val_loss: 1.4727 - val_accuracy: 0.5188\n",
      "Epoch 33/100\n",
      "1407/1407 [==============================] - 20s 15ms/step - loss: 1.0757 - accuracy: 0.6282 - val_loss: 1.4820 - val_accuracy: 0.5256\n",
      "Epoch 34/100\n",
      "1407/1407 [==============================] - 20s 14ms/step - loss: 1.0690 - accuracy: 0.6293 - val_loss: 1.4653 - val_accuracy: 0.5252\n"
     ]
    },
    {
     "data": {
      "text/plain": [
       "<tensorflow.python.keras.callbacks.History at 0x1edbb851198>"
      ]
     },
     "execution_count": 86,
     "metadata": {},
     "output_type": "execute_result"
    }
   ],
   "source": [
    "optimizer = keras.optimizers.Nadam(lr=7e-4)\n",
    "model.compile(loss=keras.losses.sparse_categorical_crossentropy,\n",
    "             optimizer=optimizer,\n",
    "             metrics=[\"accuracy\"])\n",
    "\n",
    "es = keras.callbacks.EarlyStopping(patience=10)\n",
    "mc = keras.callbacks.ModelCheckpoint('best_model_selu.h5', save_best_only=True)\n",
    "\n",
    "model.fit(X_train, y_train, epochs=100,\n",
    "         validation_data=(X_valid, y_valid),\n",
    "         callbacks=[es, mc])"
   ]
  },
  {
   "cell_type": "code",
   "execution_count": 87,
   "id": "9028fc8e",
   "metadata": {},
   "outputs": [
    {
     "name": "stdout",
     "output_type": "stream",
     "text": [
      "157/157 [==============================] - 1s 3ms/step - loss: 1.4255 - accuracy: 0.5216\n"
     ]
    },
    {
     "data": {
      "text/plain": [
       "[1.425524115562439, 0.5216000080108643]"
      ]
     },
     "execution_count": 87,
     "metadata": {},
     "output_type": "execute_result"
    }
   ],
   "source": [
    "model = keras.models.load_model(\"best_model_selu.h5\")\n",
    "model.evaluate(X_valid, y_valid)"
   ]
  },
  {
   "cell_type": "markdown",
   "id": "4a194d86",
   "metadata": {},
   "source": [
    "Try regularizing the model with alpha dropout. Then, without retraining your model, see if you can achieve better accuracy using MC Dropout."
   ]
  },
  {
   "cell_type": "code",
   "execution_count": 88,
   "id": "d5c5272c",
   "metadata": {},
   "outputs": [
    {
     "name": "stdout",
     "output_type": "stream",
     "text": [
      "Epoch 1/100\n",
      "1407/1407 [==============================] - 22s 14ms/step - loss: 2.2663 - accuracy: 0.1698 - val_loss: 1.9592 - val_accuracy: 0.2690\n",
      "Epoch 2/100\n",
      "1407/1407 [==============================] - 19s 13ms/step - loss: 1.9198 - accuracy: 0.2830 - val_loss: 2.5189 - val_accuracy: 0.2388\n",
      "Epoch 3/100\n",
      "1407/1407 [==============================] - 20s 14ms/step - loss: 1.8551 - accuracy: 0.3226 - val_loss: 1.9948 - val_accuracy: 0.2848\n",
      "Epoch 4/100\n",
      "1407/1407 [==============================] - 19s 13ms/step - loss: 1.8017 - accuracy: 0.3441 - val_loss: 1.8362 - val_accuracy: 0.3320\n",
      "Epoch 5/100\n",
      "1407/1407 [==============================] - 19s 13ms/step - loss: 1.7498 - accuracy: 0.3611 - val_loss: 1.9326 - val_accuracy: 0.3304\n",
      "Epoch 6/100\n",
      "1407/1407 [==============================] - 17s 12ms/step - loss: 1.7086 - accuracy: 0.3772 - val_loss: 1.6919 - val_accuracy: 0.3960\n",
      "Epoch 7/100\n",
      "1407/1407 [==============================] - 19s 14ms/step - loss: 1.6741 - accuracy: 0.3960 - val_loss: 1.6942 - val_accuracy: 0.3954\n",
      "Epoch 8/100\n",
      "1407/1407 [==============================] - 20s 14ms/step - loss: 1.6464 - accuracy: 0.4054 - val_loss: 1.7103 - val_accuracy: 0.3952\n",
      "Epoch 9/100\n",
      "1407/1407 [==============================] - 19s 14ms/step - loss: 1.6397 - accuracy: 0.4095 - val_loss: 1.6298 - val_accuracy: 0.4250\n",
      "Epoch 10/100\n",
      "1407/1407 [==============================] - 17s 12ms/step - loss: 1.6130 - accuracy: 0.4188 - val_loss: 1.7087 - val_accuracy: 0.4040\n",
      "Epoch 11/100\n",
      "1407/1407 [==============================] - 19s 13ms/step - loss: 1.6037 - accuracy: 0.4234 - val_loss: 1.7196 - val_accuracy: 0.3970\n",
      "Epoch 12/100\n",
      "1407/1407 [==============================] - 19s 13ms/step - loss: 1.5970 - accuracy: 0.4253 - val_loss: 1.6825 - val_accuracy: 0.4034\n",
      "Epoch 13/100\n",
      "1407/1407 [==============================] - 19s 13ms/step - loss: 1.5746 - accuracy: 0.4352 - val_loss: 1.6708 - val_accuracy: 0.4180\n",
      "Epoch 14/100\n",
      "1407/1407 [==============================] - 18s 13ms/step - loss: 1.7189 - accuracy: 0.3801 - val_loss: 1.7054 - val_accuracy: 0.3806\n",
      "Epoch 15/100\n",
      "1407/1407 [==============================] - 18s 13ms/step - loss: 1.6730 - accuracy: 0.3993 - val_loss: 1.7429 - val_accuracy: 0.3880\n",
      "Epoch 16/100\n",
      "1407/1407 [==============================] - 18s 13ms/step - loss: 2.0712 - accuracy: 0.3969 - val_loss: 1.8392 - val_accuracy: 0.3402\n",
      "Epoch 17/100\n",
      "1407/1407 [==============================] - 18s 13ms/step - loss: 1.7173 - accuracy: 0.3758 - val_loss: 1.7159 - val_accuracy: 0.3892\n",
      "Epoch 18/100\n",
      "1407/1407 [==============================] - 18s 13ms/step - loss: 1.6531 - accuracy: 0.4004 - val_loss: 1.6748 - val_accuracy: 0.3992\n",
      "Epoch 19/100\n",
      "1407/1407 [==============================] - 18s 13ms/step - loss: 1.6172 - accuracy: 0.4184 - val_loss: 1.6612 - val_accuracy: 0.4110\n"
     ]
    },
    {
     "data": {
      "text/plain": [
       "<tensorflow.python.keras.callbacks.History at 0x1eddc651668>"
      ]
     },
     "execution_count": 88,
     "metadata": {},
     "output_type": "execute_result"
    }
   ],
   "source": [
    "model = keras.models.Sequential()\n",
    "model.add(keras.layers.Flatten(input_shape=[32, 32, 3]))\n",
    "\n",
    "for i in range(20):\n",
    "    model.add(keras.layers.Dense(100, activation=\"selu\", kernel_initializer=\"lecun_normal\"))\n",
    "\n",
    "model.add(keras.layers.AlphaDropout(rate=0.1))\n",
    "model.add(keras.layers.Dense(10, activation=\"softmax\"))\n",
    "\n",
    "optimizer = keras.optimizers.Nadam(lr=5e-4)\n",
    "model.compile(loss=keras.losses.sparse_categorical_crossentropy,\n",
    "             optimizer=optimizer,\n",
    "             metrics=[\"accuracy\"])\n",
    "\n",
    "es = keras.callbacks.EarlyStopping(patience=10)\n",
    "mc = keras.callbacks.ModelCheckpoint('alpha_dropout.h5', save_best_only=True)\n",
    "\n",
    "model.fit(X_train, y_train, epochs=100,\n",
    "         validation_data=(X_valid, y_valid),\n",
    "         callbacks=[es, mc])"
   ]
  },
  {
   "cell_type": "code",
   "execution_count": 89,
   "id": "ddb7b418",
   "metadata": {},
   "outputs": [
    {
     "name": "stdout",
     "output_type": "stream",
     "text": [
      "157/157 [==============================] - 1s 3ms/step - loss: 1.6298 - accuracy: 0.4250\n"
     ]
    },
    {
     "data": {
      "text/plain": [
       "[1.6297880411148071, 0.42500001192092896]"
      ]
     },
     "execution_count": 89,
     "metadata": {},
     "output_type": "execute_result"
    }
   ],
   "source": [
    "model = keras.models.load_model('alpha_dropout.h5')\n",
    "model.evaluate(X_valid, y_valid)"
   ]
  },
  {
   "cell_type": "code",
   "execution_count": 90,
   "id": "e08dab7c",
   "metadata": {},
   "outputs": [],
   "source": [
    "class MCALphaDropout(keras.layers.AlphaDropout):\n",
    "    def call(self, inputs):\n",
    "        return super().call(inputs, training=True)"
   ]
  },
  {
   "cell_type": "code",
   "execution_count": 92,
   "id": "29e84515",
   "metadata": {},
   "outputs": [],
   "source": [
    "mc_model = keras.models.Sequential([\n",
    "    MCALphaDropout(layer.rate) if isinstance(layer, keras.layers.AlphaDropout) else layer\n",
    "    for layer in model.layers\n",
    "])"
   ]
  },
  {
   "cell_type": "code",
   "execution_count": 93,
   "id": "44783fe8",
   "metadata": {},
   "outputs": [],
   "source": [
    "def mc_dropout_predict_probas(mc_model, X, n_samples=10):\n",
    "    Y_probas = [mc_model.predict(X) for sample in range(n_samples)]\n",
    "    return np.mean(Y_probas, axis=0)\n",
    "\n",
    "def mc_dropout_predict_classes(mc_model, X, n_samples=10):\n",
    "    Y_probas = mc_dropout_predict_probas(mc_model, X, n_samples)\n",
    "    return np.argmax(Y_probas, axis=1)"
   ]
  },
  {
   "cell_type": "code",
   "execution_count": 94,
   "id": "f7430c3a",
   "metadata": {},
   "outputs": [
    {
     "data": {
      "text/plain": [
       "0.4254"
      ]
     },
     "execution_count": 94,
     "metadata": {},
     "output_type": "execute_result"
    }
   ],
   "source": [
    "keras.backend.clear_session()\n",
    "tf.random.set_seed(42)\n",
    "np.random.seed(42)\n",
    "\n",
    "y_pred = mc_dropout_predict_classes(mc_model, X_valid)\n",
    "accuracy = np.mean(y_pred == y_valid[:, 0])\n",
    "accuracy"
   ]
  },
  {
   "cell_type": "code",
   "execution_count": null,
   "id": "0bf6c20b",
   "metadata": {},
   "outputs": [],
   "source": []
  }
 ],
 "metadata": {
  "kernelspec": {
   "display_name": "Python 3",
   "language": "python",
   "name": "python3"
  },
  "language_info": {
   "codemirror_mode": {
    "name": "ipython",
    "version": 3
   },
   "file_extension": ".py",
   "mimetype": "text/x-python",
   "name": "python",
   "nbconvert_exporter": "python",
   "pygments_lexer": "ipython3",
   "version": "3.7.10"
  }
 },
 "nbformat": 4,
 "nbformat_minor": 5
}
